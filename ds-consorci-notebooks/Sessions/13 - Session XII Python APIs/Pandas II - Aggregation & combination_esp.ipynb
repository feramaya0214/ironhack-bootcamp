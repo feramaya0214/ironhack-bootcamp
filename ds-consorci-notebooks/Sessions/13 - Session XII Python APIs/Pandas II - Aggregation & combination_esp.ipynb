{
 "cells": [
  {
   "cell_type": "markdown",
   "id": "b823de73",
   "metadata": {
    "toc": true
   },
   "source": [
    "<h1>Tabla de contenidos<span class=\"tocSkip\"></span></h1>\n",
    "<div class=\"toc\"><ul class=\"toc-item\"><li><span><a href=\"#Data-aggregation\" data-toc-modified-id=\"Data-aggregation-1\"><span class=\"toc-item-num\">1&nbsp;&nbsp;</span>Data aggregation</a></span><ul class=\"toc-item\"><li><span><a href=\"#groupby\" data-toc-modified-id=\"groupby-1.1\"><span class=\"toc-item-num\">1.1&nbsp;&nbsp;</span>groupby</a></span><ul class=\"toc-item\"><li><span><a href=\"#groupby-&amp;-aggregate\" data-toc-modified-id=\"groupby-&amp;-aggregate-1.1.1\"><span class=\"toc-item-num\">1.1.1&nbsp;&nbsp;</span>groupby &amp; aggregate</a></span></li></ul></li><li><span><a href=\"#Pivot-Tables\" data-toc-modified-id=\"Pivot-Tables-1.2\"><span class=\"toc-item-num\">1.2&nbsp;&nbsp;</span>Pivot Tables</a></span></li><li><span><a href=\"#Differences-between-pivot-table-and-groupby-function\" data-toc-modified-id=\"Differences-between-pivot-table-and-groupby-function-1.3\"><span class=\"toc-item-num\">1.3&nbsp;&nbsp;</span>Differences between pivot table and groupby function</a></span></li><li><span><a href=\"#crosstab\" data-toc-modified-id=\"crosstab-1.4\"><span class=\"toc-item-num\">1.4&nbsp;&nbsp;</span>crosstab</a></span></li></ul></li><li><span><a href=\"#Data-combination:-mixing-dataframes\" data-toc-modified-id=\"Data-combination:-mixing-dataframes-2\"><span class=\"toc-item-num\">2&nbsp;&nbsp;</span>Data combination: mixing dataframes</a></span><ul class=\"toc-item\"><li><span><a href=\"#Concat:-two-things-together\" data-toc-modified-id=\"Concat:-two-things-together-2.1\"><span class=\"toc-item-num\">2.1&nbsp;&nbsp;</span>Concat: two things together</a></span><ul class=\"toc-item\"><li><span><a href=\"#Concatenating-on-axis-0-(rows)\" data-toc-modified-id=\"Concatenating-on-axis-0-(rows)-2.1.1\"><span class=\"toc-item-num\">2.1.1&nbsp;&nbsp;</span>Concatenating on axis 0 (rows)</a></span></li><li><span><a href=\"#Concatenating-on-axis-1-(columns)\" data-toc-modified-id=\"Concatenating-on-axis-1-(columns)-2.1.2\"><span class=\"toc-item-num\">2.1.2&nbsp;&nbsp;</span>Concatenating on axis 1 (columns)</a></span></li></ul></li><li><span><a href=\"#Merge:-related-columns\" data-toc-modified-id=\"Merge:-related-columns-2.2\"><span class=\"toc-item-num\">2.2&nbsp;&nbsp;</span>Merge: related columns</a></span><ul class=\"toc-item\"><li><span><a href=\"#LEFT-Merge\" data-toc-modified-id=\"LEFT-Merge-2.2.1\"><span class=\"toc-item-num\">2.2.1&nbsp;&nbsp;</span>LEFT Merge</a></span></li><li><span><a href=\"#RIGHT-Merge\" data-toc-modified-id=\"RIGHT-Merge-2.2.2\"><span class=\"toc-item-num\">2.2.2&nbsp;&nbsp;</span>RIGHT Merge</a></span></li><li><span><a href=\"#INNER-Merge\" data-toc-modified-id=\"INNER-Merge-2.2.3\"><span class=\"toc-item-num\">2.2.3&nbsp;&nbsp;</span>INNER Merge</a></span></li><li><span><a href=\"#OUTER-Merge\" data-toc-modified-id=\"OUTER-Merge-2.2.4\"><span class=\"toc-item-num\">2.2.4&nbsp;&nbsp;</span>OUTER Merge</a></span></li></ul></li><li><span><a href=\"#Merging-&amp;-Concatenating-in-two-different-columns\" data-toc-modified-id=\"Merging-&amp;-Concatenating-in-two-different-columns-2.3\"><span class=\"toc-item-num\">2.3&nbsp;&nbsp;</span>Merging &amp; Concatenating in two different columns</a></span><ul class=\"toc-item\"><li><span><a href=\"#Concatenating-in-two-different-columns\" data-toc-modified-id=\"Concatenating-in-two-different-columns-2.3.1\"><span class=\"toc-item-num\">2.3.1&nbsp;&nbsp;</span>Concatenating in two different columns</a></span></li><li><span><a href=\"#Merging-in-two-different-columns\" data-toc-modified-id=\"Merging-in-two-different-columns-2.3.2\"><span class=\"toc-item-num\">2.3.2&nbsp;&nbsp;</span>Merging in two different columns</a></span></li></ul></li><li><span><a href=\"#Join:-relating-index\" data-toc-modified-id=\"Join:-relating-index-2.4\"><span class=\"toc-item-num\">2.4&nbsp;&nbsp;</span>Join: relating index</a></span></li><li><span><a href=\"#Differences-between-join-&amp;-merge\" data-toc-modified-id=\"Differences-between-join-&amp;-merge-2.5\"><span class=\"toc-item-num\">2.5&nbsp;&nbsp;</span>Differences between join &amp; merge</a></span></li></ul></li><li><span><a href=\"#Pandas-usual-methods\" data-toc-modified-id=\"Pandas-usual-methods-3\"><span class=\"toc-item-num\">3&nbsp;&nbsp;</span>Pandas usual methods</a></span></li><li><span><a href=\"#Further-materials\" data-toc-modified-id=\"Further-materials-4\"><span class=\"toc-item-num\">4&nbsp;&nbsp;</span>Further materials</a></span></li></ul></div>"
   ]
  },
  {
   "cell_type": "markdown",
   "id": "ad2d0378",
   "metadata": {},
   "source": [
    "![](https://miro.medium.com/max/1400/1*6d5dw6dPhy4vBp2vRW6uzw.webp)"
   ]
  },
  {
   "cell_type": "markdown",
   "id": "5b4670f9",
   "metadata": {},
   "source": [
    "Primero, importamos las librerías principales:"
   ]
  },
  {
   "cell_type": "code",
   "execution_count": null,
   "id": "cbfec44d",
   "metadata": {},
   "outputs": [],
   "source": [
    "import pandas as pd\n",
    "import numpy as np"
   ]
  },
  {
   "cell_type": "markdown",
   "id": "6af75b7d",
   "metadata": {},
   "source": [
    "Cargamos un nuevo dataset."
   ]
  },
  {
   "cell_type": "code",
   "execution_count": null,
   "id": "998423db",
   "metadata": {},
   "outputs": [],
   "source": [
    "df = pd.read_csv(\"../datasets/employees.csv\")"
   ]
  },
  {
   "cell_type": "markdown",
   "id": "3d2050b9",
   "metadata": {},
   "source": [
    "what is it about? Let's look at it all together:"
   ]
  },
  {
   "cell_type": "code",
   "execution_count": null,
   "id": "3fcc62c6",
   "metadata": {},
   "outputs": [],
   "source": [
    "# time to code"
   ]
  },
  {
   "cell_type": "markdown",
   "id": "6cc1f24d",
   "metadata": {},
   "source": [
    "## Data aggregation\n",
    "\n",
    "La agregación de datos es una técnica fundamental en el análisis de datos que implica agrupar y resumir datos para obtener información y tomar decisiones informadas. En esta sección, exploraremos métodos esenciales de Pandas para la agregación de datos, incluyendo `groupby`, `pivot_table` y `crosstab`.\n",
    "\n",
    "Estas técnicas son particularmente útiles cuando se trata de grandes conjuntos de datos o cuando necesitas resumir datos a través de diferentes categorías o dimensiones. Ya sea que quieras calcular estadísticas para grupos específicos, crear tablas resumen o analizar relaciones entre variables, los métodos de agregación de datos en Pandas proporcionan las herramientas para agilizar tu análisis.\n",
    "\n",
    "Vamos a sumergirnos en cada uno de estos métodos y descubrir cómo pueden ayudarte a descubrir patrones y tendencias significativas dentro de tus datos.\n",
    "\n",
    "### groupby\n",
    "\n",
    "Pandas GroupBy es una función poderosa y versátil en Python que es indispensable para la manipulación y análisis de datos. Nos permite dividir un DataFrame en grupos separados basados en uno o más criterios y realizar varios cálculos sobre estos grupos para un análisis profundo.\n",
    "\n",
    "El concepto es sencillo: seleccionas un DataFrame, especificas las categorías o criterios por los cuales quieres agrupar tus datos, y luego aplicas funciones de agregación a cada grupo. Estas funciones de agregación pueden incluir cálculos como sumar, promediar, contar, o incluso funciones definidas por el usuario, dependiendo de tus objetivos de análisis.\n",
    "\n",
    "Las operaciones de GroupBy son invaluables para tareas como resumir datos, explorar patrones dentro de grupos específicos, o comparar diferentes segmentos de tu conjunto de datos. Ya estés trabajando con datos de ventas, comportamiento del cliente, o cualquier otro tipo de datos estructurados, Pandas GroupBy es tu herramienta de elección.\n",
    "\n",
    "Aquí tienes una sintaxis básica para usar GroupBy:\n",
    "\n",
    "`df[subset].groupby(category).aggregation()`\n",
    "\n",
    "Para profundizar en las capacidades y opciones de Pandas GroupBy, puedes referirte a la documentación oficial [aquí](https://pandas.pydata.org/docs/reference/api/pandas.DataFrame.groupby.html).\n"
   ]
  },
  {
   "cell_type": "markdown",
   "id": "e36c6bb3",
   "metadata": {},
   "source": [
    "`groupby the departments and their mean age`"
   ]
  },
  {
   "cell_type": "code",
   "execution_count": null,
   "id": "5c3877a0",
   "metadata": {},
   "outputs": [],
   "source": [
    "# Hay dos formas de hacerlo (1st)\n",
    "df[[\"Age\", \"Department\"]].groupby(\"Department\").mean()"
   ]
  },
  {
   "cell_type": "code",
   "execution_count": null,
   "id": "7404ca81",
   "metadata": {},
   "outputs": [],
   "source": [
    "# Hay dos formas de hacerlo (2nd)\n",
    "df[[\"Age\", \"Department\"]].groupby(\"Department\").agg(\"mean\")"
   ]
  },
  {
   "cell_type": "markdown",
   "id": "a968b6e9",
   "metadata": {},
   "source": [
    "`groupby the departments and their maximum age`"
   ]
  },
  {
   "cell_type": "code",
   "execution_count": null,
   "id": "90b4e667",
   "metadata": {},
   "outputs": [],
   "source": [
    "# Hay dos formas de hacerlo (1st)\n",
    "df[[\"Age\", \"Department\"]].groupby(\"Department\").agg({\"Age\":\"max\"})"
   ]
  },
  {
   "cell_type": "code",
   "execution_count": null,
   "id": "62424b4f",
   "metadata": {},
   "outputs": [],
   "source": [
    "# Hay dos formas de hacerlo (2nd)\n",
    "df[[\"Age\", \"Department\"]].groupby(\"Department\").max()"
   ]
  },
  {
   "cell_type": "markdown",
   "id": "28133159",
   "metadata": {},
   "source": [
    "`groupby the departments and their min age`"
   ]
  },
  {
   "cell_type": "code",
   "execution_count": null,
   "id": "8ed7f1d0",
   "metadata": {},
   "outputs": [],
   "source": [
    "# Hay dos formas de hacerlo  (1st)\n",
    "df[[\"Age\", \"Department\"]].groupby(\"Department\").agg({\"Age\":\"min\"})"
   ]
  },
  {
   "cell_type": "code",
   "execution_count": null,
   "id": "1a966a5c",
   "metadata": {},
   "outputs": [],
   "source": [
    "# Hay dos formas de hacerlo  (2nd)\n",
    "df[[\"Age\", \"Department\"]].groupby(\"Department\").min()"
   ]
  },
  {
   "cell_type": "markdown",
   "id": "08947d4b",
   "metadata": {},
   "source": [
    "`groupby: 2+`: Diferentes campos de educación y sus salarios medios en cada uno de los departamentos"
   ]
  },
  {
   "cell_type": "code",
   "execution_count": null,
   "id": "c43ddaac",
   "metadata": {},
   "outputs": [],
   "source": [
    "df[[\"EducationField\", \"HourlyRate\", \"Department\"]].groupby(by=[\"Department\", \"EducationField\"]).agg({\"HourlyRate\":\"mean\"})"
   ]
  },
  {
   "cell_type": "code",
   "execution_count": null,
   "id": "ad439933",
   "metadata": {},
   "outputs": [],
   "source": [
    "df[[\"EducationField\", \"HourlyRate\", \"Department\"]].groupby(by=[\"EducationField\", \"Department\"]).agg({\"HourlyRate\":\"mean\"})"
   ]
  },
  {
   "cell_type": "markdown",
   "id": "13345cef",
   "metadata": {},
   "source": [
    "`more fields`"
   ]
  },
  {
   "cell_type": "code",
   "execution_count": null,
   "id": "b18336af",
   "metadata": {},
   "outputs": [],
   "source": [
    "df[[\"EducationField\", \"HourlyRate\", \"Department\", \"StandardHours\", \"Age\"]].groupby(by=[\"Department\", \"EducationField\"]).mean()"
   ]
  },
  {
   "cell_type": "markdown",
   "id": "7b533d07",
   "metadata": {},
   "source": [
    "#### groupby & aggregate"
   ]
  },
  {
   "cell_type": "markdown",
   "id": "4930acad",
   "metadata": {},
   "source": [
    "En Pandas, la función \"agg\" se utiliza para agregar datos dentro de los grupos creados mediante GroupBy. Permite aplicar múltiples funciones de agregación a la vez, ofreciendo un control detallado sobre el resumen de tus datos.\n",
    "\n",
    "Estas son algunas funciones de agregación comunes disponibles con \"agg\":\n",
    "- **mean**: Calcula el promedio de los valores en cada grupo.\n",
    "- **sum**: Suma todos los valores en cada grupo.\n",
    "- **count**: Cuenta el número de filas en cada grupo.\n",
    "\n",
    "Con \"agg\", puedes especificar estas y otras funciones de agregación, adaptando el resumen de tus datos a tus necesidades específicas de análisis. Esta capacidad es muy útil cuando necesitas obtener distintas estadísticas de tus datos agrupados al mismo tiempo.\n",
    "\n",
    "Para más detalles sobre la función \"agg\" y sus opciones avanzadas, puedes consultar la documentación oficial de Pandas [aquí](https://pandas.pydata.org/docs/reference/api/pandas.core.groupby.DataFrameGroupBy.aggregate.html).\n",
    "\n",
    "### Tablas dinámicas\n",
    "\n",
    "Las tablas dinámicas son esenciales en análisis de datos, especialmente cuando necesitas analizar y comparar varios aspectos de tu conjunto de datos de manera simultánea. Pandas ofrece la función `pivot_table`, que permite crear tablas dinámicas estilo hoja de cálculo dentro de un DataFrame.\n",
    "\n",
    "La función `pivot_table` acepta varios parámetros clave:\n",
    "- `df`: El DataFrame que deseas pivotar.\n",
    "- `values`: Las columnas que contienen los valores para agregar.\n",
    "- `index`: Las columnas que se convertirán en el nuevo índice de la tabla dinámica.\n",
    "- `columns`: Las columnas que se convertirán en las nuevas columnas de la tabla dinámica.\n",
    "- `aggfunc`: La función de agregación que se aplicará a los valores (el valor por defecto es 'mean').\n",
    "\n",
    "Al aplicar `pivot_table`, tu data se organiza en un formato más estructurado, facilitando operaciones de agregación como el cálculo de medias, sumas o conteos a través de diferentes grupos y dimensiones.\n",
    "\n",
    "Para una guía detallada sobre cuándo usar `groupby` en comparación con `pivot_table`, puedes revisar el siguiente artículo: [GroupBy vs. Pivot Table](https://towardsdatascience.com/a-comparison-of-groupby-and-pivot-in-pythons-pandas-module-527909e78d6b).\n",
    "\n",
    "Aprovechar las tablas dinámicas puede mejorar significativamente tu análisis de datos, ayudándote a descubrir insights en conjuntos de datos complejos.\n",
    "\n",
    "Para conocer más sobre `pivot_table` y sus opciones avanzadas, consulta la documentación oficial de Pandas [aquí](https://pandas.pydata.org/docs/reference/api/pandas.pivot_table.html).\n",
    "\n",
    "`tabla dinámica`: el departamento y sus edades medias"
   ]
  },
  {
   "cell_type": "code",
   "execution_count": null,
   "id": "8f601835",
   "metadata": {},
   "outputs": [],
   "source": [
    "df.head()"
   ]
  },
  {
   "cell_type": "code",
   "execution_count": null,
   "id": "a10c5545",
   "metadata": {},
   "outputs": [],
   "source": [
    "# Ejemplo, calculando media de edad por departamento\n",
    "df.pivot_table(\n",
    "    values = \"Age\",\n",
    "    index = \"Department\",\n",
    "    aggfunc = \"mean\"\n",
    ")"
   ]
  },
  {
   "cell_type": "markdown",
   "id": "1f17fa4b",
   "metadata": {},
   "source": [
    "Now, is your **turn**:"
   ]
  },
  {
   "cell_type": "markdown",
   "id": "2f4e6d7f",
   "metadata": {},
   "source": [
    "`pivot table`: el departamento y sus edades max"
   ]
  },
  {
   "cell_type": "code",
   "execution_count": null,
   "id": "08b920ab",
   "metadata": {},
   "outputs": [],
   "source": []
  },
  {
   "cell_type": "markdown",
   "id": "23fdbbe2",
   "metadata": {},
   "source": [
    "`pivot table`: el departamento y sus edades min"
   ]
  },
  {
   "cell_type": "code",
   "execution_count": null,
   "id": "2c804160",
   "metadata": {},
   "outputs": [],
   "source": []
  },
  {
   "cell_type": "markdown",
   "id": "4b08ccf2",
   "metadata": {},
   "source": [
    "`pivot table`: el departamento y media de edad"
   ]
  },
  {
   "cell_type": "code",
   "execution_count": null,
   "id": "6fc473f5",
   "metadata": {},
   "outputs": [],
   "source": []
  },
  {
   "cell_type": "markdown",
   "id": "d6e9e0c6",
   "metadata": {},
   "source": [
    "`multi-index pivot table`: salario máximo de los empleados por departamento y campo de educación."
   ]
  },
  {
   "cell_type": "code",
   "execution_count": null,
   "id": "ac9e009a",
   "metadata": {},
   "outputs": [],
   "source": [
    "# Example, calculating mean age by department and EducationField\n",
    "\n",
    "df.pivot_table (\n",
    "    values = \"MonthlyIncome\",\n",
    "    index = [\"Department\", \"EducationField\"],\n",
    "    aggfunc = \"max\"\n",
    ")"
   ]
  },
  {
   "cell_type": "markdown",
   "id": "9b715869",
   "metadata": {},
   "source": [
    "### crosstab\n",
    "\n",
    "En el análisis de datos, comprender las relaciones entre variables categóricas es a menudo crucial para obtener insights sobre tu conjunto de datos. Pandas ofrece una herramienta llamada `crosstab` que te ayuda a computar una simple tabulación cruzada de dos o más factores dentro de tu DataFrame.\n",
    "\n",
    "La función `pd.crosstab()` está diseñada para este propósito y es particularmente útil cuando quieres examinar la frecuencia o distribución de una variable categórica en relación con otra. Por defecto, computa una tabla de frecuencia, pero también puedes pasar un arreglo de valores y una función de agregación para análisis más avanzados.\n",
    "\n",
    "Sintaxys basica:\n",
    "```python\n",
    "pd.crosstab(df[column1], df[column2])\n",
    "```"
   ]
  },
  {
   "cell_type": "code",
   "execution_count": null,
   "id": "46987cae",
   "metadata": {},
   "outputs": [],
   "source": [
    "# Example I\n",
    "pd.crosstab(df[\"Department\"], df[\"EducationField\"])"
   ]
  },
  {
   "cell_type": "code",
   "execution_count": null,
   "id": "042fbd16",
   "metadata": {},
   "outputs": [],
   "source": [
    "# Example II\n",
    "pd.crosstab(df[\"Department\"], df[\"EducationField\"], df[\"MonthlyIncome\"], aggfunc=\"mean\")"
   ]
  },
  {
   "cell_type": "markdown",
   "id": "f465cda9",
   "metadata": {},
   "source": [
    "------------------------------------------------------------------------------------------------------------------------------------------------------------------------------------------------------------"
   ]
  },
  {
   "cell_type": "markdown",
   "id": "978c1560",
   "metadata": {},
   "source": [
    "## Combinación de datos: mezclando dataframes\n",
    "\n",
    "En el análisis de datos del mundo real, a menudo te encuentras con escenarios donde necesitas combinar datos de diferentes fuentes u organizarlos de manera diferente para realizar un análisis significativo. Pandas proporciona varios métodos potentes para fusionar, unir y concatenar DataFrames que te ayudan a gestionar este proceso de manera eficiente.\n",
    "\n",
    "Para una comprensión completa de estas técnicas, considera explorar los siguientes recursos:\n",
    "- [Real Python: Pandas Merge, Join, y Concat](https://realpython.com/pandas-merge-join-and-concat/)\n",
    "- [Documentación de Pandas: Fusión y Unión](https://pandas.pydata.org/pandas-docs/stable/user_guide/merging.html)\n",
    "\n",
    "### Concat: dos cosas juntas\n",
    "La concatenación es una de las operaciones fundamentales para combinar DataFrames. Con `pd.concat()`, puedes unir DataFrames a lo largo de un eje especificado, usualmente a lo largo del eje 0 (verticalmente), para apilarlos uno debajo del otro. Esto alinea las columnas basadas en sus etiquetas, lo que lo convierte en una herramienta valiosa para extender o añadir datos verticalmente.\n",
    "\n",
    "La sintaxis básica para la concatenación es la siguiente:\n",
    "```python\n",
    "result = pd.concat([df1, df2, ...], axis=0)\n",
    "```\n",
    "Aquí, `df1`, `df2`, y así sucesivamente son los DataFrames que quieres concatenar. El argumento `axis=0` asegura que la concatenación ocurra verticalmente, alineando las filas.\n",
    "\n",
    "Dominando la concatenación, puedes gestionar de manera eficiente conjuntos de datos que crecen con el tiempo o combinar datos de varias fuentes en un único DataFrame cohesivo. Esto es particularmente útil cuando se trata de datos de series temporales, archivos de registro u otras situaciones donde los datos se recopilan de manera incremental.\n",
    "\n",
    "Para profundizar más en la concatenación y explorar opciones más avanzadas, puedes referirte a los recursos proporcionados y la documentación oficial de Pandas sobre [pd.concat()](https://pandas.pydata.org/docs/reference/api/pandas.concat.html)."
   ]
  },
  {
   "cell_type": "code",
   "execution_count": null,
   "id": "ac484cd6",
   "metadata": {
    "scrolled": false
   },
   "outputs": [],
   "source": [
    "# Load some data\n",
    "df = pd.read_csv('https://raw.githubusercontent.com/justmarkham/DAT8/master/data/u.user',\n",
    "                             sep='|', \n",
    "                             index_col='user_id')"
   ]
  },
  {
   "cell_type": "code",
   "execution_count": null,
   "id": "2d63950f",
   "metadata": {
    "scrolled": true
   },
   "outputs": [],
   "source": [
    "df.head()"
   ]
  },
  {
   "cell_type": "code",
   "execution_count": null,
   "id": "d87b8ec8",
   "metadata": {},
   "outputs": [],
   "source": [
    "# Let's sample it\n",
    "first_df = df.sample(frac=0.1)\n",
    "second_df = df.sample(frac=0.1)"
   ]
  },
  {
   "cell_type": "code",
   "execution_count": null,
   "id": "ab6d6c47",
   "metadata": {},
   "outputs": [],
   "source": [
    "second_df"
   ]
  },
  {
   "cell_type": "code",
   "execution_count": null,
   "id": "9cb7c1d9",
   "metadata": {},
   "outputs": [],
   "source": [
    "second_df.shape"
   ]
  },
  {
   "cell_type": "markdown",
   "id": "0ac7695b",
   "metadata": {},
   "source": [
    "#### Concatenating on axis 0 (rows)"
   ]
  },
  {
   "cell_type": "code",
   "execution_count": null,
   "id": "2c6af3c4",
   "metadata": {},
   "outputs": [],
   "source": [
    "pd.concat([first_df, second_df], axis=0, keys=[\"Table 1\", \"Table 2\"])"
   ]
  },
  {
   "cell_type": "markdown",
   "id": "80517add",
   "metadata": {},
   "source": [
    "- Esta operación concatena los DataFrames `first_df` y `second_df` verticalmente (a lo largo de `axis=0`), lo que significa que los apila uno encima del otro.\n",
    "\n",
    "- El parámetro `keys` se utiliza para especificar un índice jerárquico para el DataFrame resultante. En este caso, estás dando a cada DataFrame original una etiqueta: \"Tabla 1\" y \"Tabla 2\".\n",
    "\n",
    "- Como resultado, la salida será un nuevo DataFrame con una estructura jerárquica (MultiIndex). Puedes pensar en ello como tener dos secciones etiquetadas \"Tabla 1\" y \"Tabla 2\", donde cada sección contiene los datos del respectivo DataFrame original."
   ]
  },
  {
   "cell_type": "markdown",
   "id": "7b5d00f5",
   "metadata": {},
   "source": [
    "#### Concatenating on axis 1 (columns)"
   ]
  },
  {
   "cell_type": "code",
   "execution_count": null,
   "id": "f7118492",
   "metadata": {},
   "outputs": [],
   "source": [
    "pd.concat([first_df, second_df], axis=1, keys=[\"left\", \"right\"])"
   ]
  },
  {
   "cell_type": "markdown",
   "id": "8274d6cf",
   "metadata": {},
   "source": [
    "- Esta operación concatena los DataFrames `first_df` y `second_df` horizontalmente (a lo largo de `axis=1`), lo que significa que los combina uno al lado del otro.\n",
    "\n",
    "- Similar a la primera operación, el parámetro `keys` se utiliza para etiquetar las columnas resultantes de cada DataFrame original. Aquí, las estás etiquetando como \"izquierda\" y \"derecha\".\n",
    "\n",
    "- La salida será un nuevo DataFrame donde las columnas están organizadas en dos secciones etiquetadas \"izquierda\" y \"derecha\", representando los datos de los respectivos DataFrames originales."
   ]
  },
  {
   "cell_type": "markdown",
   "id": "ccd65ff4",
   "metadata": {},
   "source": [
    "![sql joins](https://upload.wikimedia.org/wikipedia/commons/9/9d/SQL_Joins.svg)"
   ]
  },
  {
   "cell_type": "markdown",
   "id": "weekly-klein",
   "metadata": {},
   "source": [
    "### Merge: related columns\n",
    "\n",
    "La función `merge()` en Pandas es una herramienta poderosa cuando necesitas combinar filas de múltiples DataFrames basados en columnas relacionadas. Se utiliza principalmente para uniones al estilo de bases de datos donde quieres reunir datos de diferentes fuentes que comparten columnas clave comunes.\n",
    "\n",
    "**Entendiendo la Función `merge()`**:\n",
    "\n",
    "Puedes pensar en la función `merge()` como una manera de fusionar filas que comparten datos a través de columnas especificadas. Te permite realizar varios tipos de uniones, como uniones internas, externas, izquierdas y derechas, que determinan cómo se combinan las filas de ambos DataFrames.\n",
    "\n",
    "- **Unión Interna (Inner Join)**: Este tipo de unión devuelve solo las filas donde hay una coincidencia en ambos DataFrames basada en las columnas especificadas. Las filas sin coincidencia se excluyen.\n",
    "\n",
    "- **Unión Externa (Full Outer Join)**: Una unión externa devuelve todas las filas cuando hay una coincidencia en cualquiera de los DataFrames izquierdo o derecho. Las filas no emparejadas contendrán valores NaN para los datos faltantes.\n",
    "\n",
    "- **Unión Izquierda (Left Outer Join)**: Una unión izquierda devuelve todas las filas del DataFrame izquierdo y las filas emparejadas del DataFrame derecho. Las filas no emparejadas del DataFrame izquierdo aún se incluirán.\n",
    "\n",
    "- **Unión Derecha (Right Outer Join)**: A la inversa, una unión derecha devuelve todas las filas del DataFrame derecho y las filas emparejadas del DataFrame izquierdo. Las filas no emparejadas del DataFrame derecho aún se incluirán.\n",
    "\n",
    "**Uso y Sintaxis**:\n",
    "\n",
    "Aquí tienes un esquema básico de cómo usar la función `merge()`:\n",
    "\n",
    "```python\n",
    "merged_df = pd.merge(left_df, right_df, on='common_column', how='join_type')\n",
    "```\n",
    "- **Uso y Sintaxis:**\n",
    "\n",
    "  - `left_df`: El DataFrame izquierdo que quieres fusionar.\n",
    "  - `right_df`: El DataFrame derecho que quieres fusionar.\n",
    "  - `on`: La(s) columna(s) en las que quieres realizar la fusión. Estas columnas deberían existir en ambos DataFrames y servir como la(s) clave(s) para la operación de fusión.\n",
    "  - `how`: El tipo de unión que quieres realizar (por ejemplo, 'inner', 'outer', 'left', 'right').\n",
    "\n",
    "- **Beneficios de Usar `merge()`:**\n",
    "\n",
    "  - **Integración de Datos:** Merge ayuda a integrar datos de múltiples fuentes o tablas en un conjunto de datos único y comprensivo.\n",
    "\n",
    "  - **Análisis de Datos:** Simplifica el proceso de combinar información relacionada, facilitando el análisis de datos y la derivación de insights.\n",
    "\n",
    "  - **Operaciones de Base de Datos:** `merge()` se alinea con operaciones comunes de bases de datos como las uniones SQL, permitiendo a los analistas de datos aprovechar su conocimiento de SQL dentro de Pandas.\n",
    "\n",
    "  - **Consultas Complejas:** Puedes manejar relaciones de datos complejas y realizar consultas que involucren múltiples tablas de manera eficiente.\n",
    "\n",
    "Fusionar DataFrames usando `merge()` es una operación fundamental en la manipulación y análisis de datos, especialmente cuando se trata de conjuntos de datos del mundo real de diversas fuentes. Te proporciona la flexibilidad para controlar cómo se combinan los datos y te permite trabajar con relaciones de datos complejas.\n",
    "\n",
    "Para obtener información más detallada y opciones, puedes referirte a la documentación oficial de Pandas sobre [`merge()`](https://pandas.pydata.org/docs/reference/api/pandas.DataFrame.merge.html)."
   ]
  },
  {
   "cell_type": "markdown",
   "id": "d71c38f1",
   "metadata": {},
   "source": [
    "#### LEFT Merge"
   ]
  },
  {
   "cell_type": "code",
   "execution_count": null,
   "id": "550d1fa8",
   "metadata": {},
   "outputs": [],
   "source": [
    "from IPython.display import display_html "
   ]
  },
  {
   "cell_type": "code",
   "execution_count": null,
   "id": "453bc5f7",
   "metadata": {},
   "outputs": [],
   "source": [
    "df1 = pd.DataFrame(\n",
    "    {\n",
    "        \"key1\": [\"K0\", \"K0\", \"K1\", \"K2\"],\n",
    "        \"key2\": [\"K0\", \"K1\", \"K0\", \"K1\"],\n",
    "        \"A\": [\"A0\", \"A1\", \"A2\", \"A3\"],\n",
    "        \"B\": [\"B0\", \"B1\", \"B2\", \"B3\"],\n",
    "    }\n",
    ")\n",
    "\n",
    "\n",
    "df2 = pd.DataFrame(\n",
    "    {\n",
    "        \"key1\": [\"K0\", \"K1\", \"K1\", \"K2\"],\n",
    "        \"key2\": [\"K0\", \"K0\", \"K0\", \"K0\"],\n",
    "        \"C\": [\"C0\", \"C1\", \"C2\", \"C3\"],\n",
    "        \"D\": [\"D0\", \"D1\", \"D2\", \"D3\"],\n",
    "    }\n",
    ")\n",
    "\n",
    "df3 = pd.DataFrame(\n",
    "    {\n",
    "        \"key1\": [\"K90\", \"K1\", \"K1\", \"K2\"],\n",
    "        \"key2\": [\"K0\", \"K0\", \"K5\", \"K0\"],\n",
    "        \"C\": [\"C0\", \"C1\", \"C2\", \"C3\"],\n",
    "        \"Y\": [\"D0\", \"D70\", \"D2\", \"D5\"],\n",
    "    }\n",
    ")"
   ]
  },
  {
   "cell_type": "code",
   "execution_count": null,
   "id": "a0378289",
   "metadata": {},
   "outputs": [],
   "source": [
    "# Just showing tables\n",
    "df1_styler = df1.style.set_table_attributes(\"style='display:inline'\").set_caption('Left table')\n",
    "df2_styler = df2.style.set_table_attributes(\"style='display:inline'\").set_caption('Right table')\n",
    "display_html(df1_styler._repr_html_() + \" \" + df2_styler._repr_html_(), raw=True)"
   ]
  },
  {
   "cell_type": "code",
   "execution_count": null,
   "id": "f05fdd85",
   "metadata": {},
   "outputs": [],
   "source": [
    "# merge, default is inner\n",
    "pd.merge(df1, df2)"
   ]
  },
  {
   "cell_type": "code",
   "execution_count": null,
   "id": "793eb3cb",
   "metadata": {},
   "outputs": [],
   "source": [
    "# merges, now is a left\n",
    "pd.merge(df1, df2, how=\"left\")"
   ]
  },
  {
   "cell_type": "code",
   "execution_count": null,
   "id": "d0ed4fb2",
   "metadata": {},
   "outputs": [],
   "source": [
    "# merges, now is a right\n",
    "pd.merge(df1, df2, how=\"right\")"
   ]
  },
  {
   "cell_type": "code",
   "execution_count": null,
   "id": "05a42620",
   "metadata": {},
   "outputs": [],
   "source": [
    "# merge, now is inner\n",
    "pd.merge(df1, df2, how=\"inner\")"
   ]
  },
  {
   "cell_type": "code",
   "execution_count": null,
   "id": "ade57982",
   "metadata": {},
   "outputs": [],
   "source": [
    "# merge, now is outer\n",
    "outer_merge = pd.merge(df1, df2, how=\"outer\")"
   ]
  },
  {
   "cell_type": "markdown",
   "id": "e6ce32d1",
   "metadata": {},
   "source": [
    "### Merging & Concatenating in two different columns"
   ]
  },
  {
   "cell_type": "code",
   "execution_count": null,
   "id": "fc41cccc",
   "metadata": {},
   "outputs": [],
   "source": [
    "df1_docs = pd.DataFrame({'Locations': ['Spain', 'France', 'Portugal', 'Spain'],\n",
    "                    'city': [\"Barcelona\", \"Paris\", \"Lisbon\", \"Madrid\"]})\n",
    "df2_docs = pd.DataFrame({'More locations': ['Spain', 'France', 'Portugal', 'Spain'],\n",
    "                    'city': [\"Madrid\", \"Lyon\", \"Porto\", \"Albacete\"]})"
   ]
  },
  {
   "cell_type": "markdown",
   "id": "0dda9802",
   "metadata": {},
   "source": [
    "#### Concatenating in two different columns"
   ]
  },
  {
   "cell_type": "code",
   "execution_count": null,
   "id": "af74f523",
   "metadata": {},
   "outputs": [],
   "source": [
    "pd.concat([df1_docs, df2_docs], axis=1, keys=[\"1st table\", \"2nd table\"])"
   ]
  },
  {
   "cell_type": "markdown",
   "id": "156a8141",
   "metadata": {},
   "source": [
    "#### Merging in two different columns"
   ]
  },
  {
   "cell_type": "code",
   "execution_count": null,
   "id": "db10f001",
   "metadata": {},
   "outputs": [],
   "source": [
    "df1_docs.merge(df2_docs, left_on='Locations', right_on='More locations', suffixes = [\"_fromlastyear\", \"_fromthisyear\"])"
   ]
  },
  {
   "cell_type": "code",
   "execution_count": null,
   "id": "803d98d0",
   "metadata": {},
   "outputs": [],
   "source": [
    "df1_docs.merge(df2_docs,  left_on='Locations', right_on='More locations', suffixes = [\"_fromleft\", \"_fromright\"])"
   ]
  },
  {
   "cell_type": "markdown",
   "id": "5e952e34",
   "metadata": {
    "lang": "en"
   },
   "source": [
    "### Join: relating index\n",
    "The join, unlike the merge, will join the dataframes and where there are no records in the \"index\" it will put NaN"
   ]
  },
  {
   "cell_type": "code",
   "execution_count": null,
   "id": "7d4660ec",
   "metadata": {},
   "outputs": [],
   "source": [
    "import numpy as np\n",
    "import pandas as pd   \n",
    "from IPython.display import display_html "
   ]
  },
  {
   "cell_type": "code",
   "execution_count": null,
   "id": "e56efa8f",
   "metadata": {},
   "outputs": [],
   "source": [
    "left_df = pd.DataFrame({\"A\": [\"A0\", \"A1\", \"A2\"], \"B\": [\"B0\", \"B1\", \"B2\"]}, index=[\"K0\", \"K1\", \"K2\"])\n",
    "right_df = pd.DataFrame({\"C\": [\"C0\", \"C2\", \"C3\"], \"D\": [\"D0\", \"D2\", \"D3\"]}, index=[\"K0\", \"K2\", \"K3\"])"
   ]
  },
  {
   "cell_type": "code",
   "execution_count": null,
   "id": "ff6c7cae",
   "metadata": {},
   "outputs": [],
   "source": [
    "left_df.join(right_df, how=\"inner\")"
   ]
  },
  {
   "cell_type": "markdown",
   "id": "f3ad1415",
   "metadata": {},
   "source": [
    "### Diferencias entre join y merge\n",
    "Al combinar DataFrames en Pandas, tienes dos métodos principales a tu disposición: `join()` y `merge()`. Cada método tiene su propio conjunto de características y casos de uso. A continuación, se presenta una comparación de estos dos métodos basada en diferentes características de unión:\n",
    "\n",
    "| Característica de Unión             | `join()` | `merge()` |\n",
    "|-------------------------------------|:--------:|:---------:|\n",
    "| Unión Interna (Inner Join)          |   Sí     |    Sí     |\n",
    "| Unión Izquierda (Left Join)         |   Sí     |    Sí     |\n",
    "| Unión Derecha (Right Join)          |   Sí     |    Sí     |\n",
    "| Unión Externa (Outer Join)          |   Sí     |    Sí     |\n",
    "| Unión Cruzada (Cross Join)          |    X     |    Sí     |\n",
    "| Unión en Índices                    |   Sí     |    Sí     |\n",
    "| Unión en Columnas                   |    X     |    Sí     |\n",
    "| Izquierda en Columna, Derecha en Índice |   Sí  |    Sí     |\n",
    "| Izquierda en Índice, Derecha en Columna |    X  |    Sí     |\n",
    "\n",
    "**Explicación:**\n",
    "\n",
    "- **Unión Interna (Inner Join):** Tanto `join()` como `merge()` admiten uniones internas, que devuelven solo las filas con valores coincidentes en ambos DataFrames.\n",
    "\n",
    "- **Unión Izquierda (Left Join):** Ambos métodos permiten uniones izquierdas, que incluyen todas las filas del DataFrame izquierdo y las filas coincidentes del DataFrame derecho.\n",
    "\n",
    "- **Unión Derecha (Right Join):** Ambos métodos admiten uniones derechas, que incluyen todas las filas del DataFrame derecho y las filas coincidentes del DataFrame izquierdo.\n",
    "\n",
    "- **Unión Externa (Outer Join):** Ambos métodos permiten uniones externas, que incluyen todas las filas de ambos DataFrames, rellenando los valores faltantes con NaN donde sea necesario.\n",
    "\n",
    "- **Unión Cruzada (Cross Join):** Mientras que `merge()` puede realizar uniones cruzadas, `join()` no las admite. Las uniones cruzadas resultan en un producto cartesiano de filas entre dos DataFrames.\n",
    "\n",
    "- **Unión en Índices:** Tanto `join()` como `merge()` pueden realizar uniones basadas en el índice de los DataFrames.\n",
    "\n",
    "- **Unión en Columnas:** `merge()` permite unir DataFrames en columnas específicas, mientras que `join()` no ofrece esta capacidad.\n",
    "\n",
    "- **Izquierda en Columna, Derecha en Índice:** Ambos métodos admiten la unión en una columna del DataFrame izquierdo y el índice del DataFrame derecho.\n",
    "\n",
    "- **Izquierda en Índice, Derecha en Columna:** `merge()` puede unir en el índice del DataFrame izquierdo y una columna del DataFrame derecho, pero `join()` no ofrece esta opción.\n",
    "\n",
    "Esta comparación debería ayudarte a elegir el método apropiado basado en tus requisitos específicos de fusión."
   ]
  },
  {
   "cell_type": "markdown",
   "id": "1979ee71",
   "metadata": {},
   "source": [
    "## Business challenge: IronHack Delivery orders analysis (use pycharm)\n",
    "\n",
    "En este análisis, exploraremos un conjunto de datos que contiene información sobre pedidos de socios falsos dentro de la aplicación. Los socios falsos son tiendas no integradas directamente con Glovo, y nuestro equipo de contenido gestiona su catálogo de productos y precios. Este conjunto de datos proporciona detalles sobre los pedidos, discrepancias de pago y otra información relevante.\n",
    "\n",
    "1. Descripción del Conjunto de Datos\n",
    "    - `order_id`: Identificador único para cada pedido.\n",
    "    - `activation_time_local`: Hora local cuando se activó el pedido.\n",
    "    - `country_code`: Código de país para el pedido.\n",
    "    - `store_address`: Dirección de la tienda.\n",
    "    - `final_status`: El estado final del pedido.\n",
    "    - `payment_status`: El estado de pago del pedido.\n",
    "    - `products`: Número de productos en el pedido.\n",
    "    - `products_total`: Monto total en el momento de la compra en euros (€).\n",
    "    - `purchase_total_price`: Monto que el mensajero pagó en la tienda en euros (€).\n",
    "\n",
    "2. Antecedentes\n",
    "Los pedidos de socios falsos pueden exhibir discrepancias entre el monto total en el momento de la compra (`products_total`) y el monto que el mensajero paga en la tienda (`purchase_total_price`). Cuando `products_total` es menor que `purchase_total_price`, los clasificamos como \"pedidos no autorizados suficientemente\". Entender estas discrepancias es crucial para la transición de cobro contra entrega a un modelo de autorización y captura.\n",
    "\n",
    "3. Preguntas Clave\n",
    "Durante este proceso de Análisis Exploratorio de Datos (EDA), apuntamos a responder las siguientes preguntas:\n",
    "\n",
    "    1. ¿Qué porcentaje de pedidos no están suficientemente autorizados?\n",
    "    2. ¿Qué porcentaje de pedidos estarían correctamente autorizados con una autorización incremental del 20% sobre el monto en el momento de la compra?\n",
    "    3. ¿Existen diferencias en los porcentajes anteriores cuando se dividen por país?\n",
    "    4. Para los pedidos restantes fuera de la autorización incremental, ¿qué valores serían necesarios para capturar el monto restante?\n",
    "    5. ¿Cuáles son las tiendas más problemáticas en términos de pedidos y valor monetario?\n",
    "    6. Para los pedidos no autorizados suficientemente, ¿existe una correlación entre la diferencia de precio y las cancelaciones de pedidos? En otras palabras, ¿es más probable que un pedido sea cancelado a medida que aumenta la diferencia de precio?\n",
    "\n",
    "A través de este análisis, apuntamos a obtener insights sobre las fluctuaciones de precios de pedidos pasados y evaluar el riesgo asociado con la transición a un nuevo modelo de autorización.\n",
    "\n",
    "¡Sumérgete en el conjunto de datos y comienza a explorar!"
   ]
  },
  {
   "cell_type": "code",
   "execution_count": null,
   "id": "cc2e6c37",
   "metadata": {},
   "outputs": [],
   "source": [
    "# Load the dataset\n",
    "df = pd.read_csv(\"../datasets/fake_orders_test.csv\")"
   ]
  },
  {
   "cell_type": "markdown",
   "id": "bee1311c",
   "metadata": {},
   "source": [
    "# RECAP\n",
    "\n",
    "## Subconjuntos\n",
    "- Seleccionar columnas específicas:\n",
    "  - `df[[col1, col2]]`\n",
    "\n",
    "## Agreggations\n",
    "### Groupby\n",
    "- Realizar agregaciones basadas en una columna categórica:\n",
    "  - `df[[col1, col2]].groupby(CATEGORICAL).agg({QUANTITATIVE_1: \"mean\", QUANTITATIVE_2: \"max\"})`\n",
    "  - `df[[col1, col2]].groupby(CATEGORICAL).mean()`\n",
    "- Funciones de agregación comunes:\n",
    "  - count (conteo), mean (media), max (máximo), min (mínimo), median (mediana), std (desviación estándar), y más.\n",
    "\n",
    "### Pivot table\n",
    "- Crear tablas pivote para resumir datos:\n",
    "  - `df.pivot_table(values=\"MonthlyIncome\", index=\"Department\", aggfunc=\"mean\")`\n",
    "- Las tablas pivote ofrecen una forma concisa de agregar y comparar datos.\n",
    "\n",
    "### Crosstab\n",
    "- Calcular tabulaciones cruzadas para analizar la relación entre dos variables categóricas:\n",
    "  - El comportamiento predeterminado cuenta ocurrencias.\n",
    "  - Usa `aggfunc=\"mean\"` para agregar variables cuantitativas.\n",
    "  - Asegúrate de seleccionar variables apropiadas.\n",
    "\n",
    "## UNION & MERGE & CONCAT\n",
    "\n",
    "### Concatenación\n",
    "- Combinar DataFrames físicamente (no relacionalmente):\n",
    "  - Lado a lado: `concat` en `axis=1`.\n",
    "    - Usar cuando los DataFrames no comparten columnas o tienen una clave común.\n",
    "  - Arriba & abajo: `concat` en `axis=0` (añadiendo filas).\n",
    "    - Adecuado cuando los DataFrames comparten columnas.\n",
    "\n",
    "### Merge & Join (Pandas)\n",
    "- Merge: Combinar DataFrames basados en columnas comunes.\n",
    "- Join: Combinar DataFrames basados en índices comunes.\n",
    "- En SQL, las operaciones de unión se realizan sobre columnas.\n",
    "\n",
    "Estos puntos de recapitulación resumen operaciones clave para la manipulación y análisis de datos en Pandas. Puedes usar estas técnicas para seleccionar, agregar y combinar datos de manera eficiente, ayudándote a obtener insights de tus conjuntos de datos."
   ]
  },
  {
   "cell_type": "markdown",
   "id": "4f340806",
   "metadata": {
    "lang": "en"
   },
   "source": [
    "## Metodos usuales de pandas\n",
    "```python\n",
    "df.head() # prints the head, default 5 rows\n",
    "df.tail() # set the tail, default 5 rows\n",
    "df.describe() # statistical description\n",
    "df.info() # df information\n",
    "df.columns # show column\n",
    "df.index # show index\n",
    "df.dtypes # show column data types\n",
    "df.plot() # make a plot\n",
    "df.hist() # make a histogram\n",
    "df.col.value_counts() # counts the unique values ​​of a column\n",
    "df.col.unique() # returns unique values ​​from a column\n",
    "df.copy() # copies the df\n",
    "df.drop() # remove columns or rows (axis=0,1)\n",
    "df.dropna() # remove nulls\n",
    "df.fillna() # fills nulls\n",
    "df.shape # dimensions of the df\n",
    "df._get_numeric_data() # select numeric columns\n",
    "df.rename() # rename columns\n",
    "df.str.replace() # replace columns of strings\n",
    "df.astype(dtype='float32') # change the data type\n",
    "df.iloc[] # locate by index\n",
    "df.loc[] # locate by element\n",
    "df.transpose() # transposes the df\n",
    "df.T\n",
    "df.sample(n, frac) # sample from df\n",
    "df.col.sum() # sum of a column\n",
    "df.col.max() # maximum of a column\n",
    "df.col.min() # minimum of one column\n",
    "df[col] # select column\n",
    "df.col\n",
    "df.isnull() # null values\n",
    "df.isna()\n",
    "df.notna() # not null values\n",
    "df.drop_duplicates() # remove duplicates\n",
    "df.reset_index(inplace=True) # reset the index and overwrite\n",
    "```"
   ]
  },
  {
   "cell_type": "markdown",
   "id": "stylish-jefferson",
   "metadata": {},
   "source": [
    "## Más material\n",
    "\n",
    "* [Read the docs!](https://pandas.pydata.org/pandas-docs/stable/index.html)\n",
    "* [Cheatsheet](https://pandas.pydata.org/Pandas_Cheat_Sheet.pdf)\n",
    "* [Exercises to practice](https://github.com/guipsamora/pandas_exercises)\n",
    "* [More on merge, concat, and join](https://realpython.com/pandas-merge-join-and-concat/#pandas-join-combining-data-on-a-column-or-index). And [even more!](https://pandas.pydata.org/pandas-docs/stable/user_guide/merging.html)\n",
    " "
   ]
  }
 ],
 "metadata": {
  "kernelspec": {
   "display_name": "Python 3 (ipykernel)",
   "language": "python",
   "name": "python3"
  },
  "language_info": {
   "codemirror_mode": {
    "name": "ipython",
    "version": 3
   },
   "file_extension": ".py",
   "mimetype": "text/x-python",
   "name": "python",
   "nbconvert_exporter": "python",
   "pygments_lexer": "ipython3",
   "version": "3.9.13"
  },
  "nbTranslate": {
   "displayLangs": [
    "en",
    "es"
   ],
   "hotkey": "alt-a",
   "langInMainMenu": true,
   "sourceLang": "es",
   "targetLang": "en",
   "useGoogleTranslate": true
  },
  "toc": {
   "base_numbering": 1,
   "nav_menu": {},
   "number_sections": true,
   "sideBar": true,
   "skip_h1_title": true,
   "title_cell": "Table of Contents",
   "title_sidebar": "Contents",
   "toc_cell": true,
   "toc_position": {
    "height": "calc(100% - 180px)",
    "left": "10px",
    "top": "150px",
    "width": "269.766px"
   },
   "toc_section_display": true,
   "toc_window_display": false
  },
  "varInspector": {
   "cols": {
    "lenName": 16,
    "lenType": 16,
    "lenVar": 40
   },
   "kernels_config": {
    "python": {
     "delete_cmd_postfix": "",
     "delete_cmd_prefix": "del ",
     "library": "var_list.py",
     "varRefreshCmd": "print(var_dic_list())"
    },
    "r": {
     "delete_cmd_postfix": ") ",
     "delete_cmd_prefix": "rm(",
     "library": "var_list.r",
     "varRefreshCmd": "cat(var_dic_list()) "
    }
   },
   "types_to_exclude": [
    "module",
    "function",
    "builtin_function_or_method",
    "instance",
    "_Feature"
   ],
   "window_display": false
  }
 },
 "nbformat": 4,
 "nbformat_minor": 5
}
