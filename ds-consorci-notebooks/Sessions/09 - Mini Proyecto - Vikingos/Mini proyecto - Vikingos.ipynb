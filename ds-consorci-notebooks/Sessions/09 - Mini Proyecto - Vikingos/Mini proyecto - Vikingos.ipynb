{
 "cells": [
  {
   "cell_type": "code",
   "execution_count": 1,
   "id": "0fc8f069-8b29-4eb3-a11d-1498d26f35f2",
   "metadata": {},
   "outputs": [
    {
     "name": "stderr",
     "output_type": "stream",
     "text": [
      "..........\n",
      "----------------------------------------------------------------------\n",
      "Ran 10 tests in 0.005s\n",
      "\n",
      "OK\n"
     ]
    }
   ],
   "source": [
    "%run \"1-testsSoldier.py\""
   ]
  },
  {
   "cell_type": "code",
   "execution_count": 5,
   "id": "6446e57d-8b59-4fb6-a725-01463e00b519",
   "metadata": {},
   "outputs": [
    {
     "name": "stderr",
     "output_type": "stream",
     "text": [
      "...............\n",
      "----------------------------------------------------------------------\n",
      "Ran 15 tests in 0.007s\n",
      "\n",
      "OK\n"
     ]
    }
   ],
   "source": [
    "%run \"2-testsVikings.py\""
   ]
  },
  {
   "cell_type": "code",
   "execution_count": 7,
   "id": "d281e405-3017-422d-a214-6994b574010b",
   "metadata": {},
   "outputs": [
    {
     "name": "stderr",
     "output_type": "stream",
     "text": [
      "............\n",
      "----------------------------------------------------------------------\n",
      "Ran 12 tests in 0.007s\n",
      "\n",
      "OK\n"
     ]
    }
   ],
   "source": [
    "%run \"3-testsSaxons.py\""
   ]
  },
  {
   "cell_type": "code",
   "execution_count": 9,
   "id": "a2932de7-31b5-4213-9366-0aba93bbcae2",
   "metadata": {},
   "outputs": [
    {
     "name": "stderr",
     "output_type": "stream",
     "text": [
      "..........................\n",
      "----------------------------------------------------------------------\n",
      "Ran 26 tests in 0.012s\n",
      "\n",
      "OK\n"
     ]
    },
    {
     "name": "stdout",
     "output_type": "stream",
     "text": [
      "{'vikingArmy': [<vikingsClasses.Viking object at 0x0000016EB8677770>], 'saxonArmy': [<vikingsClasses.Saxon object at 0x0000016EB8A17890>]}\n"
     ]
    }
   ],
   "source": [
    "%run \"4-testsWar.py\""
   ]
  }
 ],
 "metadata": {
  "kernelspec": {
   "display_name": "Python 3 (ipykernel)",
   "language": "python",
   "name": "python3"
  },
  "language_info": {
   "codemirror_mode": {
    "name": "ipython",
    "version": 3
   },
   "file_extension": ".py",
   "mimetype": "text/x-python",
   "name": "python",
   "nbconvert_exporter": "python",
   "pygments_lexer": "ipython3",
   "version": "3.12.4"
  }
 },
 "nbformat": 4,
 "nbformat_minor": 5
}
