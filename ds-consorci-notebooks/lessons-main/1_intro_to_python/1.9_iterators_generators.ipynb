{
 "cells": [
  {
   "cell_type": "markdown",
   "id": "13aa017b",
   "metadata": {
    "toc": true
   },
   "source": [
    "<h1>Table of Contents<span class=\"tocSkip\"></span></h1>\n",
    "<div class=\"toc\"><ul class=\"toc-item\"><li><span><a href=\"#Python-Iterators\" data-toc-modified-id=\"Python-Iterators-1\"><span class=\"toc-item-num\">1&nbsp;&nbsp;</span>Python Iterators</a></span><ul class=\"toc-item\"><li><span><a href=\"#How-Iterators-Work\" data-toc-modified-id=\"How-Iterators-Work-1.1\"><span class=\"toc-item-num\">1.1&nbsp;&nbsp;</span>How Iterators Work</a></span></li><li><span><a href=\"#Using-Iterators\" data-toc-modified-id=\"Using-Iterators-1.2\"><span class=\"toc-item-num\">1.2&nbsp;&nbsp;</span>Using Iterators</a></span></li><li><span><a href=\"#Custom-Iterators\" data-toc-modified-id=\"Custom-Iterators-1.3\"><span class=\"toc-item-num\">1.3&nbsp;&nbsp;</span>Custom Iterators</a></span></li></ul></li><li><span><a href=\"#Generator-Functions\" data-toc-modified-id=\"Generator-Functions-2\"><span class=\"toc-item-num\">2&nbsp;&nbsp;</span>Generator Functions</a></span><ul class=\"toc-item\"><li><span><a href=\"#Syntax-of-Generator-Functions\" data-toc-modified-id=\"Syntax-of-Generator-Functions-2.1\"><span class=\"toc-item-num\">2.1&nbsp;&nbsp;</span>Syntax of Generator Functions</a></span></li><li><span><a href=\"#Key-Concepts\" data-toc-modified-id=\"Key-Concepts-2.2\"><span class=\"toc-item-num\">2.2&nbsp;&nbsp;</span>Key Concepts</a></span></li><li><span><a href=\"#Example-of-a-Generator-Function\" data-toc-modified-id=\"Example-of-a-Generator-Function-2.3\"><span class=\"toc-item-num\">2.3&nbsp;&nbsp;</span>Example of a Generator Function</a></span></li><li><span><a href=\"#Common-Use-Cases\" data-toc-modified-id=\"Common-Use-Cases-2.4\"><span class=\"toc-item-num\">2.4&nbsp;&nbsp;</span>Common Use Cases</a></span></li></ul></li></ul></div>"
   ]
  },
  {
   "cell_type": "markdown",
   "id": "d95cb070-c6e0-4a2b-a749-5ddf077a355a",
   "metadata": {},
   "source": [
    "# Python Iterators\n",
    "\n",
    "In Python, an iterator is an object that allows you to traverse or iterate through a collection of elements, one at a time, without knowing the underlying structure. Iterators are an essential part of Python's iteration protocol, enabling you to loop through data efficiently."
   ]
  },
  {
   "cell_type": "markdown",
   "id": "aa8df1e7-da5d-48e1-9ec9-bfa297524db8",
   "metadata": {},
   "source": [
    "## How Iterators Work\n",
    "\n",
    "1. Iterable: An object that can be iterated over is called an iterable. Examples include lists, tuples, dictionaries, strings, and more.\n",
    "\n",
    "2. Iterator: An iterator is an object that implements two methods: `__iter__()` and `__next__()`.\n",
    "   - `__iter__()` returns the iterator object itself. It initializes the iteration process.\n",
    "   - `__next__()` returns the next element in the iteration. When there are no more elements to return, it raises the `StopIteration` exception."
   ]
  },
  {
   "cell_type": "markdown",
   "id": "7430eb49-1351-4ffb-85fd-3a876fe8a3c9",
   "metadata": {},
   "source": [
    "## Using Iterators\n",
    "\n",
    "Python provides built-in functions like `iter()` and `next()` to work with iterators:"
   ]
  },
  {
   "cell_type": "code",
   "execution_count": 22,
   "id": "bc3574b4-f73a-49a7-aeab-7f4fe7ec6e7d",
   "metadata": {},
   "outputs": [
    {
     "name": "stdout",
     "output_type": "stream",
     "text": [
      "1\n",
      "2\n",
      "3\n",
      "4\n",
      "5\n"
     ]
    }
   ],
   "source": [
    "# Example of creating and using an iterator\n",
    "numbers = [1, 2, 3, 4, 5]\n",
    "number_iterator = iter(numbers)\n",
    "\n",
    "print(next(number_iterator))  # Output: 1\n",
    "print(next(number_iterator))  # Output: 2\n",
    "print(next(number_iterator))  # Output: 3\n",
    "print(next(number_iterator))  # Output: 4\n",
    "print(next(number_iterator))  # Output: 5\n",
    "\n",
    "# After all elements are exhausted, the iterator raises StopIteration\n",
    "# print(next(number_iterator))  # Raises StopIteration"
   ]
  },
  {
   "cell_type": "markdown",
   "id": "d82a867c-db0a-4e98-89be-6f95a0a981d6",
   "metadata": {},
   "source": [
    "## Custom Iterators\n",
    "\n",
    "You can create your own custom iterators by implementing the `__iter__()` and `__next__()` methods in a class:"
   ]
  },
  {
   "cell_type": "code",
   "execution_count": 23,
   "id": "119253c0-edbe-40fe-917b-e7c73e0ed048",
   "metadata": {},
   "outputs": [
    {
     "name": "stdout",
     "output_type": "stream",
     "text": [
      "1\n",
      "2\n",
      "3\n",
      "4\n",
      "5\n"
     ]
    }
   ],
   "source": [
    "class MyRange:\n",
    "    def __init__(self, start, end):\n",
    "        self.current = start\n",
    "        self.end = end\n",
    "\n",
    "    def __iter__(self):\n",
    "        return self\n",
    "\n",
    "    def __next__(self):\n",
    "        if self.current >= self.end:\n",
    "            raise StopIteration\n",
    "        value = self.current\n",
    "        self.current += 1\n",
    "        return value\n",
    "\n",
    "# Using custom iterator\n",
    "numbers = MyRange(1, 6)\n",
    "for num in numbers:\n",
    "    print(num)  # Output: 1, 2, 3, 4, 5"
   ]
  },
  {
   "cell_type": "markdown",
   "id": "56549050-86fc-4bb6-b301-0f1976c7eca2",
   "metadata": {},
   "source": [
    "# Generator Functions"
   ]
  },
  {
   "cell_type": "markdown",
   "id": "3b57544d-d8cf-4835-be0f-dbf72f26fd21",
   "metadata": {},
   "source": [
    "In Python, **generator functions are a powerful and efficient way to create iterators** and produce a sequence of values one at a time. \n",
    "\n",
    "Unlike regular functions that use `return` to provide the entire result, generator functions use the `yield` keyword to generate values on-the-fly as they are requested. "
   ]
  },
  {
   "cell_type": "markdown",
   "id": "8e259d35-3efa-43ee-92e6-064673af9818",
   "metadata": {},
   "source": [
    "## Syntax of Generator Functions\n",
    "\n",
    "```python\n",
    "def generator_function():\n",
    "    # Code to generate values\n",
    "    yield value\n",
    "    # Code continues...\n",
    "```\n"
   ]
  },
  {
   "cell_type": "markdown",
   "id": "7d59c1a6-104b-4544-9b51-9b2ec28ecd65",
   "metadata": {},
   "source": [
    "\n",
    "## Key Concepts\n",
    "\n",
    "1. **The `yield` Statement:** The `yield` statement is the heart of a generator function. When a generator function is called, the execution starts from the beginning of the function until the first `yield` statement. It yields the value and pauses the function's state, allowing it to be resumed later to produce the next value.\n",
    "\n",
    "2. **Generator Iterators:** When calling a generator function, it does not execute the entire function at once. Instead, it returns a generator object, which is an iterator. Each time the generator's `next()` method is called or when used in a loop, the function resumes execution from where it left off and continues until the next `yield` statement."
   ]
  },
  {
   "cell_type": "markdown",
   "id": "52646b82-b5c8-4553-9d34-038f2222ceeb",
   "metadata": {},
   "source": [
    "## Example of a Generator Function"
   ]
  },
  {
   "cell_type": "code",
   "execution_count": 4,
   "id": "91169ae3-cc33-40d2-bc5c-1d5780475789",
   "metadata": {},
   "outputs": [],
   "source": [
    "def countdown(n):\n",
    "    while n > 0:\n",
    "        yield n\n",
    "        n -= 1"
   ]
  },
  {
   "cell_type": "code",
   "execution_count": 6,
   "id": "437c1596-cab7-4db5-a7d8-85c3b756fba2",
   "metadata": {},
   "outputs": [],
   "source": [
    "countdown_iterator = countdown(5)"
   ]
  },
  {
   "cell_type": "code",
   "execution_count": 7,
   "id": "4fb9f1c7-0382-4692-a6da-ef7a4298078c",
   "metadata": {},
   "outputs": [
    {
     "data": {
      "text/plain": [
       "<generator object countdown at 0x7fb0e0df15f0>"
      ]
     },
     "execution_count": 7,
     "metadata": {},
     "output_type": "execute_result"
    }
   ],
   "source": [
    "countdown_iterator"
   ]
  },
  {
   "cell_type": "markdown",
   "id": "681d657f-0384-4aa2-aac0-bfe6c17fc96d",
   "metadata": {},
   "source": [
    "\n",
    "\n",
    "1. **Using the `next()` Method Alone:**\n",
    "When using the `next()` method directly with a generator, you have more fine-grained control over the iteration process. You can call `next()` on the generator to get the next value one at a time. This approach is useful when you need to access specific values from the generator or when you want to stop the iteration at a certain point.\n"
   ]
  },
  {
   "cell_type": "code",
   "execution_count": 11,
   "id": "2e59c6d2-ffa0-4a0d-bc79-2889c261ba3f",
   "metadata": {},
   "outputs": [
    {
     "data": {
      "text/plain": [
       "5"
      ]
     },
     "execution_count": 11,
     "metadata": {},
     "output_type": "execute_result"
    }
   ],
   "source": [
    "next(countdown_iterator)"
   ]
  },
  {
   "cell_type": "code",
   "execution_count": 12,
   "id": "4ae98862-5231-4d9d-a80c-064fd2a23c37",
   "metadata": {},
   "outputs": [
    {
     "data": {
      "text/plain": [
       "4"
      ]
     },
     "execution_count": 12,
     "metadata": {},
     "output_type": "execute_result"
    }
   ],
   "source": [
    "next(countdown_iterator)"
   ]
  },
  {
   "cell_type": "code",
   "execution_count": 13,
   "id": "823d63b6-c879-40ff-97c9-d1aabbfd4849",
   "metadata": {},
   "outputs": [
    {
     "data": {
      "text/plain": [
       "3"
      ]
     },
     "execution_count": 13,
     "metadata": {},
     "output_type": "execute_result"
    }
   ],
   "source": [
    "next(countdown_iterator)"
   ]
  },
  {
   "cell_type": "code",
   "execution_count": 14,
   "id": "98847fda-25f6-4378-b785-8c0b82c12590",
   "metadata": {},
   "outputs": [
    {
     "data": {
      "text/plain": [
       "2"
      ]
     },
     "execution_count": 14,
     "metadata": {},
     "output_type": "execute_result"
    }
   ],
   "source": [
    "next(countdown_iterator)"
   ]
  },
  {
   "cell_type": "code",
   "execution_count": 15,
   "id": "162e7a1f-762a-4f73-b4c8-7c706de16926",
   "metadata": {},
   "outputs": [
    {
     "data": {
      "text/plain": [
       "1"
      ]
     },
     "execution_count": 15,
     "metadata": {},
     "output_type": "execute_result"
    }
   ],
   "source": [
    "next(countdown_iterator)"
   ]
  },
  {
   "cell_type": "code",
   "execution_count": 16,
   "id": "39aa614d-26b1-4a82-a673-f6d3350d8d79",
   "metadata": {},
   "outputs": [
    {
     "ename": "StopIteration",
     "evalue": "",
     "output_type": "error",
     "traceback": [
      "\u001b[0;31m---------------------------------------------------------------------------\u001b[0m",
      "\u001b[0;31mStopIteration\u001b[0m                             Traceback (most recent call last)",
      "\u001b[0;32m/var/folders/z7/905hq7p50rz55pw6qwgr82_h0000gn/T/ipykernel_24743/1333872538.py\u001b[0m in \u001b[0;36m<module>\u001b[0;34m\u001b[0m\n\u001b[0;32m----> 1\u001b[0;31m \u001b[0mnext\u001b[0m\u001b[0;34m(\u001b[0m\u001b[0mcountdown_iterator\u001b[0m\u001b[0;34m)\u001b[0m\u001b[0;34m\u001b[0m\u001b[0;34m\u001b[0m\u001b[0m\n\u001b[0m",
      "\u001b[0;31mStopIteration\u001b[0m: "
     ]
    }
   ],
   "source": [
    "next(countdown_iterator)"
   ]
  },
  {
   "cell_type": "markdown",
   "id": "0c6b6a74-6871-4c21-955c-f2661abb1009",
   "metadata": {},
   "source": [
    "2. **Using a Loop with a Generator:**\n",
    "When using a loop with a generator, you can efficiently retrieve all the values produced by the generator in a convenient manner. The loop automatically calls the `next()` method of the generator until it is exhausted, meaning that there are no more values to yield. This way, you can easily iterate through the entire sequence of generated values without manually calling `next()` repeatedly.\n"
   ]
  },
  {
   "cell_type": "code",
   "execution_count": 9,
   "id": "a6ca55bf-4616-4f49-b408-9891776457a1",
   "metadata": {},
   "outputs": [],
   "source": [
    "countdown_iterator = countdown(5)"
   ]
  },
  {
   "cell_type": "code",
   "execution_count": null,
   "id": "b2c19ceb-dc66-448c-9706-3a84fdc4019d",
   "metadata": {},
   "outputs": [
    {
     "name": "stdout",
     "output_type": "stream",
     "text": [
      "5\n",
      "4\n",
      "3\n",
      "2\n",
      "1\n"
     ]
    }
   ],
   "source": [
    "# Using the generator function\n",
    "for num in countdown_iterator:\n",
    "    print(num)"
   ]
  },
  {
   "cell_type": "markdown",
   "id": "f5d48361-4bb5-4488-a5a0-c23adbdf455f",
   "metadata": {},
   "source": [
    "## Common Use Cases\n",
    "- Reading large files piece by piece without loading the entire file into memory.\n",
    "- Generating an infinite sequence of values, like the Fibonacci sequence.\n",
    "- Implementing custom iterators to produce values following specific rules or patterns."
   ]
  }
 ],
 "metadata": {
  "kernelspec": {
   "display_name": "Python 3 (ipykernel)",
   "language": "python",
   "name": "python3"
  },
  "language_info": {
   "codemirror_mode": {
    "name": "ipython",
    "version": 3
   },
   "file_extension": ".py",
   "mimetype": "text/x-python",
   "name": "python",
   "nbconvert_exporter": "python",
   "pygments_lexer": "ipython3",
   "version": "3.9.13"
  },
  "toc": {
   "base_numbering": 1,
   "nav_menu": {},
   "number_sections": true,
   "sideBar": true,
   "skip_h1_title": false,
   "title_cell": "Table of Contents",
   "title_sidebar": "Contents",
   "toc_cell": true,
   "toc_position": {},
   "toc_section_display": true,
   "toc_window_display": false
  }
 },
 "nbformat": 4,
 "nbformat_minor": 5
}
