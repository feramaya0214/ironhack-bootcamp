{
 "cells": [
  {
   "cell_type": "markdown",
   "id": "fc53ca8c-4469-42b9-8e8e-3e5d848108ee",
   "metadata": {},
   "source": [
    "# Modules and packages\n",
    "\n",
    "## Learning goals\n",
    "\n",
    "By the end of this lesson, you should be able to:\n",
    "\n",
    "- Explain what Python modules and packages are, and how they contribute to code organization and reuse\n",
    "- Describe the purpose and benefits of using modules and packages in Python\n",
    "- Apply the different methods to import modules and packages in a Python program\n",
    "\n",
    "## Introduction\n",
    "\n",
    "As you start to work with Python on larger and more complex projects, understanding how to effectively use modules and packages becomes essential. This self-guided lesson will introduce the concepts of Python modules, packages, and how they are imported and used in Jupyter notebooks. The knowledge you gain from this lesson will help you better structure your code, making it more organized, reusable, and maintainable.\n",
    "\n",
    "### What is a Python Module?\n",
    "\n",
    "In Python, a module is a file containing Python definitions and statements. The file name is the module name with the suffix **`.py`** added.\n",
    "\n",
    "Consider a Python file named **`my_module.py`**:\n",
    "\n"
   ]
  },
  {
   "cell_type": "code",
   "execution_count": 1,
   "id": "12ad8188-3667-4626-933d-a3673e906f61",
   "metadata": {},
   "outputs": [],
   "source": [
    "# Suppose this is inside a file called my_module.py\n",
    "# my_module.py can just have a function inside such as the following one\n",
    "\n",
    "def hello_world():\n",
    "    print(\"Hello, world!\")"
   ]
  },
  {
   "cell_type": "markdown",
   "id": "0bdeff88-8844-4b2f-af27-1cd0dbdcb462",
   "metadata": {},
   "source": [
    "### What is a Python Package?\n",
    "\n",
    "A package in Python is simply a way of organizing related modules into a directory hierarchy. Essentially, it's a directory that contains multiple module files and a special **`__init__.py`** file to let Python know that the directory is a package."
   ]
  },
  {
   "cell_type": "markdown",
   "id": "4d68c3ca-8b3b-4f18-9dac-0921fc7963e5",
   "metadata": {},
   "source": [
    "## Importing Modules and Packages\n",
    "\n",
    "To use functionality that is not available in basic Python, you can import modules or packages. These are collections of related functions and methods that perform specific tasks. \n",
    "\n",
    "For instance, the **`math`** module is a part of the Python Standard Library, providing mathematical functions and constants.\n",
    "\n",
    "Let's dive deeper into the different ways you can import and use modules in Python with **`math`** and **`pandas`**."
   ]
  },
  {
   "cell_type": "markdown",
   "id": "bf1b1ae3-630e-4466-950e-014042778f8f",
   "metadata": {},
   "source": [
    "### Import module\n",
    "\n",
    "This is the most straightforward method of importing. You simply use the **`import`** keyword followed by the module name:"
   ]
  },
  {
   "cell_type": "code",
   "execution_count": 2,
   "id": "74737c6f-20d8-4ec2-9641-1a8d51df2f79",
   "metadata": {},
   "outputs": [
    {
     "name": "stdout",
     "output_type": "stream",
     "text": [
      "3.141592653589793\n",
      "4.0\n"
     ]
    }
   ],
   "source": [
    "import math\n",
    "\n",
    "# Now you can access functions and constants in the math module\n",
    "print(math.pi)  # prints: 3.141592653589793\n",
    "print(math.sqrt(16))  # prints: 4.0"
   ]
  },
  {
   "cell_type": "markdown",
   "id": "60107e81-4bb7-4ca3-8f25-5f084063fcd8",
   "metadata": {},
   "source": [
    "### Import module as alias\n",
    "\n",
    "Sometimes, for the sake of brevity or to avoid naming conflicts, we can give the module a shorter alias. This is particularly common with certain third-party modules:\n"
   ]
  },
  {
   "cell_type": "code",
   "execution_count": 3,
   "id": "ed2522b2-78e7-4d56-bb2a-cbb050d37da7",
   "metadata": {},
   "outputs": [
    {
     "name": "stdout",
     "output_type": "stream",
     "text": [
      "3.141592653589793\n"
     ]
    }
   ],
   "source": [
    "import math as m\n",
    "\n",
    "# The math module can now be accessed through the alias\n",
    "print(m.pi)  # prints: 3.141592653589793"
   ]
  },
  {
   "cell_type": "markdown",
   "id": "28d5aa14-0b8f-430f-ae7a-7c48dd81d2fd",
   "metadata": {},
   "source": [
    "For instance, **`pandas`**, a powerful data manipulation and analysis library, is conventionally imported with the alias **`pd`**:"
   ]
  },
  {
   "cell_type": "code",
   "execution_count": 4,
   "id": "3811cb78-cb6f-46f4-b399-2b3739017657",
   "metadata": {},
   "outputs": [
    {
     "data": {
      "text/html": [
       "<div>\n",
       "<style scoped>\n",
       "    .dataframe tbody tr th:only-of-type {\n",
       "        vertical-align: middle;\n",
       "    }\n",
       "\n",
       "    .dataframe tbody tr th {\n",
       "        vertical-align: top;\n",
       "    }\n",
       "\n",
       "    .dataframe thead th {\n",
       "        text-align: right;\n",
       "    }\n",
       "</style>\n",
       "<table border=\"1\" class=\"dataframe\">\n",
       "  <thead>\n",
       "    <tr style=\"text-align: right;\">\n",
       "      <th></th>\n",
       "      <th>A</th>\n",
       "      <th>B</th>\n",
       "    </tr>\n",
       "  </thead>\n",
       "  <tbody>\n",
       "    <tr>\n",
       "      <th>0</th>\n",
       "      <td>1</td>\n",
       "      <td>4</td>\n",
       "    </tr>\n",
       "    <tr>\n",
       "      <th>1</th>\n",
       "      <td>2</td>\n",
       "      <td>5</td>\n",
       "    </tr>\n",
       "    <tr>\n",
       "      <th>2</th>\n",
       "      <td>3</td>\n",
       "      <td>6</td>\n",
       "    </tr>\n",
       "  </tbody>\n",
       "</table>\n",
       "</div>"
      ],
      "text/plain": [
       "   A  B\n",
       "0  1  4\n",
       "1  2  5\n",
       "2  3  6"
      ]
     },
     "execution_count": 4,
     "metadata": {},
     "output_type": "execute_result"
    }
   ],
   "source": [
    "import pandas as pd\n",
    "\n",
    "# This creates a dataframe object\n",
    "pd.DataFrame({'A': [1, 2, 3], 'B': [4, 5, 6]})"
   ]
  },
  {
   "cell_type": "markdown",
   "id": "c7a25ad6-92db-4b25-ba80-337c08215c52",
   "metadata": {},
   "source": [
    "### From module import something\n",
    "\n",
    "If you need only a specific function or variable from a module, you can use the **`from...import`** statement."
   ]
  },
  {
   "cell_type": "code",
   "execution_count": 5,
   "id": "9609f5ff-09f1-4e6b-adfb-914ab3b92da9",
   "metadata": {},
   "outputs": [
    {
     "name": "stdout",
     "output_type": "stream",
     "text": [
      "3.141592653589793\n",
      "4.0\n"
     ]
    }
   ],
   "source": [
    "from math import pi, sqrt\n",
    "\n",
    "# Now you can use pi and sqrt directly, no need to prefix with the module name\n",
    "print(pi)  # prints: 3.141592653589793\n",
    "print(sqrt(16))  # prints: 4.0"
   ]
  },
  {
   "cell_type": "code",
   "execution_count": 6,
   "id": "384edc1f-30fc-4449-90a4-46fc32670aa6",
   "metadata": {},
   "outputs": [
    {
     "name": "stdout",
     "output_type": "stream",
     "text": [
      "   A  B\n",
      "0  1  4\n",
      "1  2  5\n",
      "2  3  6\n"
     ]
    }
   ],
   "source": [
    "# Similarly, you can import specific components from **`pandas`**:\n",
    "\n",
    "from pandas import DataFrame\n",
    "\n",
    "# Now you can use DataFrame directly\n",
    "df = DataFrame({'A': [1, 2, 3], 'B': [4, 5, 6]})\n",
    "print(df)"
   ]
  },
  {
   "cell_type": "markdown",
   "id": "f126c37a-8acb-4554-a2df-887b6b1e80c7",
   "metadata": {},
   "source": [
    "With these different import methods, you can access and use the functionality of modules in a way that best suits your coding style and the specific needs of your project."
   ]
  },
  {
   "cell_type": "markdown",
   "id": "36ab6d17-b0d0-4378-8aa2-8cb9a204ae61",
   "metadata": {},
   "source": [
    "## Importing Your Own Python (.py) Files\n",
    "\n",
    "You can import your own Python files in the same way as you import built-in modules. "
   ]
  },
  {
   "cell_type": "markdown",
   "id": "ed1fdee9-0ea0-4f43-8223-ff79dac0ab90",
   "metadata": {},
   "source": [
    "**There is just one trick to save you headaches! To ensure that any changes made to the Python file are reflected in the Jupyter Notebook upon import**, add the following code at the beginning of your notebook (or at least before importing your module):"
   ]
  },
  {
   "cell_type": "code",
   "execution_count": 7,
   "id": "a3143168-c230-4b59-9b6d-a912d6eb616f",
   "metadata": {},
   "outputs": [],
   "source": [
    "%load_ext autoreload\n",
    "%autoreload 2 "
   ]
  },
  {
   "cell_type": "markdown",
   "id": "9adc6d80-48a5-4fe2-bb3e-0c34126a29bd",
   "metadata": {},
   "source": [
    "With those two lines of code, before the import, the notebook automatically recognizes the changes made in the files we import, even if we do the changes after importing it, without requiring manual refresh or restarting the kernel. "
   ]
  },
  {
   "cell_type": "markdown",
   "id": "c9a695c0-4f24-478c-b762-c0dff9242a64",
   "metadata": {},
   "source": [
    "You can read more about this here: https://ipython.readthedocs.io/en/stable/config/extensions/autoreload.html"
   ]
  },
  {
   "cell_type": "markdown",
   "id": "bbef1006-781d-42c0-8b03-7e72198e98f9",
   "metadata": {},
   "source": [
    "Let's try importing our own Python module!\n",
    "\n",
    "- In the same directory as your Jupyter Notebook, create a new Python file called `functions.py`.\n",
    "- Copy and paste the following function into the `functions.py` file.\n",
    "```python\n",
    "# functions.py\n",
    "\n",
    "def greet(name):\n",
    "    return f\"Hello, {name}!\"\n",
    "```\n",
    "\n",
    "- Save the `functions.py` file and switch back to the Jupyter Notebook."
   ]
  },
  {
   "cell_type": "markdown",
   "id": "beeb9f22-0a7d-4da7-86e6-060a7c66e1b2",
   "metadata": {},
   "source": [
    "- In a new cell, import the function from functions.py\n",
    "- Call the function with some sample input to test that it is working properly."
   ]
  },
  {
   "cell_type": "code",
   "execution_count": 9,
   "id": "6e978992-783a-4d48-a1c3-436c95baeaea",
   "metadata": {},
   "outputs": [
    {
     "name": "stdout",
     "output_type": "stream",
     "text": [
      "Hi, Python learner!\n"
     ]
    }
   ],
   "source": [
    "# You can import and use the **`greet`** function in your notebook like this:\n",
    "import functions\n",
    "\n",
    "print(functions.greet(\"Python learner\"))  # prints: Hello, Python learner!"
   ]
  },
  {
   "cell_type": "markdown",
   "id": "f6ab8264-6962-4068-8f6b-19df788544ff",
   "metadata": {},
   "source": [
    "\n",
    "**Remember that the exact location of your Python file (or its path) matters**. If your file is not in the same directory as your notebook, you'll need to include the appropriate directory path when importing.\n"
   ]
  },
  {
   "cell_type": "markdown",
   "id": "dee06afb-b173-4946-be30-fcd16f1d4fab",
   "metadata": {},
   "source": [
    "If you make changes to the function's return message in the file, such as \n",
    "```python\n",
    "return f\"Bye, {name}!\"\n",
    "```\n",
    "and call the function again, you will notice that the modifications you made to the file are now reflected here. This automatic update wouldn't have occurred without including the two autoreload lines in your notebook."
   ]
  },
  {
   "cell_type": "markdown",
   "id": "70bf536a-97b5-441e-b7c8-16a09d8598a3",
   "metadata": {},
   "source": [
    "## Summary\n",
    "\n",
    "In this lesson, you've learned about different methods of importing, from importing an entire module or package to importing specific functions. You also explored the math and pandas modules as examples, demonstrating how to utilize their functionalities.\n",
    "\n",
    "When importing modules in Python, whether they are official Python modules or ones you create yourself, you have various options:"
   ]
  },
  {
   "cell_type": "markdown",
   "id": "dfdcbbca-480d-4b4d-afa1-08d46592b9c5",
   "metadata": {},
   "source": [
    "1. Importing specific functions:\n",
    "\n",
    "```python\n",
    "from function_file import function_name\n",
    "\n",
    "function_name(arguments)\n",
    "```\n",
    "\n",
    "2. Importing the entire module: \n",
    "\n",
    "```python\n",
    "import function_file\n",
    "\n",
    "function_file.function_name()\n",
    "```\n",
    "\n",
    "3. Importing the entire module with an alias: \n",
    "\n",
    "```python\n",
    "import function_file as f\n",
    "\n",
    "f.function_name()\n",
    "```\n",
    "\n",
    "Regardless of which method you choose, make sure that the functions.py file is in the same directory as your Jupyter Notebook, and if it is your own Python file, before importing it, remember executing \n",
    "\n",
    "```python\n",
    "%load_ext autoreload\n",
    "%autoreload 2 \n",
    "```"
   ]
  },
  {
   "cell_type": "markdown",
   "id": "b40001dd-2665-420c-b3a5-655d7990e822",
   "metadata": {},
   "source": [
    "## Additional Reading Materials\n",
    "\n",
    "- [Python Modules and Packages – An Introduction](https://realpython.com/python-modules-packages/)\n",
    "- [Modules and Packages - Learn Python](https://www.learnpython.org/en/Modules_and_Packages)\n",
    "- [Python Libraries Every Programming Beginner Should Know](https://learnpython.com/blog/python-libraries-for-beginners/)"
   ]
  },
  {
   "cell_type": "markdown",
   "id": "6e3ee966-d63e-4ada-bedd-e6e93962aa86",
   "metadata": {},
   "source": [
    "If you want to specify the path to the file, you can do so in the import statement or by using `sys.path`.\n",
    "\n",
    "You can find examples on how to import Python files into jupyter notebook here: \n",
    "- https://medium.com/cold-brew-code/a-quick-guide-to-understanding-pythons-import-statement-505eea2d601f\n",
    "- https://www.geeksforgeeks.org/absolute-and-relative-imports-in-python/\n",
    "- https://www.pythonforthelab.com/blog/complete-guide-to-imports-in-python-absolute-relative-and-more/\n",
    "\n"
   ]
  }
 ],
 "metadata": {
  "kernelspec": {
   "display_name": "Python 3 (ipykernel)",
   "language": "python",
   "name": "python3"
  },
  "language_info": {
   "codemirror_mode": {
    "name": "ipython",
    "version": 3
   },
   "file_extension": ".py",
   "mimetype": "text/x-python",
   "name": "python",
   "nbconvert_exporter": "python",
   "pygments_lexer": "ipython3",
   "version": "3.9.13"
  }
 },
 "nbformat": 4,
 "nbformat_minor": 5
}
