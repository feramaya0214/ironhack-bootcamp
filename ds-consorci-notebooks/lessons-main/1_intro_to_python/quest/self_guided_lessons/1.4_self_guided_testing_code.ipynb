{
 "cells": [
  {
   "cell_type": "markdown",
   "id": "56cc6f7a-038a-4fa6-b467-c0012c00efa1",
   "metadata": {},
   "source": [
    "# Testing Python Code\n",
    "\n",
    "## Introduction\n",
    "Testing your Python code is a crucial step in ensuring its correctness and reliability. By systematically exploring different scenarios and input combinations, you can identify potential issues and verify that your code behaves as expected. In this lesson, we will discuss the importance of testing and cover some basic strategies to try different cases that can go wrong when writing code."
   ]
  },
  {
   "cell_type": "markdown",
   "id": "1697d143-cd96-4348-89f2-394339b263de",
   "metadata": {},
   "source": [
    "### Identify Test Cases\n",
    "   - Think about different scenarios and input values that your code should handle correctly.\n",
    "   - Consider both normal and edge cases, such as empty inputs, negative numbers, or unexpected data types.\n",
    "\n"
   ]
  },
  {
   "cell_type": "markdown",
   "id": "a19b1989-823a-44d5-8547-75292a9834b6",
   "metadata": {},
   "source": [
    "Example: Let's consider a simple function called calculate_average() that calculates the average of a list of numbers ."
   ]
  },
  {
   "cell_type": "code",
   "execution_count": 27,
   "id": "dade2e81-d0cf-4725-8270-14f27492f89e",
   "metadata": {},
   "outputs": [],
   "source": [
    "def calculate_average(numbers):\n",
    "    total = sum(numbers)\n",
    "    average = total / len(numbers)\n",
    "    return average\n"
   ]
  },
  {
   "cell_type": "markdown",
   "id": "67a26f18-360d-4dbf-a8f9-42f8ddebff93",
   "metadata": {},
   "source": [
    "Example Test Cases:\n",
    "\n",
    "- Case 1: List with One Element\n",
    "  - Test if the function correctly handles a list with only one element.\n",
    "  - Example Input: `numbers = [5]`\n",
    "  - Expected Output: `5`\n",
    "\n",
    "- Case 2: List with Multiple Elements\n",
    "  - Test if the function correctly calculates the average of a list with multiple elements.\n",
    "  - Example Input: `numbers = [1, 2, 3, 4, 5]`\n",
    "  - Expected Output: `3`\n",
    "  \n",
    "- Case 3: Empty List\n",
    "  - Test if the function correctly handles an empty list.\n",
    "  - Example Input: `numbers = []`\n",
    "  - Expected Output: `0`\n",
    "  \n",
    "- Case 4: Incorrect Type\n",
    "  - Test if the function handles the case where the input is of an incorrect type, such as a string or integer.\n",
    "  - Example Input: `numbers = \"1, 2, 3, 4, 5\"`\n",
    "  - Expected Output: a specific error message indicating that the input must be a list of numbers, without stopping the program.\n"
   ]
  },
  {
   "cell_type": "markdown",
   "id": "4dfc6e9d-7083-45f8-bd7d-a43325223c0f",
   "metadata": {},
   "source": [
    "### Manual Testing\n",
    "   - Execute the code with the chosen test cases to verify if it produces the expected results.\n",
    "   - While this example only has a few test cases, in real-world scenarios, manual testing should involve trying various inputs.\n"
   ]
  },
  {
   "cell_type": "code",
   "execution_count": 28,
   "id": "63ec63b9-31bc-4a16-aee0-e15d5dba08a8",
   "metadata": {},
   "outputs": [
    {
     "data": {
      "text/plain": [
       "5.0"
      ]
     },
     "execution_count": 28,
     "metadata": {},
     "output_type": "execute_result"
    }
   ],
   "source": [
    "numbers = [5]\n",
    "calculate_average(numbers)"
   ]
  },
  {
   "cell_type": "code",
   "execution_count": 29,
   "id": "f624b177-c41d-46fe-8872-f667e05649e5",
   "metadata": {},
   "outputs": [
    {
     "data": {
      "text/plain": [
       "3.0"
      ]
     },
     "execution_count": 29,
     "metadata": {},
     "output_type": "execute_result"
    }
   ],
   "source": [
    "numbers = [1, 2, 3, 4, 5]\n",
    "calculate_average(numbers)"
   ]
  },
  {
   "cell_type": "code",
   "execution_count": 30,
   "id": "ed7d32b3-7f25-4838-8524-879fe06326de",
   "metadata": {},
   "outputs": [
    {
     "ename": "ZeroDivisionError",
     "evalue": "division by zero",
     "output_type": "error",
     "traceback": [
      "\u001b[0;31m---------------------------------------------------------------------------\u001b[0m",
      "\u001b[0;31mZeroDivisionError\u001b[0m                         Traceback (most recent call last)",
      "\u001b[0;32m/var/folders/z7/905hq7p50rz55pw6qwgr82_h0000gn/T/ipykernel_29300/3375236307.py\u001b[0m in \u001b[0;36m<module>\u001b[0;34m\u001b[0m\n\u001b[1;32m      1\u001b[0m \u001b[0mnumbers\u001b[0m \u001b[0;34m=\u001b[0m \u001b[0;34m[\u001b[0m\u001b[0;34m]\u001b[0m\u001b[0;34m\u001b[0m\u001b[0;34m\u001b[0m\u001b[0m\n\u001b[0;32m----> 2\u001b[0;31m \u001b[0mcalculate_average\u001b[0m\u001b[0;34m(\u001b[0m\u001b[0mnumbers\u001b[0m\u001b[0;34m)\u001b[0m\u001b[0;34m\u001b[0m\u001b[0;34m\u001b[0m\u001b[0m\n\u001b[0m",
      "\u001b[0;32m/var/folders/z7/905hq7p50rz55pw6qwgr82_h0000gn/T/ipykernel_29300/4104648344.py\u001b[0m in \u001b[0;36mcalculate_average\u001b[0;34m(numbers)\u001b[0m\n\u001b[1;32m      1\u001b[0m \u001b[0;32mdef\u001b[0m \u001b[0mcalculate_average\u001b[0m\u001b[0;34m(\u001b[0m\u001b[0mnumbers\u001b[0m\u001b[0;34m)\u001b[0m\u001b[0;34m:\u001b[0m\u001b[0;34m\u001b[0m\u001b[0;34m\u001b[0m\u001b[0m\n\u001b[1;32m      2\u001b[0m     \u001b[0mtotal\u001b[0m \u001b[0;34m=\u001b[0m \u001b[0msum\u001b[0m\u001b[0;34m(\u001b[0m\u001b[0mnumbers\u001b[0m\u001b[0;34m)\u001b[0m\u001b[0;34m\u001b[0m\u001b[0;34m\u001b[0m\u001b[0m\n\u001b[0;32m----> 3\u001b[0;31m     \u001b[0maverage\u001b[0m \u001b[0;34m=\u001b[0m \u001b[0mtotal\u001b[0m \u001b[0;34m/\u001b[0m \u001b[0mlen\u001b[0m\u001b[0;34m(\u001b[0m\u001b[0mnumbers\u001b[0m\u001b[0;34m)\u001b[0m\u001b[0;34m\u001b[0m\u001b[0;34m\u001b[0m\u001b[0m\n\u001b[0m\u001b[1;32m      4\u001b[0m     \u001b[0;32mreturn\u001b[0m \u001b[0maverage\u001b[0m\u001b[0;34m\u001b[0m\u001b[0;34m\u001b[0m\u001b[0m\n",
      "\u001b[0;31mZeroDivisionError\u001b[0m: division by zero"
     ]
    }
   ],
   "source": [
    "numbers = []\n",
    "calculate_average(numbers)"
   ]
  },
  {
   "cell_type": "markdown",
   "id": "69a7bfb1-a07d-48d2-aafa-b6ec6a811666",
   "metadata": {},
   "source": [
    "Error, not what we wanted."
   ]
  },
  {
   "cell_type": "code",
   "execution_count": 31,
   "id": "20e317bf-56fc-4a33-b771-f13741eef0e9",
   "metadata": {},
   "outputs": [
    {
     "ename": "TypeError",
     "evalue": "unsupported operand type(s) for +: 'int' and 'str'",
     "output_type": "error",
     "traceback": [
      "\u001b[0;31m---------------------------------------------------------------------------\u001b[0m",
      "\u001b[0;31mTypeError\u001b[0m                                 Traceback (most recent call last)",
      "\u001b[0;32m/var/folders/z7/905hq7p50rz55pw6qwgr82_h0000gn/T/ipykernel_29300/3236362009.py\u001b[0m in \u001b[0;36m<module>\u001b[0;34m\u001b[0m\n\u001b[1;32m      1\u001b[0m \u001b[0mnumbers\u001b[0m \u001b[0;34m=\u001b[0m \u001b[0;34m\"1, 2, 3, 4, 5\"\u001b[0m\u001b[0;34m\u001b[0m\u001b[0;34m\u001b[0m\u001b[0m\n\u001b[0;32m----> 2\u001b[0;31m \u001b[0mcalculate_average\u001b[0m\u001b[0;34m(\u001b[0m\u001b[0mnumbers\u001b[0m\u001b[0;34m)\u001b[0m\u001b[0;34m\u001b[0m\u001b[0;34m\u001b[0m\u001b[0m\n\u001b[0m",
      "\u001b[0;32m/var/folders/z7/905hq7p50rz55pw6qwgr82_h0000gn/T/ipykernel_29300/4104648344.py\u001b[0m in \u001b[0;36mcalculate_average\u001b[0;34m(numbers)\u001b[0m\n\u001b[1;32m      1\u001b[0m \u001b[0;32mdef\u001b[0m \u001b[0mcalculate_average\u001b[0m\u001b[0;34m(\u001b[0m\u001b[0mnumbers\u001b[0m\u001b[0;34m)\u001b[0m\u001b[0;34m:\u001b[0m\u001b[0;34m\u001b[0m\u001b[0;34m\u001b[0m\u001b[0m\n\u001b[0;32m----> 2\u001b[0;31m     \u001b[0mtotal\u001b[0m \u001b[0;34m=\u001b[0m \u001b[0msum\u001b[0m\u001b[0;34m(\u001b[0m\u001b[0mnumbers\u001b[0m\u001b[0;34m)\u001b[0m\u001b[0;34m\u001b[0m\u001b[0;34m\u001b[0m\u001b[0m\n\u001b[0m\u001b[1;32m      3\u001b[0m     \u001b[0maverage\u001b[0m \u001b[0;34m=\u001b[0m \u001b[0mtotal\u001b[0m \u001b[0;34m/\u001b[0m \u001b[0mlen\u001b[0m\u001b[0;34m(\u001b[0m\u001b[0mnumbers\u001b[0m\u001b[0;34m)\u001b[0m\u001b[0;34m\u001b[0m\u001b[0;34m\u001b[0m\u001b[0m\n\u001b[1;32m      4\u001b[0m     \u001b[0;32mreturn\u001b[0m \u001b[0maverage\u001b[0m\u001b[0;34m\u001b[0m\u001b[0;34m\u001b[0m\u001b[0m\n",
      "\u001b[0;31mTypeError\u001b[0m: unsupported operand type(s) for +: 'int' and 'str'"
     ]
    }
   ],
   "source": [
    "numbers = \"1, 2, 3, 4, 5\"\n",
    "calculate_average(numbers)"
   ]
  },
  {
   "cell_type": "markdown",
   "id": "7a55b98f-9147-4fe0-b5fd-48256057fc65",
   "metadata": {},
   "source": [
    "Error, not what we wanted."
   ]
  },
  {
   "cell_type": "markdown",
   "id": "1698dd14-57e4-4100-a5cf-90f2cc2c6e05",
   "metadata": {},
   "source": [
    "### Error Handling and Exception Testing\n",
    "   - In this example, the code may encounter the following potential errors:\n",
    "     - Division by zero when the input list is empty.\n",
    "     - Invalid input when the input is not a list.\n",
    "   - To solve these errors, we can add appropriate error handling mechanisms.\n",
    "        - Handling Empty List Error:\n",
    "           - To handle the case of an empty list, we can add a conditional check before performing the division operation.\n",
    "           - If the list is empty, we can return a default value or raise a specific error message.\n",
    "        - Handling Invalid Input Error:\n",
    "           - To handle the case of invalid input, we can add a type check to ensure that the input is a list before proceeding with the calculations.\n",
    "           - If the input is not a list, we can raise a specific error message.\n"
   ]
  },
  {
   "cell_type": "code",
   "execution_count": 32,
   "id": "fe963c78-95b2-438d-93d7-b41aa4b25a55",
   "metadata": {},
   "outputs": [],
   "source": [
    "def calculate_average(numbers):\n",
    "    try:\n",
    "        if not isinstance(numbers, list):\n",
    "            raise TypeError(\"Input must be a list of numbers.\")\n",
    "        if len(numbers) == 0:\n",
    "            raise ValueError(\"Cannot calculate average of an empty list.\")\n",
    "        total = sum(numbers)\n",
    "        average = total / len(numbers)\n",
    "        return average\n",
    "    except TypeError as e:\n",
    "        print(\"Error:\", e)\n",
    "    except ValueError as e:\n",
    "        print(\"Error:\", e)\n"
   ]
  },
  {
   "cell_type": "markdown",
   "id": "b9fce089-ff33-4b6c-9bb7-be4a9d515b4f",
   "metadata": {},
   "source": [
    "###  Checking with conditional statements\n",
    "An alternative approach to handle errors is error checking with conditional statements. This approach checks for errors using if statements and returns appropriate messages when errors are encountered."
   ]
  },
  {
   "cell_type": "code",
   "execution_count": 33,
   "id": "f65e9cf7-bc64-4cdd-a79c-6b5965d0615e",
   "metadata": {},
   "outputs": [],
   "source": [
    "# Since in this case we are just printing a message, we could even control errors\n",
    "# without using try/except/raise\n",
    "\n",
    "def calculate_average(numbers):\n",
    "    if not isinstance(numbers, list):\n",
    "        print(\"Input must be a list of numbers.\")\n",
    "        return\n",
    "    if len(numbers) == 0:\n",
    "        print(\"Cannot calculate average of an empty list.\")\n",
    "        return\n",
    "    total = sum(numbers)\n",
    "    average = total / len(numbers)\n",
    "    return average\n"
   ]
  },
  {
   "cell_type": "markdown",
   "id": "43b6b034-2091-4093-826a-545d8677e4f6",
   "metadata": {},
   "source": [
    "But the try-except block offers robust and flexible error handling:\n",
    "\n",
    "- Readability: It provides a clear structure, separating error handling from the main code flow, enhancing readability and maintainability.\n",
    "- Modularity: Encapsulate error handling logic in a central location, promoting modularity and code reuse.\n",
    "- Flexibility: Catch and handle errors at different code levels with multiple except blocks, allowing for complex error handling strategies.\n",
    "- Error Propagation: Use raise to re-raise exceptions or propagate errors to higher code levels for handling or contextualization.\n",
    "- Handling Unforeseen Errors: Gracefully handle unforeseen or unexpected errors, preventing abrupt program termination."
   ]
  },
  {
   "cell_type": "markdown",
   "id": "c38c2138-c129-42ff-b5cc-f14f3c91e707",
   "metadata": {},
   "source": [
    "### Retesting the Test Cases\n",
    "   - After implementing the error handling, we should retest the previous test cases to ensure that the code behaves as expected and handles errors correctly.\n"
   ]
  },
  {
   "cell_type": "code",
   "execution_count": 34,
   "id": "77e46ab3-f5be-4dbb-a1da-a936e4288dbd",
   "metadata": {},
   "outputs": [
    {
     "data": {
      "text/plain": [
       "5.0"
      ]
     },
     "execution_count": 34,
     "metadata": {},
     "output_type": "execute_result"
    }
   ],
   "source": [
    "numbers = [5]\n",
    "calculate_average(numbers)"
   ]
  },
  {
   "cell_type": "code",
   "execution_count": 35,
   "id": "c57ea79c-f5c6-4ba3-9dbe-0723711a9624",
   "metadata": {},
   "outputs": [
    {
     "data": {
      "text/plain": [
       "3.0"
      ]
     },
     "execution_count": 35,
     "metadata": {},
     "output_type": "execute_result"
    }
   ],
   "source": [
    "numbers = [1, 2, 3, 4, 5]\n",
    "calculate_average(numbers)"
   ]
  },
  {
   "cell_type": "code",
   "execution_count": 36,
   "id": "49f83cb7-b182-4a58-9c1d-6c68f14737ff",
   "metadata": {},
   "outputs": [
    {
     "name": "stdout",
     "output_type": "stream",
     "text": [
      "Cannot calculate average of an empty list.\n"
     ]
    }
   ],
   "source": [
    "numbers = []\n",
    "calculate_average(numbers)"
   ]
  },
  {
   "cell_type": "markdown",
   "id": "f94d8b68-f339-4d84-a00b-b7bd1a532f0c",
   "metadata": {},
   "source": [
    "Error, not what we wanted."
   ]
  },
  {
   "cell_type": "code",
   "execution_count": 37,
   "id": "ee5f7ec8-0b0c-4ea7-a79f-f284ad8d688f",
   "metadata": {},
   "outputs": [
    {
     "name": "stdout",
     "output_type": "stream",
     "text": [
      "Input must be a list of numbers.\n"
     ]
    }
   ],
   "source": [
    "numbers = \"1, 2, 3, 4, 5\"\n",
    "calculate_average(numbers)"
   ]
  },
  {
   "cell_type": "markdown",
   "id": "c9148156-e170-45c5-96be-841fb865aa0e",
   "metadata": {},
   "source": [
    "### Unit Testing\n",
    "   - Unit testing is a more formalized approach to testing, where you write specific test cases for individual functions or components.\n",
    "   - It involves using testing frameworks like `unittest` or `pytest` to automate the process of running multiple test cases.\n"
   ]
  },
  {
   "cell_type": "markdown",
   "id": "3bfbae80-2d67-4a9b-a018-c1d904f789ef",
   "metadata": {},
   "source": [
    "\n",
    "Remember, in real-world scenarios, it's important to consider a wide range of test cases and potential sources of errors. This example demonstrates the process of identifying test cases, finding errors, and implementing error handling mechanisms to ensure the reliability of the code."
   ]
  },
  {
   "cell_type": "markdown",
   "id": "f951a700-3a92-4e49-9bce-9c7dfbd7656c",
   "metadata": {},
   "source": [
    "\n",
    "## Conclusion\n",
    "\n",
    "Testing your Python code is an essential practice that helps ensure its correctness and robustness. By trying different cases and scenarios, you can identify potential issues and improve the overall quality of your code. Remember to test regularly, automate where possible, and iterate on your code based on the feedback you receive. Happy testing!"
   ]
  }
 ],
 "metadata": {
  "kernelspec": {
   "display_name": "Python 3 (ipykernel)",
   "language": "python",
   "name": "python3"
  },
  "language_info": {
   "codemirror_mode": {
    "name": "ipython",
    "version": 3
   },
   "file_extension": ".py",
   "mimetype": "text/x-python",
   "name": "python",
   "nbconvert_exporter": "python",
   "pygments_lexer": "ipython3",
   "version": "3.9.13"
  }
 },
 "nbformat": 4,
 "nbformat_minor": 5
}
