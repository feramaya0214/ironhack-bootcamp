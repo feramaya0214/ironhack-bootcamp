{
 "cells": [
  {
   "cell_type": "markdown",
   "id": "a829bea7-6e36-4393-bfdf-8d23c86d9d25",
   "metadata": {},
   "source": [
    "# Coding good practices\n",
    "\n",
    "## Learning goals\n",
    "\n",
    "By the end of this lesson, you should be able to:\n",
    "\n",
    "- Identify and apply Python best practices to write clean and maintainable code.\n",
    "- Write clear and comprehensive documentation for functions and modules.\n",
    "\n",
    "## Introduction\n",
    "\n",
    "Python is known for its readability and simplicity. However, as programs become more complex, it's essential to follow certain practices to ensure that your Python code is clean, readable, and maintainable. This lesson will cover these practices and offer some insights into writing better Python code.\n",
    "\n",
    "## Understanding Python style guide\n",
    "\n",
    "PEP 8 is a particular proposal that outlines the style guide for Python code. It was written to guide Python developers in creating code that's easy to read and consistent with the rest of the Python community. Some of its main recommendations include:\n",
    "\n",
    "- **Indentation:** Use 4 spaces per indentation level.\n",
    "- **Line Length:** Limit all lines to a maximum of 79 characters.\n",
    "- **Blank Lines:** Use blank lines to separate functions and classes, and larger blocks of code inside functions.\n",
    "- **Imports:** Always put import statements at the top of the file. They should be on separate lines.\n",
    "- **Naming conventions**: Follow specific naming conventions such as using lowercase letters with words separated by underscores for functions, variables, and modules.\n",
    "- **Whitespaces**: Use spaces around operators and after commas to improve code clarity. Avoid unnecessary whitespace within parentheses or brackets.\n",
    "\n",
    "You can read the entire **[PEP 8 Style Guide](https://pep8.org/)** for more details.\n",
    "\n",
    "Look at the example below that uses these recommendations.\n",
    "\n"
   ]
  },
  {
   "cell_type": "code",
   "execution_count": null,
   "id": "dddbf77a-5488-4b35-8d24-f02b3003325a",
   "metadata": {},
   "outputs": [],
   "source": [
    "# Import statements should be at the top of the file\n",
    "import math\n",
    "\n",
    "def calculate_distance(x1, y1, x2, y2):\n",
    "    \"\"\"\n",
    "    Calculate the distance between two points.\n",
    "    \n",
    "    Arguments:\n",
    "    x1, y1 (float): Coordinates of the first point.\n",
    "    x2, y2 (float): Coordinates of the second point.\n",
    "\n",
    "    Returns:\n",
    "    float: The distance between point 1 and point 2.\n",
    "    \"\"\"\n",
    "    \n",
    "    # 4 spaces per indentation level\n",
    "    dx = x2 - x1 # Use spaces around operators\n",
    "    dy = y2 - y1 # Use spaces around operators\n",
    "    \n",
    "    # Limiting the line length to a maximum of 79 characters\n",
    "    # Computing the distance using the Pythagorean theorem\n",
    "    distance = math.sqrt(dx**2 + dy**2) # Use spaces around operators and follows naming conventions\n",
    "    \n",
    "    return distance \n",
    "\n",
    "# Blank line to separate functions (also applies to classes)\n",
    "def print_distance(distance):\n",
    "    \"\"\"\n",
    "    Prints the distance between two points.\n",
    "    \n",
    "    Arguments:\n",
    "    distance (float): Distance to print.\n",
    "\n",
    "    Returns:\n",
    "    None\n",
    "    \"\"\"\n",
    "    \n",
    "    print(f\"The distance between the two points is {distance} units.\")"
   ]
  },
  {
   "cell_type": "markdown",
   "id": "68f6334b-408c-4d2e-8b8a-b641d225cebe",
   "metadata": {},
   "source": [
    "## Writing Readable Code\n",
    "\n",
    "The way you write and structure your code can have a big impact on its readability. Here are some practices to consider:\n",
    "\n",
    "- **Use Descriptive Names:** Variable, function, and class names should be descriptive and use the snake_case naming style. Avoid using single-letter variable names, unless in very short block codes where the variable has no real meaning.\n",
    "- **Use Comments Wisely:** While it's important to comment your code, don't overdo it. Comments should explain why something is done, not what is done. Python code should be self-explanatory.\n",
    "- **Stay Consistent:** If you choose a way to do something, stick with it. Consistency makes your code easier to read and understand.\n",
    "\n",
    "Look at the example below for how code can be made readable using descriptive names and comments:\n",
    "\n"
   ]
  },
  {
   "cell_type": "code",
   "execution_count": null,
   "id": "fdebbce7-4d4d-4f12-8053-56ad82f92a6f",
   "metadata": {},
   "outputs": [],
   "source": [
    "# Good coding practice with descriptive naming and comments\n",
    "def calculate_average(numbers):\n",
    "    \"\"\"Calculate the average of a list of numbers\"\"\"\n",
    "    total_sum = sum(numbers)  # Sum of all numbers\n",
    "    count = len(numbers)  # Count of numbers\n",
    "    return total_sum / count\n"
   ]
  },
  {
   "cell_type": "markdown",
   "id": "5d73280f-557f-4fc8-ab69-2ee710fe74cb",
   "metadata": {},
   "source": [
    "\n",
    "\n",
    "## Documenting Functions and Modules\n",
    "\n",
    "Good documentation is a key part of writing clean and maintainable code. It provides useful context and explanation for what your code does and why it's written the way it is. Other than documenting lines of code, we should also document functions. This is done in a different way. Here's an example of how you can document a function:\n"
   ]
  },
  {
   "cell_type": "code",
   "execution_count": null,
   "id": "86539533-583f-43af-a693-30f8f1a61b71",
   "metadata": {},
   "outputs": [],
   "source": [
    "\n",
    "def calculate_average(numbers):\n",
    "    \"\"\"\n",
    "    Calculate the average of a list of numbers.\n",
    "    \n",
    "    Arguments:\n",
    "    numbers (list): A list of numerical values.\n",
    "\n",
    "    Returns:\n",
    "    float: The average of the input numbers.\n",
    "    \"\"\"\n",
    "    total_sum = sum(numbers)\n",
    "    count = len(numbers)\n",
    "    return total_sum / count"
   ]
  },
  {
   "cell_type": "markdown",
   "id": "37b9e614-db47-412c-9aa1-135626caf902",
   "metadata": {},
   "source": [
    "In this example, a multi-line docstring at the beginning of the function has been used. This docstring explains what the function does, its arguments, and what it returns.\n",
    "\n",
    "Documenting your modules works similarly. At the beginning of your Python file, you should include a docstring that explains what the module does:\n",
    "\n",
    "```python\n",
    "\"\"\"\n",
    "This module includes functions related to arithmetic operations like calculating averages, sum, etc.\n",
    "\"\"\"\n",
    "```"
   ]
  },
  {
   "cell_type": "markdown",
   "id": "f607b241-36fb-4dd3-b0c9-03351751926e",
   "metadata": {},
   "source": [
    "## Additional Reading Materials\n",
    "\n",
    "- [5 Python Best Practices That Every Programmer Should Follow](https://towardsdatascience.com/5-python-best-practices-every-python-programmer-should-follow-3c92971ed370) (look at the first 4)\n",
    "- [PEP 8 – Style Guide for Python Code](https://peps.python.org/pep-0008/)"
   ]
  }
 ],
 "metadata": {
  "kernelspec": {
   "display_name": "Python 3 (ipykernel)",
   "language": "python",
   "name": "python3"
  },
  "language_info": {
   "codemirror_mode": {
    "name": "ipython",
    "version": 3
   },
   "file_extension": ".py",
   "mimetype": "text/x-python",
   "name": "python",
   "nbconvert_exporter": "python",
   "pygments_lexer": "ipython3",
   "version": "3.9.13"
  }
 },
 "nbformat": 4,
 "nbformat_minor": 5
}
