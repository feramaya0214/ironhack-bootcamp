{
  "cells": [
    {
      "cell_type": "markdown",
      "metadata": {
        "toc": true,
        "id": "5CDIBo5J-Yar"
      },
      "source": [
        "<h1>Table of Contents<span class=\"tocSkip\"></span></h1>\n",
        "<div class=\"toc\"><ul class=\"toc-item\"><li><span><a href=\"#Short-intro-to-NumPy\" data-toc-modified-id=\"Short-intro-to-NumPy-1\"><span class=\"toc-item-num\">1&nbsp;&nbsp;</span>Short intro to NumPy</a></span></li><li><span><a href=\"#Introduction-to-Pandas-Library\" data-toc-modified-id=\"Introduction-to-Pandas-Library-2\"><span class=\"toc-item-num\">2&nbsp;&nbsp;</span>Introduction to Pandas Library</a></span><ul class=\"toc-item\"><li><span><a href=\"#Key-Features-of-Pandas\" data-toc-modified-id=\"Key-Features-of-Pandas-2.1\"><span class=\"toc-item-num\">2.1&nbsp;&nbsp;</span>Key Features of Pandas</a></span></li><li><span><a href=\"#DataFrames-and-Series-in-Pandas\" data-toc-modified-id=\"DataFrames-and-Series-in-Pandas-2.2\"><span class=\"toc-item-num\">2.2&nbsp;&nbsp;</span>DataFrames and Series in Pandas</a></span></li></ul></li><li><span><a href=\"#Series-in-Pandas\" data-toc-modified-id=\"Series-in-Pandas-3\"><span class=\"toc-item-num\">3&nbsp;&nbsp;</span>Series in Pandas</a></span><ul class=\"toc-item\"><li><span><a href=\"#Creating-Series\" data-toc-modified-id=\"Creating-Series-3.1\"><span class=\"toc-item-num\">3.1&nbsp;&nbsp;</span>Creating Series</a></span><ul class=\"toc-item\"><li><span><a href=\"#From-a-list\" data-toc-modified-id=\"From-a-list-3.1.1\"><span class=\"toc-item-num\">3.1.1&nbsp;&nbsp;</span>From a list</a></span></li><li><span><a href=\"#From-a-list-with-index\" data-toc-modified-id=\"From-a-list-with-index-3.1.2\"><span class=\"toc-item-num\">3.1.2&nbsp;&nbsp;</span>From a list with index</a></span></li><li><span><a href=\"#From-a-dictionary\" data-toc-modified-id=\"From-a-dictionary-3.1.3\"><span class=\"toc-item-num\">3.1.3&nbsp;&nbsp;</span>From a dictionary</a></span></li><li><span><a href=\"#From-a-file\" data-toc-modified-id=\"From-a-file-3.1.4\"><span class=\"toc-item-num\">3.1.4&nbsp;&nbsp;</span>From a file</a></span></li></ul></li><li><span><a href=\"#Data-access-in-Series\" data-toc-modified-id=\"Data-access-in-Series-3.2\"><span class=\"toc-item-num\">3.2&nbsp;&nbsp;</span>Data access in Series</a></span></li><li><span><a href=\"#Methods-in-Series\" data-toc-modified-id=\"Methods-in-Series-3.3\"><span class=\"toc-item-num\">3.3&nbsp;&nbsp;</span>Methods in Series</a></span><ul class=\"toc-item\"><li><span><a href=\"#concat()\" data-toc-modified-id=\"concat()-3.3.1\"><span class=\"toc-item-num\">3.3.1&nbsp;&nbsp;</span><code>concat()</code></a></span></li><li><span><a href=\"#sort_values()-and-sort_index()\" data-toc-modified-id=\"sort_values()-and-sort_index()-3.3.2\"><span class=\"toc-item-num\">3.3.2&nbsp;&nbsp;</span><code>sort_values() and sort_index()</code></a></span></li><li><span><a href=\"#value_counts()\" data-toc-modified-id=\"value_counts()-3.3.3\"><span class=\"toc-item-num\">3.3.3&nbsp;&nbsp;</span><code>value_counts()</code></a></span></li></ul></li><li><span><a href=\"#💡-Check-for-understanding\" data-toc-modified-id=\"💡-Check-for-understanding-3.4\"><span class=\"toc-item-num\">3.4&nbsp;&nbsp;</span>💡 Check for understanding</a></span></li></ul></li><li><span><a href=\"#Dataframes-in-Pandas\" data-toc-modified-id=\"Dataframes-in-Pandas-4\"><span class=\"toc-item-num\">4&nbsp;&nbsp;</span>Dataframes in Pandas</a></span><ul class=\"toc-item\"><li><ul class=\"toc-item\"><li><span><a href=\"#head()-and-tail()\" data-toc-modified-id=\"head()-and-tail()-4.0.1\"><span class=\"toc-item-num\">4.0.1&nbsp;&nbsp;</span><code>head()</code> and <code>tail()</code></a></span></li><li><span><a href=\"#index,-columns-and-values\" data-toc-modified-id=\"index,-columns-and-values-4.0.2\"><span class=\"toc-item-num\">4.0.2&nbsp;&nbsp;</span><code>index, columns and values</code></a></span></li></ul></li><li><span><a href=\"#Data-access-in-Dataframe\" data-toc-modified-id=\"Data-access-in-Dataframe-4.1\"><span class=\"toc-item-num\">4.1&nbsp;&nbsp;</span>Data access in Dataframe</a></span><ul class=\"toc-item\"><li><span><a href=\"#Columns\" data-toc-modified-id=\"Columns-4.1.1\"><span class=\"toc-item-num\">4.1.1&nbsp;&nbsp;</span>Columns</a></span></li><li><span><a href=\"#Rows\" data-toc-modified-id=\"Rows-4.1.2\"><span class=\"toc-item-num\">4.1.2&nbsp;&nbsp;</span>Rows</a></span></li><li><span><a href=\"#Specific-values\" data-toc-modified-id=\"Specific-values-4.1.3\"><span class=\"toc-item-num\">4.1.3&nbsp;&nbsp;</span>Specific values</a></span></li></ul></li><li><span><a href=\"#More-DataFrame-Methods\" data-toc-modified-id=\"More-DataFrame-Methods-4.2\"><span class=\"toc-item-num\">4.2&nbsp;&nbsp;</span>More DataFrame Methods</a></span><ul class=\"toc-item\"><li><span><a href=\"#shape\" data-toc-modified-id=\"shape-4.2.1\"><span class=\"toc-item-num\">4.2.1&nbsp;&nbsp;</span><code>shape</code></a></span></li><li><span><a href=\"#describe()\" data-toc-modified-id=\"describe()-4.2.2\"><span class=\"toc-item-num\">4.2.2&nbsp;&nbsp;</span><code>describe()</code></a></span></li><li><span><a href=\"#info()\" data-toc-modified-id=\"info()-4.2.3\"><span class=\"toc-item-num\">4.2.3&nbsp;&nbsp;</span><code>info()</code></a></span></li><li><span><a href=\"#nunique()-and-unique()\" data-toc-modified-id=\"nunique()-and-unique()-4.2.4\"><span class=\"toc-item-num\">4.2.4&nbsp;&nbsp;</span><code>nunique() and unique()</code></a></span></li><li><span><a href=\"#dtypes\" data-toc-modified-id=\"dtypes-4.2.5\"><span class=\"toc-item-num\">4.2.5&nbsp;&nbsp;</span><code>dtypes</code></a></span></li><li><span><a href=\"#select_dtypes()\" data-toc-modified-id=\"select_dtypes()-4.2.6\"><span class=\"toc-item-num\">4.2.6&nbsp;&nbsp;</span><code>select_dtypes()</code></a></span></li><li><span><a href=\"#Aggregation-such-as-max()\" data-toc-modified-id=\"Aggregation-such-as-max()-4.2.7\"><span class=\"toc-item-num\">4.2.7&nbsp;&nbsp;</span>Aggregation such as <code>max()</code></a></span></li></ul></li><li><span><a href=\"#💡-Check-for-understanding\" data-toc-modified-id=\"💡-Check-for-understanding-4.3\"><span class=\"toc-item-num\">4.3&nbsp;&nbsp;</span>💡 Check for understanding</a></span></li></ul></li><li><span><a href=\"#Summary\" data-toc-modified-id=\"Summary-5\"><span class=\"toc-item-num\">5&nbsp;&nbsp;</span>Summary</a></span></li><li><span><a href=\"#Extra:-Creating-Dataframes-from-a-Dictionary\" data-toc-modified-id=\"Extra:-Creating-Dataframes-from-a-Dictionary-6\"><span class=\"toc-item-num\">6&nbsp;&nbsp;</span>Extra: Creating Dataframes from a Dictionary</a></span></li><li><span><a href=\"#Extra:-pickle\" data-toc-modified-id=\"Extra:-pickle-7\"><span class=\"toc-item-num\">7&nbsp;&nbsp;</span>Extra: pickle</a></span><ul class=\"toc-item\"><li><span><a href=\"#Saving-DataFrames-with-Pickle\" data-toc-modified-id=\"Saving-DataFrames-with-Pickle-7.1\"><span class=\"toc-item-num\">7.1&nbsp;&nbsp;</span>Saving DataFrames with Pickle</a></span></li><li><span><a href=\"#Loading-DataFrames-from-Pickle\" data-toc-modified-id=\"Loading-DataFrames-from-Pickle-7.2\"><span class=\"toc-item-num\">7.2&nbsp;&nbsp;</span>Loading DataFrames from Pickle</a></span></li></ul></li></ul></div>"
      ]
    },
    {
      "cell_type": "markdown",
      "metadata": {
        "id": "__U1fE6H-Yat"
      },
      "source": [
        "# Short intro to NumPy"
      ]
    },
    {
      "cell_type": "markdown",
      "metadata": {
        "id": "4_Apu1CQ-Yau"
      },
      "source": [
        "Let's start by mentioning NumPy as Pandas builds on top of NumPy.\n",
        "\n",
        "NumPy is a powerful library for numerical computing in Python. It provides support for large, multi-dimensional arrays and matrices, along with an extensive collection of mathematical functions to operate on these arrays efficiently."
      ]
    },
    {
      "cell_type": "code",
      "execution_count": null,
      "metadata": {
        "id": "fM8768SF-Yau"
      },
      "outputs": [],
      "source": []
    },
    {
      "cell_type": "markdown",
      "metadata": {
        "id": "7b-5UkBX-Yau"
      },
      "source": [
        "# Introduction to Pandas Library\n",
        "\n",
        "`pandas` is a powerful library designed for working with tabulated and tagged data, making it ideal for handling spreadsheets, SQL tables, and more. It revolves around two main data structures: `Series` and `DataFrames`.\n",
        "\n",
        "## Key Features of Pandas\n",
        "\n",
        "- Robust data import/export: `pandas` provides efficient tools to read and write data from various file formats like CSV, XLS, SQL, and HDF5.\n",
        "- Data manipulation: With `pandas`, you can easily filter, add, or delete data, enabling seamless data processing.\n",
        "- High-performance and versatility: It combines the performance of `numpy` arrays with the ability to handle tabulated data efficiently.\n",
        "\n",
        "To import the necessary modules from the `pandas` library, we use the following syntax:"
      ]
    },
    {
      "cell_type": "code",
      "execution_count": null,
      "metadata": {
        "tags": [],
        "id": "4zeQq6Pm-Yau"
      },
      "outputs": [],
      "source": []
    },
    {
      "cell_type": "markdown",
      "metadata": {
        "id": "wTO0SG0p-Yav"
      },
      "source": [
        "![](https://github.com/data-bootcamp-v4/lessons/blob/main/img/pandas.svg?raw=true)"
      ]
    },
    {
      "cell_type": "markdown",
      "metadata": {
        "id": "H8cn9_5f-Yav"
      },
      "source": [
        "## DataFrames and Series in Pandas\n",
        "\n",
        "In `pandas`, a `Series` is a one-dimensional array of data with associated labels called the *index*. If no index is specified, it generates an ordered sequence of integers.\n",
        "\n",
        "```python\n",
        "# Creating a Series\n",
        "s = pd.Series(data, index=index)\n",
        "```\n",
        "\n",
        "On the other hand, a `DataFrame` is a two-dimensional data structure that stores data in tabular form, with labeled rows and columns. Each row represents an observation, and each column represents a variable. `DataFrame` can handle heterogeneous data with different types (numeric, string, boolean, etc.). It also includes variable names, types, and methods to access and modify the data.\n",
        "\n",
        "```python\n",
        "# Creating a DataFrame\n",
        "df = pd.DataFrame(data, ...)\n",
        "```\n"
      ]
    },
    {
      "cell_type": "markdown",
      "metadata": {
        "id": "hULrbD_Q-Yav"
      },
      "source": [
        "---\n",
        "# Series in Pandas\n",
        "\n",
        "## Creating Series\n"
      ]
    },
    {
      "cell_type": "markdown",
      "metadata": {
        "id": "JLN7hh2S-Yaw"
      },
      "source": [
        "### From a list"
      ]
    },
    {
      "cell_type": "markdown",
      "metadata": {
        "id": "6PVf8yOS-Yaw"
      },
      "source": [
        "Create a Series with default indexes from a list"
      ]
    },
    {
      "cell_type": "code",
      "execution_count": null,
      "metadata": {
        "id": "GJ2VOoUi-Yaw"
      },
      "outputs": [],
      "source": []
    },
    {
      "cell_type": "markdown",
      "metadata": {
        "id": "H_mgDlTE-Yaw"
      },
      "source": [
        "The `Series` have two attributes:` values` and `index`. The first is a `numpy array` that stores the data, and the second is an object that contains the indexes."
      ]
    },
    {
      "cell_type": "code",
      "execution_count": null,
      "metadata": {
        "id": "eWXoxkP7-Yaw"
      },
      "outputs": [],
      "source": []
    },
    {
      "cell_type": "markdown",
      "metadata": {
        "id": "7f89DqdY-Yaw"
      },
      "source": [
        "In Pandas, `Series.items()` is a method used to iterate over the elements of a Pandas Series. It returns an iterator that yields the index-label and corresponding value pairs of the Series."
      ]
    },
    {
      "cell_type": "code",
      "execution_count": null,
      "metadata": {
        "id": "r5hGtltf-Yax"
      },
      "outputs": [],
      "source": []
    },
    {
      "cell_type": "markdown",
      "metadata": {
        "id": "XVKkxxBH-Yax"
      },
      "source": [
        "### From a list with index"
      ]
    },
    {
      "cell_type": "markdown",
      "metadata": {
        "id": "cFAXl9zW-Yax"
      },
      "source": [
        "When creating a `Series`, you can explicitly define an `array` index and pass it as an argument."
      ]
    },
    {
      "cell_type": "markdown",
      "metadata": {
        "id": "np2yes7s-Yax"
      },
      "source": [
        "\n",
        "Creating series with defined indexes"
      ]
    },
    {
      "cell_type": "code",
      "execution_count": null,
      "metadata": {
        "tags": [],
        "id": "YRraC0Xa-Yax"
      },
      "outputs": [],
      "source": []
    },
    {
      "cell_type": "markdown",
      "metadata": {
        "id": "7S-RveKP-Yax"
      },
      "source": [
        "### From a dictionary"
      ]
    },
    {
      "cell_type": "code",
      "execution_count": null,
      "metadata": {
        "id": "ORa3Tvep-Yax"
      },
      "outputs": [],
      "source": []
    },
    {
      "cell_type": "markdown",
      "metadata": {
        "id": "auehFtib-Yax"
      },
      "source": [
        "### From a file\n",
        "\n",
        "`read_csv()` is a Pandas function used to read data from a CSV file and create a DataFrame.\n",
        "\n",
        "When assigning one column in the parameter `usecols` and then calling the method `squeeze(\"columns\")`, the resulst is a Series instead of a Dataframe"
      ]
    },
    {
      "cell_type": "code",
      "execution_count": null,
      "metadata": {
        "tags": [],
        "id": "ZKrWntq3-Yax"
      },
      "outputs": [],
      "source": [
        "# Load Titanic dataset from an online source\n",
        "url = 'https://raw.githubusercontent.com/data-bootcamp-v4/data/main/titanic_train.csv'"
      ]
    },
    {
      "cell_type": "markdown",
      "metadata": {
        "tags": [],
        "id": "SJNcVgQn-Yay"
      },
      "source": [
        "\n",
        "\n",
        "---\n",
        "## Data access in Series\n"
      ]
    },
    {
      "cell_type": "markdown",
      "metadata": {
        "id": "TtyduZvG-Yay"
      },
      "source": [
        "Data access in Pandas can be achieved through either the categorical index or the internally generated numerical index."
      ]
    },
    {
      "cell_type": "code",
      "execution_count": null,
      "metadata": {
        "id": "x3x52wTk-Yay"
      },
      "outputs": [],
      "source": []
    },
    {
      "cell_type": "markdown",
      "metadata": {
        "id": "b3H9f9BW-Yay"
      },
      "source": [
        "\n",
        "\n",
        "---\n",
        "## Methods in Series"
      ]
    },
    {
      "cell_type": "markdown",
      "metadata": {
        "id": "42YfHmn3-Yay"
      },
      "source": [
        "### `concat()`"
      ]
    },
    {
      "cell_type": "markdown",
      "metadata": {
        "id": "N8WzbaP4-Yay"
      },
      "source": [
        "`concat()` is a pandas function used to concatenate and combine DataFrames along a specified axis, either vertically (rows) or horizontally (columns)."
      ]
    },
    {
      "cell_type": "code",
      "execution_count": null,
      "metadata": {
        "tags": [],
        "id": "VUL4Iyhb-Ya0"
      },
      "outputs": [],
      "source": []
    },
    {
      "cell_type": "markdown",
      "metadata": {
        "id": "KhMAfLkF-Ya0"
      },
      "source": [
        "By default `concat` keeps the original indexes. It does not restart the index by default, unless we specify `ignore_index=True`."
      ]
    },
    {
      "cell_type": "code",
      "execution_count": null,
      "metadata": {
        "tags": [],
        "id": "S9LosT_N-Ya0"
      },
      "outputs": [],
      "source": []
    },
    {
      "cell_type": "markdown",
      "metadata": {
        "id": "glppIgAo-Ya1"
      },
      "source": [
        "### `sort_values() and sort_index()`\n",
        "\n",
        "`sort_values()` is a pandas DataFrame method that sorts the DataFrame based on specified column(s), while `sort_index()` sorts the DataFrame based on its index labels."
      ]
    },
    {
      "cell_type": "code",
      "execution_count": null,
      "metadata": {
        "tags": [],
        "id": "xMElq4Wk-Ya1"
      },
      "outputs": [],
      "source": []
    },
    {
      "cell_type": "markdown",
      "metadata": {
        "id": "gFauTIWB-Ya1"
      },
      "source": [
        "Sort index or sort values does not change the series.\n",
        "We can either save it again in the variable or we can use a paremeter\n",
        "called **inplace**."
      ]
    },
    {
      "cell_type": "code",
      "execution_count": null,
      "metadata": {
        "id": "Qmb8ZEus-Ya1"
      },
      "outputs": [],
      "source": []
    },
    {
      "cell_type": "markdown",
      "metadata": {
        "id": "0tUEZMMe-Ya1"
      },
      "source": [
        "### `value_counts()`"
      ]
    },
    {
      "cell_type": "markdown",
      "metadata": {
        "id": "SIIUHLgI-Ya1"
      },
      "source": [
        "`value_counts()` is a Pandas function that returns a Series containing the counts of unique values in a Series or DataFrame."
      ]
    },
    {
      "cell_type": "code",
      "execution_count": null,
      "metadata": {
        "tags": [],
        "id": "1Kvl2mu--Ya1"
      },
      "outputs": [],
      "source": []
    },
    {
      "cell_type": "markdown",
      "metadata": {
        "id": "pV1KMKcD-Ya1"
      },
      "source": [
        "## 💡 Check for understanding"
      ]
    },
    {
      "cell_type": "code",
      "execution_count": null,
      "metadata": {
        "id": "2SFMNkDg-Ya2"
      },
      "outputs": [],
      "source": [
        "titanic_series"
      ]
    },
    {
      "cell_type": "markdown",
      "metadata": {
        "id": "L7jUm_XS-Ya2"
      },
      "source": [
        "1. Get the column \"Embarked\" from the Titanic csv as a Pandas Series\n",
        "2. Print the first value\n",
        "3. Print the last 5 values\n",
        "3. Append \"NA\" to the Series\n",
        "3. Get the number of each Embarked type (number of repeated values)\n",
        "3. Order the Series *descending*, and print the Embarked type most repeated in the Series"
      ]
    },
    {
      "cell_type": "code",
      "execution_count": null,
      "metadata": {
        "id": "YbCPlcCm-Ya2"
      },
      "outputs": [],
      "source": [
        "# Your code goes here"
      ]
    },
    {
      "cell_type": "markdown",
      "metadata": {
        "id": "b4wIHFV--Ya2"
      },
      "source": [
        "\n",
        "# Dataframes in Pandas\n",
        "\n",
        "Unlike `Series`, `DataFrame` is designed to store heterogeneous multivariable data. It can be created from dictionaries (look to Extra section for examples)."
      ]
    },
    {
      "cell_type": "markdown",
      "metadata": {
        "id": "MniOYZ_7-Ya2"
      },
      "source": [
        "We will use `read_csv` to read data from a CSV file and create a DataFrame.\n",
        "\n",
        "We won't be using now the parameter `usecols` nor calling the method `squeeze(\"columns\")`."
      ]
    },
    {
      "cell_type": "code",
      "execution_count": null,
      "metadata": {
        "tags": [],
        "id": "hWfWRuuh-Ya3"
      },
      "outputs": [],
      "source": [
        "# Load Titanic dataset from an online source\n",
        "url = 'https://raw.githubusercontent.com/data-bootcamp-v4/data/main/titanic_train.csv'"
      ]
    },
    {
      "cell_type": "markdown",
      "metadata": {
        "id": "LGjLOph1-Ya3"
      },
      "source": [
        "### `head()` and `tail()`"
      ]
    },
    {
      "cell_type": "markdown",
      "metadata": {
        "id": "mkoAyzcp-Ya3"
      },
      "source": [
        "The `head()` method returns the first few rows of a DataFrame or Series, while the `tail()` method returns the last few rows."
      ]
    },
    {
      "cell_type": "code",
      "execution_count": null,
      "metadata": {
        "tags": [],
        "id": "5XDhNkql-Ya3"
      },
      "outputs": [],
      "source": []
    },
    {
      "cell_type": "markdown",
      "metadata": {
        "id": "6Kv4FXpE-Ya3"
      },
      "source": [
        "### `index, columns and values`"
      ]
    },
    {
      "cell_type": "markdown",
      "metadata": {
        "id": "_VjlGM5x-Ya3"
      },
      "source": [
        "The `index` attribute in Pandas returns the index labels of a DataFrame or Series, and the `columns` attribute returns the column labels of a DataFrame."
      ]
    },
    {
      "cell_type": "code",
      "execution_count": null,
      "metadata": {
        "id": "xCvkCnlN-Ya3"
      },
      "outputs": [],
      "source": []
    },
    {
      "cell_type": "markdown",
      "metadata": {
        "id": "SbB9X7TO-Ya3"
      },
      "source": [
        "`RangeIndex(start=0, stop=1460, step=1)` is a special type of index in Pandas called a `RangeIndex`. It represents a range of integer values starting from 0, up to (but not including) 1460, with a step size of 1."
      ]
    },
    {
      "cell_type": "code",
      "execution_count": null,
      "metadata": {
        "tags": [],
        "id": "pQmzz6hP-Ya4"
      },
      "outputs": [],
      "source": []
    },
    {
      "cell_type": "markdown",
      "metadata": {
        "id": "cAMAjinA-Ya4"
      },
      "source": [
        "In Pandas, `df.values` is an attribute that returns the underlying NumPy array of a DataFrame df. It represents the actual data stored in the DataFrame as a two-dimensional NumPy array."
      ]
    },
    {
      "cell_type": "code",
      "execution_count": null,
      "metadata": {
        "tags": [],
        "id": "iKd_mg3u-Ya4"
      },
      "outputs": [],
      "source": []
    },
    {
      "cell_type": "markdown",
      "metadata": {
        "id": "TvC72DRf-Ya4"
      },
      "source": [
        "\n",
        "Additionally, `Pandas` can create Dataframes from other sources, such as JSON, URL ..."
      ]
    },
    {
      "cell_type": "markdown",
      "metadata": {
        "id": "NVJz9rX2-Ya4"
      },
      "source": [
        "\n",
        "---\n",
        "## Data access in Dataframe\n"
      ]
    },
    {
      "cell_type": "markdown",
      "metadata": {
        "id": "C7toEUpA-Ya4"
      },
      "source": [
        "### Columns"
      ]
    },
    {
      "cell_type": "markdown",
      "metadata": {
        "id": "okcZEA_G-Ya4"
      },
      "source": [
        "You can extract columns from a `DataFrame` using dictionary-like notation or as attributes, obtaining a `Series` object in both cases, provided the column label is a valid Python identifier."
      ]
    },
    {
      "cell_type": "code",
      "execution_count": null,
      "metadata": {
        "tags": [],
        "id": "LYoMLUaz-Ya4"
      },
      "outputs": [],
      "source": [
        "titanic_df[\"Sex\"] #dict way of accesing a column"
      ]
    },
    {
      "cell_type": "code",
      "execution_count": null,
      "metadata": {
        "tags": [],
        "id": "CnnVHldb-Ya5"
      },
      "outputs": [],
      "source": [
        "titanic_df.Sex #attribute access of the column\n",
        "\n",
        "#this only works if the name doesn't have weird things, this means\n",
        "#no spaces!!!"
      ]
    },
    {
      "cell_type": "code",
      "execution_count": null,
      "metadata": {
        "tags": [],
        "id": "1xQCkBsJ-Ya5"
      },
      "outputs": [],
      "source": [
        "titanic_df[[\"Sex\"]] #by using double [] we get a Dataframe instead\n",
        "# of a series"
      ]
    },
    {
      "cell_type": "code",
      "execution_count": null,
      "metadata": {
        "tags": [],
        "id": "cKdyhsAl-Ya5"
      },
      "outputs": [],
      "source": [
        "titanic_df[[\"Sex\", \"Fare\"]]"
      ]
    },
    {
      "cell_type": "markdown",
      "metadata": {
        "id": "xhk3NcZM-Ya6"
      },
      "source": [
        "### Rows"
      ]
    },
    {
      "cell_type": "markdown",
      "metadata": {
        "id": "Z-NKOz-g-Ya6"
      },
      "source": [
        "To access rows in a Pandas DataFrame, you can use the `iloc` attribute with integer-based indexing or the `loc` attribute with label-based indexing. For example, `df.iloc[0]` will access the first row, and `df.loc['row_label']` will access the row with the specified label."
      ]
    },
    {
      "cell_type": "markdown",
      "metadata": {
        "id": "YjsfIImF-Ya6"
      },
      "source": [
        "\n",
        "<div class=\"alert alert-info\">Note: Consult http://pandas.pydata.org/pandas-docs/version/0.18.1/indexing.html#different-choices-for-indexing to understand the differences between methods.</div>"
      ]
    },
    {
      "cell_type": "markdown",
      "metadata": {
        "id": "91zsGj8x-Ya6"
      },
      "source": [
        "Just for the sake of this example, we will create a dictionary with a non-default index."
      ]
    },
    {
      "cell_type": "code",
      "execution_count": null,
      "metadata": {
        "id": "ZNZSHLpl-Ya7"
      },
      "outputs": [],
      "source": [
        "d_index = {\n",
        "    \"name\": [\"Paula\", \"Mark\"],\n",
        "    \"score\": [98.5, 95]\n",
        "}\n",
        "\n",
        "df_index = pd.DataFrame(d_index, index=[\"123A\", \"789B\"])\n",
        "df_index"
      ]
    },
    {
      "cell_type": "markdown",
      "metadata": {
        "id": "6tBfzIY--Ya7"
      },
      "source": [
        "\n",
        "**loc** is used for label-based indexing to access rows."
      ]
    },
    {
      "cell_type": "code",
      "execution_count": null,
      "metadata": {
        "id": "NRZckvYp-Ya7"
      },
      "outputs": [],
      "source": []
    },
    {
      "cell_type": "markdown",
      "metadata": {
        "id": "kOSPxXy1-Ya7"
      },
      "source": [
        "\n",
        "**iloc** is used for integer-based indexing in Pandas to access rows"
      ]
    },
    {
      "cell_type": "code",
      "execution_count": null,
      "metadata": {
        "id": "7BoHp5o9-Ya8"
      },
      "outputs": [],
      "source": []
    },
    {
      "cell_type": "markdown",
      "metadata": {
        "id": "gdQRq_rg-Ya8"
      },
      "source": [
        "### Specific values"
      ]
    },
    {
      "cell_type": "markdown",
      "metadata": {
        "id": "c5MoEp88-Ya8"
      },
      "source": [
        "Here's a summary of the different ways to access individual values in a Pandas DataFrame:\n",
        "\n",
        "1. `df.loc[row_label][column_label]`: Chooses the row with the label and then the value in that row with the column label.\n",
        "\n",
        "2. `df.iloc[row_position][column_label]`: Selects the row with the position and then the value in that row with the column label.\n",
        "\n",
        "3. `df.loc[row_label, column_label]`: Directly accesses the value using both row and column labels.\n",
        "\n",
        "4. `df.iloc[row_position, column_position]`: Directly accesses the value using both row and column positions.\n",
        "\n",
        "Note: you might see `df[row_label][column_label]`, even though is less recommended that using `loc()`."
      ]
    },
    {
      "cell_type": "code",
      "execution_count": null,
      "metadata": {
        "id": "yXp-ZbIm-Ya8"
      },
      "outputs": [],
      "source": []
    },
    {
      "cell_type": "markdown",
      "metadata": {
        "id": "sGtJvnGZ-Ya8"
      },
      "source": [
        "\n",
        "---\n",
        "## More DataFrame Methods\n",
        "\n",
        "\n",
        "Let's see some useful methods of the Dataframe class."
      ]
    },
    {
      "cell_type": "markdown",
      "metadata": {
        "id": "un8wQ2H2-Ya8"
      },
      "source": [
        "### `shape`\n",
        "\n",
        "`shape` is a Pandas attribute that returns a tuple representing the dimensions of a DataFrame or Series, indicating the number of rows and columns, while `shape()` is not a valid function in Pandas, and attempting to call it will result in an AttributeError."
      ]
    },
    {
      "cell_type": "code",
      "execution_count": null,
      "metadata": {
        "id": "EHxNv53N-Ya8"
      },
      "outputs": [],
      "source": []
    },
    {
      "cell_type": "markdown",
      "metadata": {
        "id": "MuuAs-rz-Ya8"
      },
      "source": [
        "### `describe()`\n",
        "\n",
        "`describe()` is a Pandas method that generates descriptive statistics of a DataFrame, providing information on count, mean, standard deviation, minimum, maximum, and quartiles for each numerical column."
      ]
    },
    {
      "cell_type": "code",
      "execution_count": null,
      "metadata": {
        "id": "vs9v6TiA-Ya8"
      },
      "outputs": [],
      "source": []
    },
    {
      "cell_type": "markdown",
      "metadata": {
        "id": "Xa59sO7l-Ya8"
      },
      "source": [
        "### `info()`\n",
        "\n",
        "`info()` is a Pandas method that provides a concise summary of a DataFrame, including information about the data types, non-null values, and memory usage."
      ]
    },
    {
      "cell_type": "code",
      "execution_count": null,
      "metadata": {
        "id": "mcFCj5Lc-Ya8"
      },
      "outputs": [],
      "source": []
    },
    {
      "cell_type": "markdown",
      "metadata": {
        "id": "unuFGiPc-Ya9"
      },
      "source": [
        "### `nunique() and unique()`\n",
        "\n",
        "`nunique()` is a Pandas function that returns the number of unique elements in a Series or DataFrame, while `unique()` returns an array of unique elements in a Series or DataFrame."
      ]
    },
    {
      "cell_type": "code",
      "execution_count": null,
      "metadata": {
        "id": "M8OQUPsB-Ya9"
      },
      "outputs": [],
      "source": []
    },
    {
      "cell_type": "markdown",
      "metadata": {
        "id": "-_RHM-Ag-Ya9"
      },
      "source": [
        "### `dtypes`"
      ]
    },
    {
      "cell_type": "markdown",
      "metadata": {
        "id": "7dUseIPF-Ya9"
      },
      "source": [
        "`dtypes` is a Pandas attribute that returns the data types of each column in a DataFrame, while `dtype` is a method that returns the data type of a single element in a Series or DataFrame."
      ]
    },
    {
      "cell_type": "code",
      "execution_count": null,
      "metadata": {
        "tags": [],
        "id": "9HBOC_z9-Ya9"
      },
      "outputs": [],
      "source": []
    },
    {
      "cell_type": "markdown",
      "metadata": {
        "id": "c_v-lcaf-Ya9"
      },
      "source": [
        "### `select_dtypes()`"
      ]
    },
    {
      "cell_type": "markdown",
      "metadata": {
        "id": "i78Xd0Jv-Ya9"
      },
      "source": [
        "`select_dtypes()` is a pandas function used to filter columns in a DataFrame based on their data types. It allows you to select numeric, object (string), boolean, datetime, or categorical columns.\n",
        "\n",
        "Syntax:\n",
        "```python\n",
        "DataFrame.select_dtypes(include=None, exclude=None)\n",
        "```\n",
        "\n",
        "- `include`: A list of data types or strings representing data types to include in the selection. If specified, only columns with these data types will be included.\n",
        "- `exclude`: A list of data types or strings representing data types to exclude from the selection. If specified, columns with these data types will be excluded.\n",
        "\n",
        "Example:\n",
        "```python\n",
        "# Assuming df is a DataFrame\n",
        "numeric_columns = df.select_dtypes(include='number')\n",
        "object_columns = df.select_dtypes(include='object')\n",
        "```\n",
        "\n"
      ]
    },
    {
      "cell_type": "code",
      "execution_count": null,
      "metadata": {
        "id": "T9z3lgRX-Ya9"
      },
      "outputs": [],
      "source": []
    },
    {
      "cell_type": "markdown",
      "metadata": {
        "id": "idlCGKrr-Ya9"
      },
      "source": [
        "### Aggregation such as `max()`"
      ]
    },
    {
      "cell_type": "code",
      "execution_count": null,
      "metadata": {
        "id": "l4aXpCTB-Ya9"
      },
      "outputs": [],
      "source": []
    },
    {
      "cell_type": "markdown",
      "metadata": {
        "id": "s9vtsPwl-Ya9"
      },
      "source": [
        " Just like `max()`, there are many methods that can be applied to either the entire dataframe or its individual columns."
      ]
    },
    {
      "cell_type": "markdown",
      "metadata": {
        "id": "SCuPGQ-p-Ya9"
      },
      "source": [
        "## 💡 Check for understanding"
      ]
    },
    {
      "cell_type": "markdown",
      "metadata": {
        "id": "Nu4pYUAa-Ya9"
      },
      "source": [
        "- a. Use the original titanic_df\n",
        "- b. Select the `Sex` and `Fare` columns.\n",
        "- c. Indicate how many different types of `Sex` there are.\n",
        "- d. Indicate how many `Sex` of each type there are.\n",
        "- e. Show a statistical summary of all the variables.\n",
        "- f. Write some conclusions"
      ]
    },
    {
      "cell_type": "code",
      "execution_count": null,
      "metadata": {
        "id": "kty_M70--Ya9"
      },
      "outputs": [],
      "source": [
        "# Your code goes here"
      ]
    },
    {
      "cell_type": "markdown",
      "metadata": {
        "id": "Jd0IQqwl-Ya-"
      },
      "source": [
        "# Summary"
      ]
    },
    {
      "cell_type": "markdown",
      "metadata": {
        "id": "t__sby9o-Ya-"
      },
      "source": [
        "- Pandas is a library designed for working with tabulated and tagged data, making it ideal for handling spreadsheets, SQL tables, and more, built on top of NumPy.\n",
        "- DataFrames and Series are the two main data structures in Pandas.\n",
        "- Series is a one-dimensional array of data with associated labels called the index, while DataFrame is a two-dimensional tabular data structure with labeled rows and columns.\n",
        "- Data access in Series and DataFrame can be achieved using integer-based indexing (iloc), label-based indexing (loc), or dictionary-like notation for column access.\n",
        "- Series and DataFrame have various methods, such as sort_values(), sort_index(), value_counts(), describe(), info(), nunique(), unique(), dtypes, and select_dtypes().\n"
      ]
    },
    {
      "cell_type": "markdown",
      "metadata": {
        "id": "H-f-qwy4-Ya-"
      },
      "source": [
        "# Extra: Creating Dataframes from a Dictionary"
      ]
    },
    {
      "cell_type": "code",
      "execution_count": null,
      "metadata": {
        "id": "89NCEVkE-Ya-"
      },
      "outputs": [],
      "source": [
        "# Create a Dataframe from a dictionary with\n",
        "# automatic indexes\n",
        "\n",
        "d = {\"state\": [\"Ohio\", \"Ohio\", \"California\", \"Nevada\", \"California\"],\n",
        "     \"year\": [2000, 2001, 2002, 2001, 2002],\n",
        "     \"avg\": [1.5, 1.7, 3.6, 2.4, 1.9]\n",
        "}\n",
        "\n",
        "df = pd.DataFrame(d)\n",
        "df"
      ]
    },
    {
      "cell_type": "markdown",
      "metadata": {
        "id": "_eOBgVWO-Ya-"
      },
      "source": [
        "\n",
        "DataFrame from a dictionary of lists and indexes"
      ]
    },
    {
      "cell_type": "code",
      "execution_count": null,
      "metadata": {
        "tags": [],
        "id": "5TDgu5JT-Ya_"
      },
      "outputs": [],
      "source": [
        "d_index = {\n",
        "    \"name\": [\"Paula\", \"Mark\"],\n",
        "    \"score\": [98.5, 95]\n",
        "}\n",
        "\n",
        "df_index = pd.DataFrame(d_index, index=[\"123A\", \"789B\"])\n",
        "df_index"
      ]
    },
    {
      "cell_type": "markdown",
      "metadata": {
        "id": "zh5jcCGg-Ya_"
      },
      "source": [
        "# Extra: pickle"
      ]
    },
    {
      "cell_type": "markdown",
      "metadata": {
        "id": "iq959Vlh-Ya_"
      },
      "source": [
        "Pandas `pickle` function provides a convenient way to save and load Python objects, including DataFrames, to and from disk. Pickling allows you to serialize Python objects into a binary format, making it easy to store large datasets or complex data structures. It's a great tool for saving and restoring your work, especially when dealing with large datasets that might take a long time to process or recreate.\n",
        "\n",
        "## Saving DataFrames with Pickle\n",
        "\n",
        "You can use the `to_pickle()` method in pandas to save a DataFrame to a pickle file. This method takes the file path as an argument and creates a binary representation of the DataFrame, which is then saved to the specified file."
      ]
    },
    {
      "cell_type": "code",
      "execution_count": null,
      "metadata": {
        "id": "9Wa3vySa-Ya_"
      },
      "outputs": [],
      "source": [
        "import pandas as pd\n",
        "\n",
        "# Assuming df is your DataFrame\n",
        "df.to_pickle('data.pkl')"
      ]
    },
    {
      "cell_type": "markdown",
      "metadata": {
        "id": "mE_rjDFm-Ya_"
      },
      "source": [
        "## Loading DataFrames from Pickle\n",
        "\n",
        "To load a DataFrame from a pickle file, you can use the `read_pickle()` function in pandas. This function reads the binary data from the pickle file and converts it back into a DataFrame.\n"
      ]
    },
    {
      "cell_type": "code",
      "execution_count": null,
      "metadata": {
        "id": "WHDspJid-Ya_"
      },
      "outputs": [],
      "source": [
        "import pandas as pd\n",
        "\n",
        "# Load DataFrame from pickle file\n",
        "df = pd.read_pickle('data.pkl')"
      ]
    },
    {
      "cell_type": "code",
      "execution_count": null,
      "metadata": {
        "id": "XoaAgjKt-Ya_"
      },
      "outputs": [],
      "source": [
        "df.head()"
      ]
    }
  ],
  "metadata": {
    "kernelspec": {
      "display_name": "Python 3 (ipykernel)",
      "language": "python",
      "name": "python3"
    },
    "language_info": {
      "codemirror_mode": {
        "name": "ipython",
        "version": 3
      },
      "file_extension": ".py",
      "mimetype": "text/x-python",
      "name": "python",
      "nbconvert_exporter": "python",
      "pygments_lexer": "ipython3",
      "version": "3.9.13"
    },
    "toc": {
      "base_numbering": 1,
      "nav_menu": {},
      "number_sections": true,
      "sideBar": true,
      "skip_h1_title": false,
      "title_cell": "Table of Contents",
      "title_sidebar": "Contents",
      "toc_cell": true,
      "toc_position": {
        "height": "537.273px",
        "left": "356px",
        "top": "130.994px",
        "width": "285.987px"
      },
      "toc_section_display": true,
      "toc_window_display": true
    },
    "colab": {
      "provenance": []
    }
  },
  "nbformat": 4,
  "nbformat_minor": 0
}