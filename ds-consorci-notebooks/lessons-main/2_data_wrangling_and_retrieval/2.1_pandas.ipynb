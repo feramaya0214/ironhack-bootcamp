{
  "cells": [
    {
      "cell_type": "markdown",
      "metadata": {
        "toc": true,
        "id": "3HPIK61KSOPO"
      },
      "source": [
        "<h1>Table of Contents<span class=\"tocSkip\"></span></h1>\n",
        "<div class=\"toc\"><ul class=\"toc-item\"><li><span><a href=\"#Short-intro-to-NumPy\" data-toc-modified-id=\"Short-intro-to-NumPy-1\"><span class=\"toc-item-num\">1&nbsp;&nbsp;</span>Short intro to NumPy</a></span></li><li><span><a href=\"#Introduction-to-Pandas-Library\" data-toc-modified-id=\"Introduction-to-Pandas-Library-2\"><span class=\"toc-item-num\">2&nbsp;&nbsp;</span>Introduction to Pandas Library</a></span><ul class=\"toc-item\"><li><span><a href=\"#Key-Features-of-Pandas\" data-toc-modified-id=\"Key-Features-of-Pandas-2.1\"><span class=\"toc-item-num\">2.1&nbsp;&nbsp;</span>Key Features of Pandas</a></span></li><li><span><a href=\"#DataFrames-and-Series-in-Pandas\" data-toc-modified-id=\"DataFrames-and-Series-in-Pandas-2.2\"><span class=\"toc-item-num\">2.2&nbsp;&nbsp;</span>DataFrames and Series in Pandas</a></span></li></ul></li><li><span><a href=\"#Series-in-Pandas\" data-toc-modified-id=\"Series-in-Pandas-3\"><span class=\"toc-item-num\">3&nbsp;&nbsp;</span>Series in Pandas</a></span><ul class=\"toc-item\"><li><span><a href=\"#Creating-Series\" data-toc-modified-id=\"Creating-Series-3.1\"><span class=\"toc-item-num\">3.1&nbsp;&nbsp;</span>Creating Series</a></span><ul class=\"toc-item\"><li><span><a href=\"#From-a-list\" data-toc-modified-id=\"From-a-list-3.1.1\"><span class=\"toc-item-num\">3.1.1&nbsp;&nbsp;</span>From a list</a></span></li><li><span><a href=\"#From-a-list-with-index\" data-toc-modified-id=\"From-a-list-with-index-3.1.2\"><span class=\"toc-item-num\">3.1.2&nbsp;&nbsp;</span>From a list with index</a></span></li><li><span><a href=\"#From-a-dictionary\" data-toc-modified-id=\"From-a-dictionary-3.1.3\"><span class=\"toc-item-num\">3.1.3&nbsp;&nbsp;</span>From a dictionary</a></span></li><li><span><a href=\"#From-a-file\" data-toc-modified-id=\"From-a-file-3.1.4\"><span class=\"toc-item-num\">3.1.4&nbsp;&nbsp;</span>From a file</a></span></li></ul></li><li><span><a href=\"#Data-access-in-Series\" data-toc-modified-id=\"Data-access-in-Series-3.2\"><span class=\"toc-item-num\">3.2&nbsp;&nbsp;</span>Data access in Series</a></span></li><li><span><a href=\"#Methods-in-Series\" data-toc-modified-id=\"Methods-in-Series-3.3\"><span class=\"toc-item-num\">3.3&nbsp;&nbsp;</span>Methods in Series</a></span><ul class=\"toc-item\"><li><span><a href=\"#concat()\" data-toc-modified-id=\"concat()-3.3.1\"><span class=\"toc-item-num\">3.3.1&nbsp;&nbsp;</span><code>concat()</code></a></span></li><li><span><a href=\"#sort_values()-and-sort_index()\" data-toc-modified-id=\"sort_values()-and-sort_index()-3.3.2\"><span class=\"toc-item-num\">3.3.2&nbsp;&nbsp;</span><code>sort_values() and sort_index()</code></a></span></li><li><span><a href=\"#value_counts()\" data-toc-modified-id=\"value_counts()-3.3.3\"><span class=\"toc-item-num\">3.3.3&nbsp;&nbsp;</span><code>value_counts()</code></a></span></li></ul></li><li><span><a href=\"#💡-Check-for-understanding\" data-toc-modified-id=\"💡-Check-for-understanding-3.4\"><span class=\"toc-item-num\">3.4&nbsp;&nbsp;</span>💡 Check for understanding</a></span></li></ul></li><li><span><a href=\"#Dataframes-in-Pandas\" data-toc-modified-id=\"Dataframes-in-Pandas-4\"><span class=\"toc-item-num\">4&nbsp;&nbsp;</span>Dataframes in Pandas</a></span><ul class=\"toc-item\"><li><ul class=\"toc-item\"><li><span><a href=\"#head()-and-tail()\" data-toc-modified-id=\"head()-and-tail()-4.0.1\"><span class=\"toc-item-num\">4.0.1&nbsp;&nbsp;</span><code>head()</code> and <code>tail()</code></a></span></li><li><span><a href=\"#index,-columns-and-values\" data-toc-modified-id=\"index,-columns-and-values-4.0.2\"><span class=\"toc-item-num\">4.0.2&nbsp;&nbsp;</span><code>index, columns and values</code></a></span></li></ul></li><li><span><a href=\"#Data-access-in-Dataframe\" data-toc-modified-id=\"Data-access-in-Dataframe-4.1\"><span class=\"toc-item-num\">4.1&nbsp;&nbsp;</span>Data access in Dataframe</a></span><ul class=\"toc-item\"><li><span><a href=\"#Columns\" data-toc-modified-id=\"Columns-4.1.1\"><span class=\"toc-item-num\">4.1.1&nbsp;&nbsp;</span>Columns</a></span></li><li><span><a href=\"#Rows\" data-toc-modified-id=\"Rows-4.1.2\"><span class=\"toc-item-num\">4.1.2&nbsp;&nbsp;</span>Rows</a></span></li><li><span><a href=\"#Specific-values\" data-toc-modified-id=\"Specific-values-4.1.3\"><span class=\"toc-item-num\">4.1.3&nbsp;&nbsp;</span>Specific values</a></span></li></ul></li><li><span><a href=\"#More-DataFrame-Methods\" data-toc-modified-id=\"More-DataFrame-Methods-4.2\"><span class=\"toc-item-num\">4.2&nbsp;&nbsp;</span>More DataFrame Methods</a></span><ul class=\"toc-item\"><li><span><a href=\"#shape\" data-toc-modified-id=\"shape-4.2.1\"><span class=\"toc-item-num\">4.2.1&nbsp;&nbsp;</span><code>shape</code></a></span></li><li><span><a href=\"#describe()\" data-toc-modified-id=\"describe()-4.2.2\"><span class=\"toc-item-num\">4.2.2&nbsp;&nbsp;</span><code>describe()</code></a></span></li><li><span><a href=\"#info()\" data-toc-modified-id=\"info()-4.2.3\"><span class=\"toc-item-num\">4.2.3&nbsp;&nbsp;</span><code>info()</code></a></span></li><li><span><a href=\"#nunique()-and-unique()\" data-toc-modified-id=\"nunique()-and-unique()-4.2.4\"><span class=\"toc-item-num\">4.2.4&nbsp;&nbsp;</span><code>nunique() and unique()</code></a></span></li><li><span><a href=\"#dtypes\" data-toc-modified-id=\"dtypes-4.2.5\"><span class=\"toc-item-num\">4.2.5&nbsp;&nbsp;</span><code>dtypes</code></a></span></li><li><span><a href=\"#select_dtypes()\" data-toc-modified-id=\"select_dtypes()-4.2.6\"><span class=\"toc-item-num\">4.2.6&nbsp;&nbsp;</span><code>select_dtypes()</code></a></span></li><li><span><a href=\"#Aggregation-such-as-max()\" data-toc-modified-id=\"Aggregation-such-as-max()-4.2.7\"><span class=\"toc-item-num\">4.2.7&nbsp;&nbsp;</span>Aggregation such as <code>max()</code></a></span></li></ul></li><li><span><a href=\"#💡-Check-for-understanding\" data-toc-modified-id=\"💡-Check-for-understanding-4.3\"><span class=\"toc-item-num\">4.3&nbsp;&nbsp;</span>💡 Check for understanding</a></span></li></ul></li><li><span><a href=\"#Summary\" data-toc-modified-id=\"Summary-5\"><span class=\"toc-item-num\">5&nbsp;&nbsp;</span>Summary</a></span></li><li><span><a href=\"#Extra:-Creating-Dataframes-from-a-Dictionary\" data-toc-modified-id=\"Extra:-Creating-Dataframes-from-a-Dictionary-6\"><span class=\"toc-item-num\">6&nbsp;&nbsp;</span>Extra: Creating Dataframes from a Dictionary</a></span></li><li><span><a href=\"#Extra:-pickle\" data-toc-modified-id=\"Extra:-pickle-7\"><span class=\"toc-item-num\">7&nbsp;&nbsp;</span>Extra: pickle</a></span><ul class=\"toc-item\"><li><span><a href=\"#Saving-DataFrames-with-Pickle\" data-toc-modified-id=\"Saving-DataFrames-with-Pickle-7.1\"><span class=\"toc-item-num\">7.1&nbsp;&nbsp;</span>Saving DataFrames with Pickle</a></span></li><li><span><a href=\"#Loading-DataFrames-from-Pickle\" data-toc-modified-id=\"Loading-DataFrames-from-Pickle-7.2\"><span class=\"toc-item-num\">7.2&nbsp;&nbsp;</span>Loading DataFrames from Pickle</a></span></li></ul></li></ul></div>"
      ]
    },
    {
      "cell_type": "markdown",
      "metadata": {
        "id": "fWbJhn0BSOPQ"
      },
      "source": [
        "# Short intro to NumPy"
      ]
    },
    {
      "cell_type": "markdown",
      "metadata": {
        "id": "mR8-_HdQSOPQ"
      },
      "source": [
        "Let's start by mentioning NumPy as Pandas builds on top of NumPy.\n",
        "\n",
        "NumPy is a powerful library for numerical computing in Python. It provides support for large, multi-dimensional arrays and matrices, along with an extensive collection of mathematical functions to operate on these arrays efficiently."
      ]
    },
    {
      "cell_type": "code",
      "execution_count": null,
      "metadata": {
        "id": "aX1Pti4fSOPQ"
      },
      "outputs": [],
      "source": [
        "import numpy as np\n",
        "\n",
        "# Creating a NumPy array\n",
        "arr = np.array([1, 2, 3, 4, 5])\n",
        "\n",
        "# Performing operations on the array\n",
        "result = arr * 2\n",
        "print(result)  # Output: [2 4 6 8 10]\n"
      ]
    },
    {
      "cell_type": "markdown",
      "metadata": {
        "id": "7HbdwshLSOPR"
      },
      "source": [
        "# Introduction to Pandas Library\n",
        "\n",
        "`pandas` is a powerful library designed for working with tabulated and tagged data, making it ideal for handling spreadsheets, SQL tables, and more. It revolves around two main data structures: `Series` and `DataFrames`.\n",
        "\n",
        "## Key Features of Pandas\n",
        "\n",
        "- Robust data import/export: `pandas` provides efficient tools to read and write data from various file formats like CSV, XLS, SQL, and HDF5.\n",
        "- Data manipulation: With `pandas`, you can easily filter, add, or delete data, enabling seamless data processing.\n",
        "- High-performance and versatility: It combines the performance of `numpy` arrays with the ability to handle tabulated data efficiently.\n",
        "\n",
        "To import the necessary modules from the `pandas` library, we use the following syntax:"
      ]
    },
    {
      "cell_type": "code",
      "execution_count": null,
      "metadata": {
        "tags": [],
        "id": "xdtml8oKSOPR"
      },
      "outputs": [],
      "source": [
        "import pandas as pd  # 'pd' is an alias for pandas"
      ]
    },
    {
      "cell_type": "markdown",
      "metadata": {
        "id": "klhkRlxuSOPS"
      },
      "source": [
        "![](https://github.com/data-bootcamp-v4/lessons/blob/main/img/pandas.svg?raw=true)"
      ]
    },
    {
      "cell_type": "markdown",
      "metadata": {
        "id": "V1-KoC0SSOPS"
      },
      "source": [
        "## DataFrames and Series in Pandas\n",
        "\n",
        "In `pandas`, a `Series` is a one-dimensional array of data with associated labels called the *index*. If no index is specified, it generates an ordered sequence of integers.\n",
        "\n",
        "```python\n",
        "# Creating a Series\n",
        "s = pd.Series(data, index=index)\n",
        "```\n",
        "\n",
        "On the other hand, a `DataFrame` is a two-dimensional data structure that stores data in tabular form, with labeled rows and columns. Each row represents an observation, and each column represents a variable. `DataFrame` can handle heterogeneous data with different types (numeric, string, boolean, etc.). It also includes variable names, types, and methods to access and modify the data.\n",
        "\n",
        "```python\n",
        "# Creating a DataFrame\n",
        "df = pd.DataFrame(data, ...)\n",
        "```\n"
      ]
    },
    {
      "cell_type": "markdown",
      "metadata": {
        "id": "bKWEbOOuSOPS"
      },
      "source": [
        "---\n",
        "# Series in Pandas\n",
        "\n",
        "## Creating Series\n"
      ]
    },
    {
      "cell_type": "markdown",
      "metadata": {
        "id": "mL_y3QP5SOPT"
      },
      "source": [
        "### From a list"
      ]
    },
    {
      "cell_type": "markdown",
      "metadata": {
        "id": "1VnmKYddSOPT"
      },
      "source": [
        "Create a Series with default indexes from a list"
      ]
    },
    {
      "cell_type": "code",
      "execution_count": null,
      "metadata": {
        "tags": [],
        "id": "L_CoXValSOPT"
      },
      "outputs": [],
      "source": [
        "l = [1980, 2020, 2001, 1999]\n",
        "series = pd.Series(l)\n",
        "series #we can see dtype int which means the series has integers"
      ]
    },
    {
      "cell_type": "code",
      "execution_count": null,
      "metadata": {
        "tags": [],
        "id": "_PpD61-4SOPU"
      },
      "outputs": [],
      "source": [
        "type(series) #but careful, its still a pandas series"
      ]
    },
    {
      "cell_type": "code",
      "execution_count": null,
      "metadata": {
        "id": "bRDLizA9SOPU"
      },
      "outputs": [],
      "source": [
        "series.dtype #this gives me the type of the elements inside the series\n",
        "# this is an attribute (remember our lesson about classes)"
      ]
    },
    {
      "cell_type": "markdown",
      "metadata": {
        "id": "XKTDghk5SOPU"
      },
      "source": [
        "The `Series` have two attributes:` values` and `index`. The first is a `numpy array` that stores the data, and the second is an object that contains the indexes."
      ]
    },
    {
      "cell_type": "code",
      "execution_count": null,
      "metadata": {
        "id": "35NaJi4lSOPU"
      },
      "outputs": [],
      "source": [
        "series.values"
      ]
    },
    {
      "cell_type": "code",
      "execution_count": null,
      "metadata": {
        "id": "ZJ6useAeSOPU"
      },
      "outputs": [],
      "source": [
        "series.index"
      ]
    },
    {
      "cell_type": "markdown",
      "metadata": {
        "id": "jGGjwJpeSOPV"
      },
      "source": [
        "In Pandas, `Series.items()` is a method used to iterate over the elements of a Pandas Series. It returns an iterator that yields the index-label and corresponding value pairs of the Series."
      ]
    },
    {
      "cell_type": "code",
      "execution_count": null,
      "metadata": {
        "id": "gZs0m3OkSOPV"
      },
      "outputs": [],
      "source": [
        "#items has tuples (index,value) so i need to iterate with two variables\n",
        "# if i want the values separated, if not, i get the tuple in each\n",
        "# iteration\n",
        "for i in series.items() :\n",
        "    print(i)"
      ]
    },
    {
      "cell_type": "code",
      "execution_count": null,
      "metadata": {
        "tags": [],
        "id": "cVWKntj9SOPV"
      },
      "outputs": [],
      "source": [
        "for i, v in series.items() :\n",
        "    print(\"index \", i)\n",
        "    print(\"value \", v)"
      ]
    },
    {
      "cell_type": "markdown",
      "metadata": {
        "id": "qoXx1Rr0SOPV"
      },
      "source": [
        "### From a list with index"
      ]
    },
    {
      "cell_type": "markdown",
      "metadata": {
        "id": "Q84AKLrkSOPV"
      },
      "source": [
        "When creating a `Series`, you can explicitly define an `array` index and pass it as an argument."
      ]
    },
    {
      "cell_type": "markdown",
      "metadata": {
        "id": "mtxxu9riSOPV"
      },
      "source": [
        "\n",
        "Creating series with defined indexes"
      ]
    },
    {
      "cell_type": "code",
      "execution_count": null,
      "metadata": {
        "tags": [],
        "id": "4_DTS7IoSOPW"
      },
      "outputs": [],
      "source": [
        "# create a new series with same values as before, and as indexes, names\n",
        "# values [1980, 2020, 2001, 1999]\n",
        "# index \"deb\",\"d\",\"martha\", \"martin\"\n",
        "new_series = pd.Series([1980, 2020, 2001, 1999],\n",
        "                       index = [\"deb\",\"d\",\"martha\", \"martin\"])\n",
        "new_series"
      ]
    },
    {
      "cell_type": "markdown",
      "metadata": {
        "id": "vNsPOrrtSOPX"
      },
      "source": [
        "### From a dictionary"
      ]
    },
    {
      "cell_type": "code",
      "execution_count": null,
      "metadata": {
        "id": "-JfF8HLjSOPX"
      },
      "outputs": [],
      "source": [
        "# using dict comprehension, create a dictionary\n",
        "# that has as key \"square of {nr}\" and as value the nr squared\n",
        "# for values from 0 to 10\n",
        "d = {\"square of \"+str(n): n*n for n in range(11)}"
      ]
    },
    {
      "cell_type": "code",
      "execution_count": null,
      "metadata": {
        "tags": [],
        "id": "WOcbxY7QSOPX"
      },
      "outputs": [],
      "source": [
        "pd.Series(d) # this creates a series from the dictionary 'd'"
      ]
    },
    {
      "cell_type": "markdown",
      "metadata": {
        "id": "MD7ID7TFSOPX"
      },
      "source": [
        "### From a file\n",
        "\n",
        "`read_csv()` is a Pandas function used to read data from a CSV file and create a DataFrame.\n",
        "\n",
        "When assigning one column in the parameter `usecols` and then calling the method `squeeze(\"columns\")`, the result is a Series instead of a Dataframe"
      ]
    },
    {
      "cell_type": "code",
      "execution_count": null,
      "metadata": {
        "tags": [],
        "id": "bkb9WVf3SOPX"
      },
      "outputs": [],
      "source": [
        "# Load Titanic dataset from an online source\n",
        "url = 'https://raw.githubusercontent.com/data-bootcamp-v4/data/main/titanic_train.csv'\n",
        "titanic_series = pd.read_csv(url, usecols=[\"Name\"]).squeeze(\"columns\")"
      ]
    },
    {
      "cell_type": "markdown",
      "metadata": {
        "tags": [],
        "id": "RYhM38_xSOPX"
      },
      "source": [
        "\n",
        "\n",
        "---\n",
        "## Data access in Series\n"
      ]
    },
    {
      "cell_type": "markdown",
      "metadata": {
        "id": "rIy-sHoISOPX"
      },
      "source": [
        "Data access in Pandas can be achieved through either the categorical index or the internally generated numerical index."
      ]
    },
    {
      "cell_type": "code",
      "execution_count": null,
      "metadata": {
        "id": "-Uzv0ZQ6SOPX"
      },
      "outputs": [],
      "source": [
        "new_series"
      ]
    },
    {
      "cell_type": "code",
      "execution_count": null,
      "metadata": {
        "id": "3Ps_OclJSOPX"
      },
      "outputs": [],
      "source": [
        "new_series[1] #accessing elements by pandas internal index"
      ]
    },
    {
      "cell_type": "code",
      "execution_count": null,
      "metadata": {
        "tags": [],
        "id": "Lal_Y2sQSOPX"
      },
      "outputs": [],
      "source": [
        "new_series[\"d\"] #accessing elements by index label"
      ]
    },
    {
      "cell_type": "code",
      "execution_count": null,
      "metadata": {
        "tags": [],
        "id": "yBFnM1uYSOPX"
      },
      "outputs": [],
      "source": [
        "new_series[1:]  #we can do the same as with lists, and use slicing"
      ]
    },
    {
      "cell_type": "code",
      "execution_count": null,
      "metadata": {
        "tags": [],
        "id": "OtctvWlOSOPX"
      },
      "outputs": [],
      "source": [
        "new_series[1:3:2]"
      ]
    },
    {
      "cell_type": "code",
      "execution_count": null,
      "metadata": {
        "tags": [],
        "id": "hhLAEuFwSOPY"
      },
      "outputs": [],
      "source": [
        "new_series[::-1]"
      ]
    },
    {
      "cell_type": "markdown",
      "metadata": {
        "id": "ejhReuoESOPY"
      },
      "source": [
        "\n",
        "\n",
        "---\n",
        "## Methods in Series"
      ]
    },
    {
      "cell_type": "markdown",
      "metadata": {
        "id": "2ftyNSzQSOPY"
      },
      "source": [
        "### `concat()`"
      ]
    },
    {
      "cell_type": "markdown",
      "metadata": {
        "id": "RxoYND_lSOPY"
      },
      "source": [
        "`concat()` is a pandas function used to concatenate and combine DataFrames along a specified axis, either vertically (rows) or horizontally (columns)."
      ]
    },
    {
      "cell_type": "code",
      "execution_count": null,
      "metadata": {
        "tags": [],
        "id": "6TTRY7yfSOPZ"
      },
      "outputs": [],
      "source": [
        "s3 = pd.concat([new_series,new_series])\n",
        "s3"
      ]
    },
    {
      "cell_type": "markdown",
      "metadata": {
        "id": "OMgljHG5SOPZ"
      },
      "source": [
        "By default `concat` keeps the original indexes. It does not restart the index by default, unless we specify `ignore_index=True`."
      ]
    },
    {
      "cell_type": "code",
      "execution_count": null,
      "metadata": {
        "tags": [],
        "id": "7LTezjszSOPZ"
      },
      "outputs": [],
      "source": [
        "s3[\"d\"] # we see we have two elements for index \"d\""
      ]
    },
    {
      "cell_type": "code",
      "execution_count": null,
      "metadata": {
        "tags": [],
        "id": "MST-KLDgSOPZ"
      },
      "outputs": [],
      "source": [
        "s3 = pd.concat([new_series,new_series],ignore_index=True)\n",
        "s3"
      ]
    },
    {
      "cell_type": "markdown",
      "metadata": {
        "id": "hGZEeqLESOPZ"
      },
      "source": [
        "### `sort_values() and sort_index()`\n",
        "\n",
        "`sort_values()` is a pandas DataFrame method that sorts the DataFrame based on specified column(s), while `sort_index()` sorts the DataFrame based on its index labels."
      ]
    },
    {
      "cell_type": "code",
      "execution_count": null,
      "metadata": {
        "tags": [],
        "id": "1u5SQk3DSOPZ"
      },
      "outputs": [],
      "source": [
        "titanic_series.sort_values()"
      ]
    },
    {
      "cell_type": "code",
      "execution_count": null,
      "metadata": {
        "tags": [],
        "id": "PtTLsZZ6SOPZ"
      },
      "outputs": [],
      "source": [
        "titanic_series.sort_values(ascending=False) #to change the ordering type"
      ]
    },
    {
      "cell_type": "code",
      "execution_count": null,
      "metadata": {
        "tags": [],
        "id": "k0f1GxJeSOPa"
      },
      "outputs": [],
      "source": [
        "titanic_series.sort_index(ascending=False)"
      ]
    },
    {
      "cell_type": "markdown",
      "metadata": {
        "id": "65fvYvAlSOPa"
      },
      "source": [
        "Sort index or sort values does not change the series.\n",
        "We can either save it again in the variable or we can use a paremeter\n",
        "called **inplace**."
      ]
    },
    {
      "cell_type": "code",
      "execution_count": null,
      "metadata": {
        "id": "CLOItZ25SOPa"
      },
      "outputs": [],
      "source": [
        "titanic_series # we see our last line of code didn't change our series"
      ]
    },
    {
      "cell_type": "code",
      "execution_count": null,
      "metadata": {
        "id": "83QRrl5VSOPa"
      },
      "outputs": [],
      "source": [
        "titanic_series.sort_index(ascending=False, inplace=True)\n",
        "\n",
        "# equivalent: titanic_series = titanic_series.sort_index(ascending=False)"
      ]
    },
    {
      "cell_type": "code",
      "execution_count": null,
      "metadata": {
        "tags": [],
        "id": "WZix3J5QSOPa"
      },
      "outputs": [],
      "source": [
        "titanic_series # the series has changed because we used 'inplace=True'"
      ]
    },
    {
      "cell_type": "markdown",
      "metadata": {
        "id": "26GjgubvSOPb"
      },
      "source": [
        "### `value_counts()`"
      ]
    },
    {
      "cell_type": "markdown",
      "metadata": {
        "id": "H14_HGNmSOPb"
      },
      "source": [
        "`value_counts()` is a Pandas function that returns a Series containing the counts of unique values in a Series or DataFrame."
      ]
    },
    {
      "cell_type": "code",
      "execution_count": null,
      "metadata": {
        "tags": [],
        "id": "WCwnK4_QSOPb"
      },
      "outputs": [],
      "source": [
        "titanic_series.value_counts()"
      ]
    },
    {
      "cell_type": "markdown",
      "metadata": {
        "id": "xzbFbme-SOPb"
      },
      "source": [
        "## 💡 Check for understanding"
      ]
    },
    {
      "cell_type": "code",
      "execution_count": null,
      "metadata": {
        "id": "D6i_3CIASOPb"
      },
      "outputs": [],
      "source": [
        "titanic_series"
      ]
    },
    {
      "cell_type": "markdown",
      "metadata": {
        "id": "vWWDlwm7SOPb"
      },
      "source": [
        "1. Get the column \"Embarked\" from the Titanic csv as a Pandas Series\n",
        "2. Print the first value\n",
        "3. Print the last 5 values\n",
        "3. Append \"NA\" to the Series\n",
        "3. Get the number of each Embarked type (number of repeated values)\n",
        "3. Order the Series *descending*, and print the Embarked type most repeated in the Series"
      ]
    },
    {
      "cell_type": "code",
      "execution_count": null,
      "metadata": {
        "id": "m4-cXY_OSOPc"
      },
      "outputs": [],
      "source": [
        "# Your answer here"
      ]
    },
    {
      "cell_type": "markdown",
      "metadata": {
        "id": "r9-Cimt9SOPc"
      },
      "source": [
        "\n",
        "# Dataframes in Pandas\n",
        "\n",
        "Unlike `Series`, `DataFrame` is designed to store heterogeneous multivariable data. It can be created from dictionaries (look to Extra section for examples)."
      ]
    },
    {
      "cell_type": "markdown",
      "metadata": {
        "id": "Jy2b8j1uSOPc"
      },
      "source": [
        "We will use `read_csv` to read data from a CSV file and create a DataFrame.\n",
        "\n",
        "We won't be using now the parameter `usecols` nor calling the method `squeeze(\"columns\")`."
      ]
    },
    {
      "cell_type": "code",
      "execution_count": null,
      "metadata": {
        "tags": [],
        "id": "BQKqa49mSOPc"
      },
      "outputs": [],
      "source": [
        "# Load Titanic dataset from an online source\n",
        "url = 'https://raw.githubusercontent.com/data-bootcamp-v4/data/main/titanic_train.csv'\n",
        "titanic_df = pd.read_csv(url)"
      ]
    },
    {
      "cell_type": "markdown",
      "metadata": {
        "id": "xYgf4Q31SOPc"
      },
      "source": [
        "### `head()` and `tail()`"
      ]
    },
    {
      "cell_type": "markdown",
      "metadata": {
        "id": "LzwvgvrUSOPc"
      },
      "source": [
        "The `head()` method returns the first few rows of a DataFrame or Series, while the `tail()` method returns the last few rows."
      ]
    },
    {
      "cell_type": "code",
      "execution_count": null,
      "metadata": {
        "tags": [],
        "id": "IW4tJauMSOPc"
      },
      "outputs": [],
      "source": [
        "titanic_df.head(3)"
      ]
    },
    {
      "cell_type": "code",
      "execution_count": null,
      "metadata": {
        "tags": [],
        "id": "m2o_GguwSOPc"
      },
      "outputs": [],
      "source": [
        "titanic_df.tail(3)"
      ]
    },
    {
      "cell_type": "markdown",
      "metadata": {
        "id": "JqdTWRs6SOPd"
      },
      "source": [
        "### `index, columns and values`"
      ]
    },
    {
      "cell_type": "markdown",
      "metadata": {
        "id": "BEh1HCs5SOPd"
      },
      "source": [
        "The `index` attribute in Pandas returns the index labels of a DataFrame or Series, and the `columns` attribute returns the column labels of a DataFrame."
      ]
    },
    {
      "cell_type": "code",
      "execution_count": null,
      "metadata": {
        "id": "HM-sMEVeSOPd"
      },
      "outputs": [],
      "source": [
        "titanic_df.index"
      ]
    },
    {
      "cell_type": "markdown",
      "metadata": {
        "id": "LIJsYV9KSOPd"
      },
      "source": [
        "`RangeIndex(start=0, stop=1460, step=1)` is a special type of index in Pandas called a `RangeIndex`. It represents a range of integer values starting from 0, up to (but not including) 1460, with a step size of 1."
      ]
    },
    {
      "cell_type": "code",
      "execution_count": null,
      "metadata": {
        "tags": [],
        "id": "fXmybIXxSOPd"
      },
      "outputs": [],
      "source": [
        "list(titanic_df.index)"
      ]
    },
    {
      "cell_type": "code",
      "execution_count": null,
      "metadata": {
        "id": "xix7oB0XSOPd"
      },
      "outputs": [],
      "source": [
        "titanic_df.columns"
      ]
    },
    {
      "cell_type": "code",
      "execution_count": null,
      "metadata": {
        "id": "6wPsnb3oSOPd"
      },
      "outputs": [],
      "source": [
        "list(titanic_df.columns)"
      ]
    },
    {
      "cell_type": "markdown",
      "metadata": {
        "id": "GDBORwvGSOPd"
      },
      "source": [
        "In Pandas, `df.values` is an attribute that returns the underlying NumPy array of a DataFrame df. It represents the actual data stored in the DataFrame as a two-dimensional NumPy array."
      ]
    },
    {
      "cell_type": "code",
      "execution_count": null,
      "metadata": {
        "tags": [],
        "id": "IeX8xC08SOPe"
      },
      "outputs": [],
      "source": [
        "titanic_df.values"
      ]
    },
    {
      "cell_type": "markdown",
      "metadata": {
        "id": "Qgr882OcSOPe"
      },
      "source": [
        "\n",
        "Additionally, `Pandas` can create Dataframes from other sources, such as JSON, URL ..."
      ]
    },
    {
      "cell_type": "markdown",
      "metadata": {
        "id": "5XTv-sV-SOPe"
      },
      "source": [
        "\n",
        "---\n",
        "## Data access in Dataframe\n"
      ]
    },
    {
      "cell_type": "markdown",
      "metadata": {
        "id": "4znM72BLSOPe"
      },
      "source": [
        "### Columns"
      ]
    },
    {
      "cell_type": "markdown",
      "metadata": {
        "id": "eA6gms82SOPe"
      },
      "source": [
        "You can extract columns from a `DataFrame` using dictionary-like notation or as attributes, obtaining a `Series` object in both cases, provided the column label is a valid Python identifier."
      ]
    },
    {
      "cell_type": "code",
      "execution_count": null,
      "metadata": {
        "tags": [],
        "id": "_rE4Zh2MSOPe"
      },
      "outputs": [],
      "source": [
        "titanic_df[\"Sex\"] #dict way of accessing a column"
      ]
    },
    {
      "cell_type": "code",
      "execution_count": null,
      "metadata": {
        "tags": [],
        "id": "-xVIRo0BSOPe"
      },
      "outputs": [],
      "source": [
        "titanic_df.Sex #attribute access of the column\n",
        "\n",
        "#this only works if the column name doesn't have unusual characters, this means\n",
        "#no spaces!!!"
      ]
    },
    {
      "cell_type": "code",
      "execution_count": null,
      "metadata": {
        "tags": [],
        "id": "hZg5NlTESOPe"
      },
      "outputs": [],
      "source": [
        "titanic_df[[\"Sex\"]] #by using double [] we get a Dataframe instead\n",
        "# of a series"
      ]
    },
    {
      "cell_type": "code",
      "execution_count": null,
      "metadata": {
        "tags": [],
        "id": "bN-PVw6eSOPf"
      },
      "outputs": [],
      "source": [
        "titanic_df[[\"Sex\", \"Fare\"]]"
      ]
    },
    {
      "cell_type": "markdown",
      "metadata": {
        "id": "-OiJCRwpSOPf"
      },
      "source": [
        "### Rows"
      ]
    },
    {
      "cell_type": "markdown",
      "metadata": {
        "id": "VB78xp2GSOPf"
      },
      "source": [
        "To access rows in a Pandas DataFrame, you can use the `iloc` attribute with integer-based indexing or the `loc` attribute with label-based indexing. For example, `df.iloc[0]` will access the first row, and `df.loc['row_label']` will access the row with the specified label."
      ]
    },
    {
      "cell_type": "markdown",
      "metadata": {
        "id": "ZzOZ5K9uSOPf"
      },
      "source": [
        "\n",
        "<div class=\"alert alert-info\">Note: Consult http://pandas.pydata.org/pandas-docs/version/0.18.1/indexing.html#different-choices-for-indexing to understand the differences between methods.</div>"
      ]
    },
    {
      "cell_type": "markdown",
      "metadata": {
        "id": "2LVHSGnYSOPf"
      },
      "source": [
        "Just for the sake of this example, we will create a dictionary with a non-default index."
      ]
    },
    {
      "cell_type": "code",
      "execution_count": null,
      "metadata": {
        "id": "C61791UoSOPf"
      },
      "outputs": [],
      "source": [
        "d_index = {\n",
        "    \"name\": [\"Paula\", \"Mark\"],\n",
        "    \"score\": [98.5, 95]\n",
        "}\n",
        "\n",
        "df_index = pd.DataFrame(d_index, index=[\"123A\", \"789B\"])\n",
        "df_index"
      ]
    },
    {
      "cell_type": "markdown",
      "metadata": {
        "id": "A6TkK7OLSOPf"
      },
      "source": [
        "\n",
        "**loc** is used for label-based indexing to access rows."
      ]
    },
    {
      "cell_type": "code",
      "execution_count": null,
      "metadata": {
        "id": "X5Hl5-6kSOPg"
      },
      "outputs": [],
      "source": [
        "df_index.loc[\"789B\"]"
      ]
    },
    {
      "cell_type": "markdown",
      "metadata": {
        "id": "NzZiBJaPSOPg"
      },
      "source": [
        "\n",
        "**iloc** is used for integer-based indexing in Pandas to access rows"
      ]
    },
    {
      "cell_type": "code",
      "execution_count": null,
      "metadata": {
        "id": "U5mwXMpWSOPg"
      },
      "outputs": [],
      "source": [
        "df_index.iloc[1]"
      ]
    },
    {
      "cell_type": "markdown",
      "metadata": {
        "id": "DywdLxv9SOPg"
      },
      "source": [
        "### Specific values"
      ]
    },
    {
      "cell_type": "markdown",
      "metadata": {
        "id": "slFgn-AbSOPg"
      },
      "source": [
        "Here's a summary of the different ways to access individual values in a Pandas DataFrame:\n",
        "\n",
        "1. `df.loc[row_label][column_label]`: Chooses the row with the label and then the value in that row with the column label.\n",
        "\n",
        "2. `df.iloc[row_position][column_label]`: Selects the row with the position and then the value in that row with the column label.\n",
        "\n",
        "3. `df.loc[row_label, column_label]`: Directly accesses the value using both row and column labels.\n",
        "\n",
        "4. `df.iloc[row_position, column_position]`: Directly accesses the value using both row and column positions.\n",
        "\n",
        "Note: you might see `df[row_label][column_label]`, even though is less recommended that using `loc()`."
      ]
    },
    {
      "cell_type": "code",
      "execution_count": null,
      "metadata": {
        "id": "PEYSZrM8SOPg"
      },
      "outputs": [],
      "source": [
        "# first I access the row with the index, then I access the value\n",
        "# with the index of the resulting series (name of the column)\n",
        "df_index.iloc[0][\"score\"]"
      ]
    },
    {
      "cell_type": "code",
      "execution_count": null,
      "metadata": {
        "id": "LaWWYrRFSOPg"
      },
      "outputs": [],
      "source": [
        "# first I access the row with the label, then I access the value\n",
        "# with the index of the resulting series (name of the column)\n",
        "df_index.loc[\"789B\"][\"score\"]"
      ]
    },
    {
      "cell_type": "code",
      "execution_count": null,
      "metadata": {
        "id": "54lJAv7aSOPh"
      },
      "outputs": [],
      "source": [
        "df_index.loc[\"789B\",\"score\"]"
      ]
    },
    {
      "cell_type": "markdown",
      "metadata": {
        "id": "OtO3VQbSSOPi"
      },
      "source": [
        "\n",
        "---\n",
        "## More DataFrame Methods\n",
        "\n",
        "\n",
        "Let's see some useful methods of the Dataframe class."
      ]
    },
    {
      "cell_type": "markdown",
      "metadata": {
        "id": "M3_UXLhtSOPi"
      },
      "source": [
        "### `shape`\n",
        "\n",
        "`shape` is a Pandas attribute that returns a tuple representing the dimensions of a DataFrame or Series, indicating the number of rows and columns, while `shape()` is not a valid function in Pandas, and attempting to call it will result in an AttributeError."
      ]
    },
    {
      "cell_type": "code",
      "execution_count": null,
      "metadata": {
        "id": "AjCrPIt8SOPj"
      },
      "outputs": [],
      "source": [
        "titanic_df.shape # gives a tuple (nr rows, nr columns)"
      ]
    },
    {
      "cell_type": "code",
      "execution_count": null,
      "metadata": {
        "id": "7-BE0HxKSOPj"
      },
      "outputs": [],
      "source": [
        "titanic_df.shape[1] #tuples are accesed like this. nr of columns"
      ]
    },
    {
      "cell_type": "code",
      "execution_count": null,
      "metadata": {
        "id": "V1V74sd-SOPj"
      },
      "outputs": [],
      "source": [
        "titanic_df.shape[0] # nr of rows"
      ]
    },
    {
      "cell_type": "markdown",
      "metadata": {
        "id": "YNZQbNgQSOPj"
      },
      "source": [
        "### `describe()`\n",
        "\n",
        "`describe()` is a Pandas method that generates descriptive statistics of a DataFrame, providing information on count, mean, standard deviation, minimum, maximum, and quartiles for each numerical column."
      ]
    },
    {
      "cell_type": "code",
      "execution_count": null,
      "metadata": {
        "id": "vJXbXx9iSOPk"
      },
      "outputs": [],
      "source": [
        "titanic_df.describe()"
      ]
    },
    {
      "cell_type": "code",
      "execution_count": null,
      "metadata": {
        "id": "-sv4wz4RSOPk"
      },
      "outputs": [],
      "source": [
        "titanic_df.describe(include=\"object\")"
      ]
    },
    {
      "cell_type": "code",
      "execution_count": null,
      "metadata": {
        "id": "QWZCXC5CSOPk"
      },
      "outputs": [],
      "source": [
        "titanic_df.describe(include=\"all\")"
      ]
    },
    {
      "cell_type": "markdown",
      "metadata": {
        "id": "Za8beeZKSOPk"
      },
      "source": [
        "### `info()`\n",
        "\n",
        "`info()` is a Pandas method that provides a concise summary of a DataFrame, including information about the data types, non-null values, and memory usage."
      ]
    },
    {
      "cell_type": "code",
      "execution_count": null,
      "metadata": {
        "id": "YJr-xeuvSOPk"
      },
      "outputs": [],
      "source": [
        "titanic_df.info()"
      ]
    },
    {
      "cell_type": "markdown",
      "metadata": {
        "id": "_Q7A8NksSOPk"
      },
      "source": [
        "### `nunique() and unique()`\n",
        "\n",
        "`nunique()` is a Pandas function that returns the number of unique elements in a Series or DataFrame, while `unique()` returns an array of unique elements in a Series or DataFrame."
      ]
    },
    {
      "cell_type": "code",
      "execution_count": null,
      "metadata": {
        "id": "aoR62Hp3SOPk"
      },
      "outputs": [],
      "source": [
        "titanic_df.nunique() #number of unique values per column"
      ]
    },
    {
      "cell_type": "code",
      "execution_count": null,
      "metadata": {
        "tags": [],
        "id": "midngN5LSOPk"
      },
      "outputs": [],
      "source": [
        "#see unique values of one column\n",
        "titanic_df.Pclass.unique()"
      ]
    },
    {
      "cell_type": "markdown",
      "metadata": {
        "id": "cWN7tx0qSOPk"
      },
      "source": [
        "### `dtypes`"
      ]
    },
    {
      "cell_type": "markdown",
      "metadata": {
        "id": "dRvC7Hb-SOPk"
      },
      "source": [
        "`dtypes` is a Pandas attribute that returns the data types of each column in a DataFrame, while `dtype` is a method that returns the data type of a single element in a Series or DataFrame."
      ]
    },
    {
      "cell_type": "code",
      "execution_count": null,
      "metadata": {
        "tags": [],
        "id": "7nbFD_5pSOPk"
      },
      "outputs": [],
      "source": [
        "titanic_df.dtypes"
      ]
    },
    {
      "cell_type": "markdown",
      "metadata": {
        "id": "-zfefcKcSOPk"
      },
      "source": [
        "### `select_dtypes()`"
      ]
    },
    {
      "cell_type": "markdown",
      "metadata": {
        "id": "CVvE5GyCSOPk"
      },
      "source": [
        "`select_dtypes()` is a pandas function used to filter columns in a DataFrame based on their data types. It allows you to select numeric, object (string), boolean, datetime, or categorical columns.\n",
        "\n",
        "Syntax:\n",
        "```python\n",
        "DataFrame.select_dtypes(include=None, exclude=None)\n",
        "```\n",
        "\n",
        "- `include`: A list of data types or strings representing data types to include in the selection. If specified, only columns with these data types will be included.\n",
        "- `exclude`: A list of data types or strings representing data types to exclude from the selection. If specified, columns with these data types will be excluded.\n",
        "\n",
        "Example:\n",
        "```python\n",
        "# Assuming df is a DataFrame\n",
        "numeric_columns = df.select_dtypes(include='number')\n",
        "object_columns = df.select_dtypes(include='object')\n",
        "```\n",
        "\n"
      ]
    },
    {
      "cell_type": "code",
      "execution_count": null,
      "metadata": {
        "id": "nBud_HRWSOPk"
      },
      "outputs": [],
      "source": [
        "titanic_df.select_dtypes(include='number').head()"
      ]
    },
    {
      "cell_type": "markdown",
      "metadata": {
        "id": "pkNwCYvWSOPl"
      },
      "source": [
        "### Aggregation such as `max()`"
      ]
    },
    {
      "cell_type": "code",
      "execution_count": null,
      "metadata": {
        "id": "yVRE9IwkSOPl"
      },
      "outputs": [],
      "source": [
        "titanic_df.select_dtypes(include='number').max() #get the max for each numerical column in the df"
      ]
    },
    {
      "cell_type": "code",
      "execution_count": null,
      "metadata": {
        "id": "HXSvfeOcSOPl"
      },
      "outputs": [],
      "source": [
        "titanic_df.Fare.max() #get the max for one numerical column"
      ]
    },
    {
      "cell_type": "markdown",
      "metadata": {
        "id": "_iIlze2tSOPl"
      },
      "source": [
        " Just like `max()`, there are many methods that can be applied to either the entire dataframe or its individual columns."
      ]
    },
    {
      "cell_type": "markdown",
      "metadata": {
        "id": "vdOGkwpwSOPl"
      },
      "source": [
        "## 💡 Check for understanding"
      ]
    },
    {
      "cell_type": "markdown",
      "metadata": {
        "id": "ZMhWdj2NSOPl"
      },
      "source": [
        "- a. Use the original titanic_df\n",
        "- b. Select the `Sex` and `Fare` columns.\n",
        "- c. Indicate how many different types of `Sex` there are.\n",
        "- d. Indicate how many `Sex` of each type there are.\n",
        "- e. Show a statistical summary of all the variables.\n",
        "- f. Write some conclusions"
      ]
    },
    {
      "cell_type": "code",
      "execution_count": null,
      "metadata": {
        "id": "TDZ-NcR_SOPl"
      },
      "outputs": [],
      "source": [
        "# Your code here"
      ]
    },
    {
      "cell_type": "markdown",
      "metadata": {
        "id": "d3CRY6dISOPl"
      },
      "source": [
        "# Summary"
      ]
    },
    {
      "cell_type": "markdown",
      "metadata": {
        "id": "9yHti1qJSOPl"
      },
      "source": [
        "- Pandas is a library designed for working with tabulated and tagged data, making it ideal for handling spreadsheets, SQL tables, and more, built on top of NumPy.\n",
        "- DataFrames and Series are the two main data structures in Pandas.\n",
        "- Series is a one-dimensional array of data with associated labels called the index, while DataFrame is a two-dimensional tabular data structure with labeled rows and columns.\n",
        "- Data access in Series and DataFrame can be achieved using integer-based indexing (iloc), label-based indexing (loc), or dictionary-like notation for column access.\n",
        "- Series and DataFrame have various methods, such as sort_values(), sort_index(), value_counts(), describe(), info(), nunique(), unique(), dtypes, and select_dtypes().\n"
      ]
    },
    {
      "cell_type": "markdown",
      "metadata": {
        "id": "guuXoM5NSOPl"
      },
      "source": [
        "# Extra: Creating Dataframes from a Dictionary"
      ]
    },
    {
      "cell_type": "code",
      "execution_count": null,
      "metadata": {
        "id": "oELQJTYWSOPl"
      },
      "outputs": [],
      "source": [
        "# Create a Dataframe from a dictionary with\n",
        "# automatic indexes\n",
        "\n",
        "d = {\"state\": [\"Ohio\", \"Ohio\", \"California\", \"Nevada\", \"California\"],\n",
        "     \"year\": [2000, 2001, 2002, 2001, 2002],\n",
        "     \"avg\": [1.5, 1.7, 3.6, 2.4, 1.9]\n",
        "}\n",
        "\n",
        "df = pd.DataFrame(d)\n",
        "df"
      ]
    },
    {
      "cell_type": "markdown",
      "metadata": {
        "id": "Kr4sdczzSOPl"
      },
      "source": [
        "\n",
        "DataFrame from a dictionary of lists and indexes"
      ]
    },
    {
      "cell_type": "code",
      "execution_count": null,
      "metadata": {
        "tags": [],
        "id": "_zyI42W2SOPm"
      },
      "outputs": [],
      "source": [
        "d_index = {\n",
        "    \"name\": [\"Paula\", \"Mark\"],\n",
        "    \"score\": [98.5, 95]\n",
        "}\n",
        "\n",
        "df_index = pd.DataFrame(d_index, index=[\"123A\", \"789B\"])\n",
        "df_index"
      ]
    },
    {
      "cell_type": "markdown",
      "metadata": {
        "id": "WC8KtnzySOPm"
      },
      "source": [
        "# Extra: pickle"
      ]
    },
    {
      "cell_type": "markdown",
      "metadata": {
        "id": "HTSNoyGCSOPm"
      },
      "source": [
        "Pandas `pickle` function provides a convenient way to save and load Python objects, including DataFrames, to and from disk. Pickling allows you to serialize Python objects into a binary format, making it easy to store large datasets or complex data structures. It's a great tool for saving and restoring your work, especially when dealing with large datasets that might take a long time to process or recreate.\n",
        "\n",
        "## Saving DataFrames with Pickle\n",
        "\n",
        "You can use the `to_pickle()` method in pandas to save a DataFrame to a pickle file. This method takes the file path as an argument and creates a binary representation of the DataFrame, which is then saved to the specified file."
      ]
    },
    {
      "cell_type": "code",
      "execution_count": null,
      "metadata": {
        "id": "mgQVuRKtSOPm"
      },
      "outputs": [],
      "source": [
        "import pandas as pd\n",
        "\n",
        "# Assuming df is your DataFrame\n",
        "df.to_pickle('data.pkl')"
      ]
    },
    {
      "cell_type": "markdown",
      "metadata": {
        "id": "LCEl-ifOSOPm"
      },
      "source": [
        "## Loading DataFrames from Pickle\n",
        "\n",
        "To load a DataFrame from a pickle file, you can use the `read_pickle()` function in pandas. This function reads the binary data from the pickle file and converts it back into a DataFrame.\n"
      ]
    },
    {
      "cell_type": "code",
      "execution_count": null,
      "metadata": {
        "id": "6zJhAdgQSOPm"
      },
      "outputs": [],
      "source": [
        "import pandas as pd\n",
        "\n",
        "# Load DataFrame from pickle file\n",
        "df = pd.read_pickle('data.pkl')"
      ]
    },
    {
      "cell_type": "code",
      "execution_count": null,
      "metadata": {
        "id": "v0AusgnvSOPm"
      },
      "outputs": [],
      "source": [
        "df.head()"
      ]
    }
  ],
  "metadata": {
    "kernelspec": {
      "display_name": "Python 3 (ipykernel)",
      "language": "python",
      "name": "python3"
    },
    "language_info": {
      "codemirror_mode": {
        "name": "ipython",
        "version": 3
      },
      "file_extension": ".py",
      "mimetype": "text/x-python",
      "name": "python",
      "nbconvert_exporter": "python",
      "pygments_lexer": "ipython3",
      "version": "3.9.13"
    },
    "toc": {
      "base_numbering": 1,
      "nav_menu": {},
      "number_sections": true,
      "sideBar": false,
      "skip_h1_title": false,
      "title_cell": "Table of Contents",
      "title_sidebar": "Contents",
      "toc_cell": true,
      "toc_position": {
        "height": "537.273px",
        "left": "356px",
        "top": "130.994px",
        "width": "285.994px"
      },
      "toc_section_display": true,
      "toc_window_display": true
    },
    "colab": {
      "provenance": []
    }
  },
  "nbformat": 4,
  "nbformat_minor": 0
}