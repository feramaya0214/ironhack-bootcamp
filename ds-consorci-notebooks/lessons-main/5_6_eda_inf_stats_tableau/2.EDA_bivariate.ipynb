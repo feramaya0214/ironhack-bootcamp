{
 "cells": [
  {
   "cell_type": "markdown",
   "id": "3e097eb7-fc44-4820-82d3-1559fd57c8d6",
   "metadata": {
    "tags": []
   },
   "source": [
    "# Exploratory Data Analysis (EDA) with Housing Price Dataset (Part II - Bivariate Analysis)\n"
   ]
  },
  {
   "cell_type": "markdown",
   "id": "486766fc-e62b-45eb-b4ff-38f17736093a",
   "metadata": {},
   "source": [
    "Bivariate analysis is the simultaneous analysis of two variables (attributes). It helps to understand the relationships and patterns between these variables. Depending on the types of variables being analyzed, various techniques and visualizations can be employed."
   ]
  },
  {
   "cell_type": "markdown",
   "id": "aa6950bf-10ea-4241-890f-40455170dd87",
   "metadata": {},
   "source": [
    "- Categorical (incl. Discrete numerical) VS Categorical\n",
    "    - Crosstab\n",
    "    - Chi-square tests, Cramér's V\n",
    "    - Visualization: \n",
    "        - Stacked or grouped bar charts\n",
    "        - Frequency heat maps\n",
    "    \n",
    "- Categorical VS Continuous\n",
    "    - Visualization: \n",
    "        - Violin Plots\n",
    "        - Bar Charts\n",
    "        - Side by side Box Plots\n",
    "\n",
    "- Continuous VS Continuous\n",
    "    - Correlation coefficients\n",
    "    - Visualization: \n",
    "        - Scatter plots\n",
    "        - Line plots\n",
    "        - Correlation Heatmaps\n",
    "        - QQ Plot\n"
   ]
  },
  {
   "cell_type": "markdown",
   "id": "732a98ae-e26f-4dc9-979e-48e0bfaed814",
   "metadata": {},
   "source": [
    "## Loading and preparing the data"
   ]
  },
  {
   "cell_type": "code",
   "execution_count": null,
   "id": "a24a189e-9d1d-4d12-bc5c-33f50c4de1a0",
   "metadata": {},
   "outputs": [],
   "source": [
    "import pandas as pd\n",
    "import matplotlib.pyplot as plt\n",
    "import seaborn as sns\n",
    "import numpy as np\n",
    "\n",
    "%matplotlib inline"
   ]
  },
  {
   "cell_type": "code",
   "execution_count": null,
   "id": "198e6c16-b2a9-48e2-a436-f45846226e23",
   "metadata": {},
   "outputs": [],
   "source": [
    "# Loading the housing price dataset (assuming the file name is \"housing_price.csv\")\n",
    "df = pd.read_csv(\"https://raw.githubusercontent.com/data-bootcamp-v4/data/main/housing_price_eda.csv\")"
   ]
  },
  {
   "cell_type": "code",
   "execution_count": null,
   "id": "b29ac673-33e7-4286-a4cb-300ba9f44ddc",
   "metadata": {
    "id": "PybQfXbPkTQS"
   },
   "outputs": [],
   "source": [
    "# Filtering out columns in the dataframe where more than 80% of the values are missing\n",
    "df = df[df.columns[df.isnull().mean() < 0.8]]"
   ]
  },
  {
   "cell_type": "code",
   "execution_count": null,
   "id": "a9a27001-85a3-414f-8ab9-2dffc68d7232",
   "metadata": {
    "id": "jtNX_co5kTQS"
   },
   "outputs": [],
   "source": [
    "# Removing the \"Id\" column from the dataframe\n",
    "df.drop(\"Id\", inplace=True, axis=1)"
   ]
  },
  {
   "cell_type": "code",
   "execution_count": null,
   "id": "4b864b79-bbb8-4475-8798-308d4a727e4d",
   "metadata": {
    "id": "Vm_XfWxwkTQS",
    "outputId": "2fcdc8be-5a27-4b16-bf9d-054569e4455a"
   },
   "outputs": [],
   "source": [
    "# Separating between discrete and continuous variables, as discrete ones could potentially be treated as categorical.\n",
    "# Remember to adjust the threshold (in this case, < 20) based on your dataset's specific characteristics and domain knowledge.\n",
    "potential_categorical_from_numerical = df.select_dtypes(\"number\").loc[:, df.select_dtypes(\"number\").nunique() < 20]\n",
    "potential_categorical_from_numerical"
   ]
  },
  {
   "cell_type": "code",
   "execution_count": null,
   "id": "107d625e-3a50-4e6e-818a-d4794ca0e05b",
   "metadata": {},
   "outputs": [],
   "source": [
    "# Extracting columns with object (typically string) data types to create a categorical dataframe\n",
    "# For demonstration purposes, let's consider the columns in potential_categorical_from_numerical as categorical variables.\n",
    "df_categorical = pd.concat([df.select_dtypes(\"object\"), potential_categorical_from_numerical], axis=1)\n",
    "\n",
    "# Adjusting the numerical dataframe by removing the moved columns\n",
    "df_numerical = df.select_dtypes(\"number\").drop(columns=potential_categorical_from_numerical.columns)"
   ]
  },
  {
   "cell_type": "markdown",
   "id": "a7280986-5b3e-4de4-b797-f043f5e4a82f",
   "metadata": {},
   "source": [
    "## Categorical (incl. Discrete numerical) VS Categorical"
   ]
  },
  {
   "cell_type": "markdown",
   "id": "5cef8dae-2c41-4243-b159-4e9596ff61e1",
   "metadata": {},
   "source": [
    "Let's explore the concept of **analyzing relationships between categorical variables**. We'll do so using statistical tests such as the **chi-square (χ²) test and Cramer's V**, and using visualization tools such as stacked or grouped bar charts. "
   ]
  },
  {
   "cell_type": "markdown",
   "id": "ae455d04-312f-4e7d-8ba7-daa49f08a9af",
   "metadata": {},
   "source": [
    "### Crosstab\n",
    "A table showing the frequency of occurrences for combinations of two categorical variables."
   ]
  },
  {
   "cell_type": "markdown",
   "id": "51ce03ed-f271-4f79-83c6-6cb9f00ee012",
   "metadata": {},
   "source": [
    "We'll begin by creating a crosstab between 'MSZoning' and 'SaleCondition' to observe the interaction between these two categorical variables."
   ]
  },
  {
   "cell_type": "code",
   "execution_count": null,
   "id": "d7294cee-a4dd-4bb8-8d0a-467ea77c6af2",
   "metadata": {},
   "outputs": [],
   "source": [
    "# Generating a crosstab for 'MSZoning' and 'SaleCondition'\n",
    "crosstab_result = pd.crosstab(df['MSZoning'], df['SaleCondition'])\n",
    "\n",
    "crosstab_result"
   ]
  },
  {
   "cell_type": "markdown",
   "id": "822d791b-3e10-468b-9498-797d18239da4",
   "metadata": {},
   "source": [
    "From the crosstab between `MSZoning` and `SaleCondition`, we observe the following:\n",
    "- Most houses have a `Normal` sale condition.\n",
    "- Most houses in the RL (Residential Low Density) zoning area have a `Normal` sale condition, followed by `Partial` and then `Abnorml`.\n",
    "- The FV (Floating Village Residential) zoning area has a notable number of houses with a `Partial` sale condition, suggesting newer homes or homes that underwent significant renovations.\n",
    "- The C (all) (Commercial) zoning category mostly consists of houses with `Abnorml` and `Normal` sale conditions. But we have less data of this kind."
   ]
  },
  {
   "cell_type": "markdown",
   "id": "5c321b32-4872-4de1-8930-0a82cd24348f",
   "metadata": {},
   "source": [
    "### Chi-square Tests\n",
    "Tests the independence of two categorical variables by comparing observed frequencies to expected frequencies.\n",
    "\n",
    "- The chi-square test is a statistical test used to **determine whether there is a significant association between two categorical variables**. \n",
    "- Interpretation: if p-value < 0.05, this suggests that there is a significant association between the categorical variables. P-value >= 0.05, indicates that there is not enough evidence to conclude a significant association between the variables. \n"
   ]
  },
  {
   "cell_type": "markdown",
   "id": "98aadb83-36a1-45e5-8497-9607691f15fc",
   "metadata": {},
   "source": [
    "Let's perform a Chi-square test for `MSZoning` and `SaleCondition` to determine if they are independent."
   ]
  },
  {
   "cell_type": "code",
   "execution_count": null,
   "id": "5be42d65-ce86-4785-866c-99f26b424cfd",
   "metadata": {},
   "outputs": [],
   "source": [
    "from scipy.stats import chi2_contingency\n",
    "\n",
    "# Chi-square test for 'MSZoning' and 'SaleCondition'\n",
    "chi2_statistic, chi2_p_value, _, _ = chi2_contingency(crosstab_result)\n",
    "\n",
    "chi2_statistic, chi2_p_value"
   ]
  },
  {
   "cell_type": "markdown",
   "id": "36e15d0e-e52f-4c8a-9237-5082af6f99bf",
   "metadata": {},
   "source": [
    "\n",
    "The null hypothesis of the Chi-square test is that the two categorical variables are independent. Given the extremely low \\( p \\)-value, we reject the null hypothesis. This implies that there's a significant association between `MSZoning` and `SaleCondition` in the dataset.\n"
   ]
  },
  {
   "cell_type": "markdown",
   "id": "f66399b5-794d-4f13-ab16-2b825cf06742",
   "metadata": {},
   "source": [
    "### Cramér's V\n",
    "\n",
    "While the Chi-square test informs us about the independence of two categorical variables, Cramér's V measures the strength of the association between them. \n",
    "\n",
    "- Cramer's V is a measure of association used to **quantify the strength of the relationship between categorical variables**. \n",
    "- Interpretation: Cramer's V ranges from 0 to 1, where **0 indicates no association, and 1 represents a perfect association between the variables**. A higher value of Cramer's V indicates a stronger relationship between the categorical variables."
   ]
  },
  {
   "cell_type": "markdown",
   "id": "e9cc38e5-43c4-49ac-a4a3-6bf5b73f2b20",
   "metadata": {},
   "source": [
    "Let's compute Cramér's V for `MSZoning` and `SaleCondition` to measure the strength of their association."
   ]
  },
  {
   "cell_type": "code",
   "execution_count": null,
   "id": "07e84d78-3430-4dba-ba38-e46c0116455a",
   "metadata": {},
   "outputs": [],
   "source": [
    "from scipy.stats.contingency import association\n",
    "\n",
    "# Computing the association between variables in 'crosstab_result' using the \"cramer\" method\n",
    "association(crosstab_result, method=\"cramer\")"
   ]
  },
  {
   "cell_type": "markdown",
   "id": "fdf22cf4-72d6-4cbf-82fe-4ad034da965a",
   "metadata": {},
   "source": [
    "The Cramér's V value of 0.148 suggests a weak association between the two variables. Though statistically significant, the strength of this relationship is not very strong in practical terms."
   ]
  },
  {
   "cell_type": "markdown",
   "id": "ab5ae93c-275e-40ab-8865-c3e360ac5c12",
   "metadata": {},
   "source": [
    "### Stacked and Grouped Bar Charts\n",
    "Visualizes the frequency or proportion of categories between two categorical variables."
   ]
  },
  {
   "cell_type": "code",
   "execution_count": null,
   "id": "5aecd178-1f89-4966-b556-2aa50b49565b",
   "metadata": {},
   "outputs": [],
   "source": [
    "# Plotting a stacked bar chart for the 'crosstab_result' data\n",
    "crosstab_result.plot(kind=\"bar\", stacked=True)"
   ]
  },
  {
   "cell_type": "markdown",
   "id": "0df2ba07-2d47-42a8-b9cc-f943a2c1c0f5",
   "metadata": {},
   "source": [
    "- The chart vividly illustrates the dominance of the `RL` (Residential Low Density) zoning category in house sales. This category has the most diverse set of `SaleCondition` values, further highlighting its prevalence in the dataset.\n",
    "- Other zoning categories, like `FV`, `RH`, and `RM`, also predominantly exhibit `Normal` sale conditions.\n",
    "- It's evident that `Partial` sales are primarily associated with the `RL` and `FV` zoning categories.\n"
   ]
  },
  {
   "cell_type": "markdown",
   "id": "b58d58ec-9121-49ea-8c28-f0eed54e01c5",
   "metadata": {},
   "source": [
    "Let's look now at a grouped bar chart for the same columns:"
   ]
  },
  {
   "cell_type": "code",
   "execution_count": null,
   "id": "92d2cd46-a34b-4784-aec0-0cada813df85",
   "metadata": {},
   "outputs": [],
   "source": [
    "# Plotting a grouped bar chart\n",
    "sns.countplot(data=df, x='MSZoning', hue='SaleCondition')"
   ]
  },
  {
   "cell_type": "markdown",
   "id": "d185aed1-69a0-4bd8-9f78-d6bed953ea20",
   "metadata": {},
   "source": [
    "#### Seaborn Visualizations and Hue"
   ]
  },
  {
   "cell_type": "markdown",
   "id": "bd6d96d6-d3eb-423b-a65e-7d4c1df5237e",
   "metadata": {},
   "source": [
    "There are a couple of Seaborn visualizations that allow us to add a categorical variable in the parameter `hue`. By using the `hue` parameter, we can add another dimension of information to our plots. "
   ]
  },
  {
   "cell_type": "markdown",
   "id": "374814a6-60aa-4fe4-aa55-8440b7438046",
   "metadata": {},
   "source": [
    "### Frequency Heat Maps\n",
    "Displays frequencies using color gradients for combinations of two categorical variables."
   ]
  },
  {
   "cell_type": "code",
   "execution_count": null,
   "id": "b4b45a44-c9b8-4c09-81e8-fb45be4afda0",
   "metadata": {},
   "outputs": [],
   "source": [
    "import seaborn as sns\n",
    "\n",
    "# Plotting a heatmap for the 'crosstab_result' data, annotating each cell with the value, using the \"YlGnBu\" color map and formatting numbers as integers\n",
    "sns.heatmap(crosstab_result, annot=True, cmap=\"YlGnBu\", fmt=\"d\")"
   ]
  },
  {
   "cell_type": "markdown",
   "id": "d4c0d71f-83a6-4fda-8483-8ca85cee1b3a",
   "metadata": {},
   "source": [
    "- The heatmap color intensity shows the frequency count of house sales for each combination of `MSZoning` and `SaleCondition`.\n",
    "- The darker shades in the `RL` and `Normal` intersection reiterate the high occurrence of this combination.\n",
    "- There are specific combinations with no occurrences, such as `C (all)` with `Partial` and `RH` with `Partial`, evident from the zeros in the heatmap.\n"
   ]
  },
  {
   "cell_type": "markdown",
   "id": "b6ca9c75-138a-4d9f-8a56-37caac2dfd88",
   "metadata": {},
   "source": [
    "---"
   ]
  },
  {
   "cell_type": "markdown",
   "id": "91c8f268-eb42-4702-902a-e8893fb31022",
   "metadata": {},
   "source": [
    "## Categorical vs Continuous"
   ]
  },
  {
   "cell_type": "markdown",
   "id": "2bc2b959-3f29-4060-a64d-52a3aa9c6b9c",
   "metadata": {},
   "source": [
    "We'll use the `MSZoning` as our categorical variable and `SalePrice` as our continuous variable."
   ]
  },
  {
   "cell_type": "markdown",
   "id": "ed14f6ce-d20e-4d4a-a49b-feb68d4e48b8",
   "metadata": {},
   "source": [
    "### Violin Plots\n",
    "Combines a box plot with a kernel density plot to show the distribution of a continuous variable for each category."
   ]
  },
  {
   "cell_type": "markdown",
   "id": "f7a8e86e-c49c-4a57-81fe-7936c86fbdb9",
   "metadata": {},
   "source": [
    "The violin plot below will provide a combined view of the distribution of `SalePrice` for each zoning category:"
   ]
  },
  {
   "cell_type": "code",
   "execution_count": null,
   "id": "3efb7d4c-b5b6-4cb4-b061-f905d4252724",
   "metadata": {},
   "outputs": [],
   "source": [
    "# Plotting a violin plot to visualize the distribution of 'SalePrice' for each 'MSZoning' category, using the \"coolwarm\" color palette\n",
    "sns.violinplot(data=df, x='MSZoning', y='SalePrice', palette=\"coolwarm\")"
   ]
  },
  {
   "cell_type": "markdown",
   "id": "7704f565-0290-422a-abee-66acbf0a04dc",
   "metadata": {},
   "source": [
    "- The `RL` (Residential Low Density) category displays a wide range of house prices, with a thicker section around the median, suggesting that most houses in this category fall within this price range.\n",
    "- The `RM` (Residential Medium Density) category has a more condensed price distribution, with a majority of houses priced in the lower to mid-range.\n",
    "- The `FV` (Floating Village Residential) category has a bimodal distribution, indicating two major groups of house prices.\n",
    "- The `RH` (Residential High Density) and `C (all)` (Commercial) categories have fewer data points, but their price distributions are somewhat similar to `RM`."
   ]
  },
  {
   "cell_type": "markdown",
   "id": "ca706437-e780-471a-a685-95489dd8ea0a",
   "metadata": {},
   "source": [
    "### Bar Charts\n",
    "Shows the mean (or another measure of central tendency) of the continuous variable for each category."
   ]
  },
  {
   "cell_type": "markdown",
   "id": "6c34db32-6d53-461a-8cc7-cced5dda2647",
   "metadata": {},
   "source": [
    "This will show the mean (or another measure of central tendency) of the `SalePrice` for each zoning category."
   ]
  },
  {
   "cell_type": "code",
   "execution_count": null,
   "id": "48a38adb-754b-4b41-8988-d3780c30553c",
   "metadata": {},
   "outputs": [],
   "source": [
    "# Plotting a bar plot to visualize the average 'SalePrice' for each 'MSZoning' category, using the \"coolwarm\" color palette\n",
    "sns.barplot(data=df, x='MSZoning', y='SalePrice', palette=\"coolwarm\")"
   ]
  },
  {
   "cell_type": "markdown",
   "id": "093d4365-7f46-4b5d-b9d4-f1840aa3ed32",
   "metadata": {},
   "source": [
    "The bar chart above depicts the average `SalePrice` for each zoning category:\n",
    "\n",
    "- The `FV` (Floating Village Residential) category has the highest average house price, closely followed by the `RL` (Residential Low Density) category.\n",
    "- The `RM` (Residential Medium Density) and `RH` (Residential High Density) categories have relatively lower average house prices.\n",
    "- The `C (all)` (Commercial) category's average house price is the lowest among all the categories.\n",
    "\n",
    "It's evident that the type of zoning has a considerable impact on the average house price, with certain zones fetching higher prices on average."
   ]
  },
  {
   "cell_type": "markdown",
   "id": "11ecb3d2-72fe-4aad-8a64-585fec185481",
   "metadata": {},
   "source": [
    "### Side by Side Box Plots\n",
    "\n",
    "Box plots are a great way to visualize the distribution of a continuous variable across different categories. They show the median, quartiles, and potential outliers, providing a quick snapshot of the data's spread and central tendency."
   ]
  },
  {
   "cell_type": "markdown",
   "id": "d38dd005-69eb-4c8b-a183-287ab821c2a2",
   "metadata": {},
   "source": [
    "Let's visualize the distribution of `SalePrice` for each zoning category using side-by-side box plots. This will help us understand the spread, median, and potential outliers for each category."
   ]
  },
  {
   "cell_type": "code",
   "execution_count": null,
   "id": "ccd2d324-9a4d-43ee-9aec-07cfa5e3584a",
   "metadata": {},
   "outputs": [],
   "source": [
    "# Plotting a box plot to visualize the spread and outliers of 'SalePrice' for each 'MSZoning' category, using the \"coolwarm\" color palette\n",
    "sns.boxplot(data=df, x='MSZoning', y='SalePrice', palette=\"coolwarm\")"
   ]
  },
  {
   "cell_type": "markdown",
   "id": "c47afb68-3578-4d1d-962a-ff5359812149",
   "metadata": {},
   "source": [
    "- The `FV` (Floating Village Residential) and `RL` (Residential Low Density) zoning categories generally have higher median sale prices compared to other categories.\n",
    "- The `RL` category, while having a high median sale price, also exhibits a wide range of sale prices, suggesting variability in the type of houses within this category.\n",
    "- The `C (all)` (Commercial) category has the lowest median sale price and the smallest interquartile range, indicating lesser variability in sale prices within this category.\n",
    "- The `RM` (Residential Medium Density) category has a lower median sale price compared to `RL` and `FV` but a higher median than the `RH` (Residential High Density) and `C (all)` categories.\n",
    "- There are noticeable outliers in the `RL` and `RM` categories, with some houses selling at prices much higher than the typical range for those categories."
   ]
  },
  {
   "cell_type": "markdown",
   "id": "bd897592-3658-41b0-a41e-96ca9fc339d2",
   "metadata": {},
   "source": [
    "---"
   ]
  },
  {
   "cell_type": "markdown",
   "id": "b618dee8-53bc-458b-8bfe-c877c2cf6087",
   "metadata": {},
   "source": [
    "## Continuous vs Continuous"
   ]
  },
  {
   "cell_type": "markdown",
   "id": "2a6274cb-9b33-4aba-9393-2d774fd0ca1c",
   "metadata": {},
   "source": [
    "For this Continuous vs Continuous analysis, let's focus on two continuous variables: `SalePrice` and `GrLivArea` (Above grade (ground) living area square feet). These two variables are often of interest in housing datasets as they represent the sale price and the living area of a house, respectively."
   ]
  },
  {
   "cell_type": "markdown",
   "id": "e4a10068-9a37-4585-89ca-10f899b00415",
   "metadata": {},
   "source": [
    "### Correlation coefficients\n",
    "Quantifies the strength and direction of the relationship between two continuous variables."
   ]
  },
  {
   "cell_type": "markdown",
   "id": "f6a9a518-2967-49bd-9ec5-eefa399f1cae",
   "metadata": {},
   "source": [
    "We'll begin by calculating the Pearson correlation coefficient between `SalePrice` and `GrLivArea` to quantify their linear relationship."
   ]
  },
  {
   "cell_type": "code",
   "execution_count": null,
   "id": "4c5e8cc6-658d-4ffa-a501-ae940d9aefd5",
   "metadata": {},
   "outputs": [],
   "source": [
    "# Calculating the Pearson correlation coefficient between 'SalePrice' and 'GrLivArea' columns\n",
    "correlation = df['SalePrice'].corr(df['GrLivArea'])\n",
    "correlation"
   ]
  },
  {
   "cell_type": "markdown",
   "id": "8094e516-a863-42ac-bf69-488620c5a1cc",
   "metadata": {},
   "source": [
    "Let's check the Spearman correlation coefficient between `SalePrice` and `GrLivArea`."
   ]
  },
  {
   "cell_type": "code",
   "execution_count": null,
   "id": "9283160d-0121-4a84-b707-a57db040ba63",
   "metadata": {},
   "outputs": [],
   "source": [
    "# Calculating the Spearman rank correlation between 'SalePrice' and 'GrLivArea' \n",
    "correlation = df['SalePrice'].corr(df['GrLivArea'], method='spearman')\n",
    "correlation"
   ]
  },
  {
   "cell_type": "markdown",
   "id": "deb5b4c5-40c4-4e6b-9b4c-7b2d1a5ab422",
   "metadata": {
    "jp-MarkdownHeadingCollapsed": true,
    "tags": []
   },
   "source": [
    "- **Pearson Correlation**: \\(0.7086\\)\n",
    "- **Spearman Correlation**: \\(0.7313\\)\n",
    "\n",
    "**Insights:**\n",
    "\n",
    "- The **Pearson correlation** of \\(0.7086\\) suggests a strong positive linear relationship between the sale price of a house and its above-ground living area in square feet. As the living area increases, the sale price tends to increase as well.\n",
    "  \n",
    "- The **Spearman correlation** of \\(0.7313\\) indicates a strong positive monotonic relationship between the two variables. This means that when one variable increases, the other also tends to increase, but not necessarily at a constant rate. \n",
    "\n",
    "The slightly higher value for Spearman correlation suggests that there might be some non-linear aspects to their relationship or the presence of outliers affecting the Pearson correlation.\n",
    "\n",
    "In essence, both correlations emphasize that homes with larger living areas above ground tend to sell at higher prices."
   ]
  },
  {
   "cell_type": "markdown",
   "id": "e33f70b5-a917-456e-a56e-a50734b2d4ce",
   "metadata": {},
   "source": [
    "Let's calculate the Spearman correlation coefficients between `SalePrice` and all other numerical variables:"
   ]
  },
  {
   "cell_type": "code",
   "execution_count": null,
   "id": "bbe49d79-8f7c-4af8-aec3-e75d848f538c",
   "metadata": {},
   "outputs": [],
   "source": [
    "# Calculating the Spearman correlation coefficients between 'SalePrice' and all other numerical variables\n",
    "spearman_correlations = df_numerical.corrwith(df['SalePrice'], method='spearman')\n",
    "\n",
    "# Sorting the correlations for better visualization\n",
    "spearman_correlations_sorted = spearman_correlations.sort_values(ascending=False)\n",
    "\n",
    "# Displaying the correlations\n",
    "spearman_correlations_sorted"
   ]
  },
  {
   "cell_type": "markdown",
   "id": "056237bd-356a-4dd6-8237-9402c184071c",
   "metadata": {},
   "source": [
    "- Variables like `OverallQual`, `GrLivArea`, and `GarageCars` have strong positive correlations with `SalePrice`, suggesting that as these variables increase, the sale price of the house also tends to increase.\n",
    "- On the other hand, variables like `EnclosedPorch`, `KitchenAbvGr`, and `OverallCond` have negative correlations with `SalePrice`, indicating that as these variables increase, the sale price tends to decrease.\n",
    "- Some variables, such as `MSSubClass`, `BsmtHalfBath`, and `Id`, have correlations close to zero, suggesting a weak or no relationship with the sale price.\n",
    "\n",
    "Remember, correlation values range from -1 to 1:\n",
    "- A value close to 1 implies a strong positive correlation.\n",
    "- A value close to -1 implies a strong negative correlation.\n",
    "- A value close to 0 implies little to no linear/monotonic correlation."
   ]
  },
  {
   "cell_type": "markdown",
   "id": "be9356e3-cf17-470a-861d-58ae754c5893",
   "metadata": {},
   "source": [
    "**CAUTION!** The fact that correlation is zero does not mean there are no patterns. It means there is no linear or monotonic relationship."
   ]
  },
  {
   "cell_type": "markdown",
   "id": "2dc4b181-9eb6-42ae-b13a-e417b3d671f2",
   "metadata": {},
   "source": [
    "### Correlation Heatmaps\n",
    "Visualizes correlation coefficients between pairs of continuous variables using color gradients."
   ]
  },
  {
   "cell_type": "code",
   "execution_count": null,
   "id": "d5839275-d7cf-45cd-954d-b5025d329897",
   "metadata": {},
   "outputs": [],
   "source": [
    "correlation_matrix = df_numerical.corr()\n",
    "\n",
    "# Setting up the matplotlib figure with an appropriate size\n",
    "plt.figure(figsize=(18, 15))\n",
    "\n",
    "# Drawing the heatmap for the numerical columns\n",
    "sns.heatmap(correlation_matrix, annot=True, cmap=\"coolwarm\")\n",
    "\n",
    "plt.title(\"Correlation Heatmap for Selected Numerical Variables\")\n",
    "plt.show()"
   ]
  },
  {
   "cell_type": "markdown",
   "id": "97a84fc1-6347-4bb3-abd1-661e3043553a",
   "metadata": {},
   "source": [
    "**Insights:**\n",
    "\n",
    "- **Strong Positive Correlation**: Variables like `GrLivArea`, `1stFlrSF`, and `TotalBsmtSF` have strong positive correlations with `SalePrice`. This suggests that houses with larger living areas, larger first floors, or larger basements generally have higher sale prices.\n",
    "- **Year of Construction**: Both `YearBuilt` and `YearRemodAdd` (year of remodeling) have a positive correlation with `SalePrice`, indicating that newer homes or homes that were more recently remodeled tend to fetch higher prices.\n",
    "- **Garage**: The `GarageYrBlt` (year garage was built) and `GarageArea` show a positive correlation with `SalePrice`, suggesting that houses with newer and larger garages might be priced higher.\n",
    "- **Multicollinearity**: Some variables, like `TotalBsmtSF` and `1stFlrSF`, have a strong correlation with each other. This is expected as the size of the first floor can often be similar to the total basement size. Such multicollinearity might need consideration when building predictive models.\n"
   ]
  },
  {
   "cell_type": "markdown",
   "id": "e603c920-a015-4c18-bb31-cdff6bd5b9e4",
   "metadata": {},
   "source": [
    "We could also just do the Heatmap for those variables more correlated with SalePrice according to Spearman correlation coefficient."
   ]
  },
  {
   "cell_type": "code",
   "execution_count": null,
   "id": "73a644a1-c316-408c-a4de-1594b877a802",
   "metadata": {
    "id": "Eb_JFU31kTQg",
    "outputId": "6b8ffbdb-199d-4e00-bf96-f6f81853c16a",
    "tags": []
   },
   "outputs": [],
   "source": [
    "spearman_correlations_sorted_top = spearman_correlations_sorted[abs(spearman_correlations_sorted) > 0.5]\n",
    "spearman_correlations_sorted_top"
   ]
  },
  {
   "cell_type": "code",
   "execution_count": null,
   "id": "6703b791-ca08-4e2e-91c7-6c85a2a41a38",
   "metadata": {
    "id": "epF5eMb0kTQg",
    "outputId": "863d75cd-fedf-4ced-ec53-5d6995d4521d"
   },
   "outputs": [],
   "source": [
    "correlation_matrix = df_numerical[spearman_correlations_sorted_top.index].corr()\n",
    "\n",
    "# Setting up the matplotlib figure with an appropriate size\n",
    "plt.figure(figsize=(6, 6))\n",
    "\n",
    "# Drawing the heatmap for the numerical columns\n",
    "sns.heatmap(correlation_matrix, annot=True, cmap=\"coolwarm\")\n",
    "\n",
    "plt.title(\"Correlation Heatmap for Selected Numerical Variables\")\n",
    "plt.show()"
   ]
  },
  {
   "cell_type": "markdown",
   "id": "7e951561-4ccb-412b-b316-cdaaa2729f4c",
   "metadata": {},
   "source": [
    "### Scatter Plots\n",
    "Plots individual data points based on their values for two continuous variables to visualize relationships."
   ]
  },
  {
   "cell_type": "code",
   "execution_count": null,
   "id": "937bcbf1-2f96-4cb6-8cc4-436e8bfca2e0",
   "metadata": {},
   "outputs": [],
   "source": [
    "# Plotting a scatter plot to visualize the relationship between 'GrLivArea' and 'SalePrice'\n",
    "sns.scatterplot(data=df, x='GrLivArea', y='SalePrice')"
   ]
  },
  {
   "cell_type": "markdown",
   "id": "126a6b14-ced6-42d2-9694-90c592bb0eca",
   "metadata": {},
   "source": [
    "**Insights**:\n",
    "\n",
    "- **Positive Relationship**: The plot clearly shows a positive relationship between the two variables. As the living area increases, the sale price of the houses generally increases as well.\n",
    "  \n",
    "- **Potential Outliers**: There are a few houses with large living areas but lower sale prices. These points could be potential outliers or could represent houses in areas where price per square foot is lower.\n",
    "\n",
    "- **Data Concentration**: Most of the data points are concentrated in the area representing houses with living areas between approximately 1000 and 2500 square feet and sale prices between `$100,000` and `$300,000`. This suggests that the majority of the houses in the dataset fall within this range.\n",
    "\n",
    "This scatter plot provides a visual confirmation of the strong positive relationship between the sale price and the living area of the houses, as indicated by the previously calculated correlation coefficients."
   ]
  },
  {
   "cell_type": "code",
   "execution_count": null,
   "id": "2dd97f45-a9c4-49b0-bcdd-41d97f883ccd",
   "metadata": {},
   "outputs": [],
   "source": [
    "# Plotting scatter plots for each numerical column against 'SalePrice' to visualize their relationships\n",
    "for col in df_numerical.columns:\n",
    "    plt.figure(figsize=(5, 5))\n",
    "    plt.title('Scatter plot of SalePrice vs ' + col)\n",
    "    sns.scatterplot(data=df, x=col, y='SalePrice')\n",
    "    plt.show()"
   ]
  },
  {
   "cell_type": "markdown",
   "id": "da4ce173-1b40-42d0-b9f9-79f4993376f2",
   "metadata": {
    "id": "YUTRUaVRkTQe"
   },
   "source": [
    "#### Seaborn Joint Plot"
   ]
  },
  {
   "cell_type": "markdown",
   "id": "8f34abe4-a2c6-4639-8af4-3ef6ea35c727",
   "metadata": {},
   "source": [
    "`sns.jointplot` is used to create a multi-panel figure that displays a bivariate (two-variable) relationship between two columns of a dataset along with the univariate (single-variable) distribution of each on separate axes."
   ]
  },
  {
   "cell_type": "code",
   "execution_count": null,
   "id": "189e8ecf-273d-459b-a6ec-8f5e68088702",
   "metadata": {
    "id": "ToCsOBvbkTQe",
    "outputId": "b2ac5ae3-4979-4f6f-e6b0-71720e4ffd54"
   },
   "outputs": [],
   "source": [
    "sns.jointplot(y=df_numerical['SalePrice'], x=df_numerical['GrLivArea'])"
   ]
  },
  {
   "cell_type": "markdown",
   "id": "be8b9b7d-7e39-4113-a8df-b70589b5575c",
   "metadata": {
    "id": "RwpLiBMJkTQe"
   },
   "source": [
    "#### Seaborn Pairplot"
   ]
  },
  {
   "cell_type": "markdown",
   "id": "b0fce4d0-ed95-43e2-907a-edef22fc147c",
   "metadata": {},
   "source": [
    "`sns.pairplot()` is a function provided by the Seaborn library in Python to create a grid of scatter plots and histograms/KDEs for pairwise relationships in a dataset.\n",
    "\n",
    "- **Pairwise Scatter Plots**: For each pair of numeric variables in the dataset, a scatter plot is created to visualize their relationship. This helps in spotting any linear or non-linear correlations between variables.\n",
    "- **Histograms or KDE**: On the diagonal of the grid, sns.pairplot displays histograms (by default) or kernel density estimates (if specified) to show the univariate distribution of each variable.\n",
    "- **Color by Categories**: You can use the hue parameter to color the data points based on a categorical variable. This can help in understanding how categories might affect relationships between numeric variables."
   ]
  },
  {
   "cell_type": "markdown",
   "id": "91ced048-90c3-4ed2-978f-6ce0373529c5",
   "metadata": {},
   "source": [
    "Let's visualize the pairwise relationship and distributions for \"SalePrice\" and \"GrLivArea\" using Seaborn's pairplot."
   ]
  },
  {
   "cell_type": "code",
   "execution_count": null,
   "id": "a417ade4-53f3-405e-9079-7bea8e86cf2a",
   "metadata": {
    "id": "wlSyDrC1kTQe",
    "outputId": "d24a5f5d-2ab4-4668-9f08-47795e843850"
   },
   "outputs": [],
   "source": [
    "sns.pairplot(df[[\"SalePrice\", \"GrLivArea\"]])"
   ]
  },
  {
   "cell_type": "markdown",
   "id": "ab5cbe01-970a-4120-bc7b-46684f7b21a1",
   "metadata": {},
   "source": [
    "Now, let's visualize the pairwise relationships and distributions for all numerical columns in the dataframe 'df_numerical' using Seaborn's pairplot."
   ]
  },
  {
   "cell_type": "code",
   "execution_count": null,
   "id": "3ae75a5a-3675-474d-8b30-eb7493b83c03",
   "metadata": {},
   "outputs": [],
   "source": [
    "sns.pairplot(df_numerical)"
   ]
  },
  {
   "cell_type": "markdown",
   "id": "02e6bfbe-8030-48ed-8bf0-9902d602cef7",
   "metadata": {},
   "source": [
    "Now we will visualize the pairwise relationships and distributions for \"SalePrice\" and \"GrLivArea\" in the dataframe 'df', categorized by the \"CentralAir\" column using Seaborn's pairplot."
   ]
  },
  {
   "cell_type": "code",
   "execution_count": null,
   "id": "b93b2552-6a6f-49fa-ab9b-99439d93151c",
   "metadata": {
    "id": "v0v8R3M-kTQe",
    "outputId": "c39f736e-cce2-41a7-a61d-d2d57628e677"
   },
   "outputs": [],
   "source": [
    "sns.pairplot(df[[\"SalePrice\", \"GrLivArea\",\"CentralAir\"]], hue='CentralAir')"
   ]
  },
  {
   "cell_type": "markdown",
   "id": "7dca2a02-9027-46a0-9766-09c80f2cbe9f",
   "metadata": {
    "id": "4FhVd29nkTQe"
   },
   "source": [
    "#### Seaborn lmplot"
   ]
  },
  {
   "cell_type": "markdown",
   "id": "54102df7-ada0-4d58-9b91-71a44888159b",
   "metadata": {},
   "source": [
    "**Scatter Plot with Regression Line**: By default, it displays a scatter plot of two variables along with a linear regression fit."
   ]
  },
  {
   "cell_type": "markdown",
   "id": "c5097147-093e-4162-a571-3e6b688f223d",
   "metadata": {},
   "source": [
    "- **Color by Categories**: You can use the hue parameter to color the data points based on a categorical variable. This can help in understanding how categories might affect relationships between numeric variables."
   ]
  },
  {
   "cell_type": "markdown",
   "id": "adfed955-9058-4c7f-902f-37c9dcc9ed38",
   "metadata": {},
   "source": [
    "We'll use Seaborn's lmplot to visualize the linear relationship between \"GrLivArea\" (x-axis) and \"SalePrice\" (y-axis) in the dataframe 'df'. The plot will also display a linear regression fit to the data points."
   ]
  },
  {
   "cell_type": "code",
   "execution_count": null,
   "id": "e1338c0c-5144-463f-b50d-7515f3ac3d9e",
   "metadata": {
    "id": "RSyTQZUkkTQe",
    "outputId": "8d500815-19a1-4459-f00a-4ade79d14052"
   },
   "outputs": [],
   "source": [
    "sns.lmplot(data=df,\n",
    "            x='GrLivArea',\n",
    "            y='SalePrice')"
   ]
  },
  {
   "cell_type": "markdown",
   "id": "312f70fa-d00d-4150-b81b-5079d3d8078f",
   "metadata": {},
   "source": [
    "\n",
    "Using Seaborn's lmplot to visualize the linear relationship between \"GrLivArea\" (x-axis) and \"SalePrice\" (y-axis) in the dataframe 'df'. The data points are colored based on the \"CentralAir\" column to differentiate between houses with and without central air conditioning. The plot will also display separate linear regression fits for each \"CentralAir\" category."
   ]
  },
  {
   "cell_type": "code",
   "execution_count": null,
   "id": "195dc880-e486-4e1d-b9b9-54b3672fb80a",
   "metadata": {},
   "outputs": [],
   "source": [
    "sns.lmplot(data=df,\n",
    "            x='GrLivArea',\n",
    "            y='SalePrice',\n",
    "            hue='CentralAir')"
   ]
  },
  {
   "cell_type": "markdown",
   "id": "a7411aa5-3ea5-45c8-8c6d-3a1f604c8f53",
   "metadata": {},
   "source": [
    "### Line Plots\n",
    "Connects individual data points with lines. A line plot is particularly useful for visualizing data over time. "
   ]
  },
  {
   "cell_type": "markdown",
   "id": "f92879bd-7ce0-4a54-966e-83d713c8ef06",
   "metadata": {},
   "source": [
    "In the dataset, variables such as `YearBuilt` (original construction date) and `YearRemodAdd` (remodel date) are indicative of time. \n",
    "\n",
    "Let's visualize the average `SalePrice` over the years based on the `YearBuilt` variable. This will help us understand how the average price of houses has trended over the years they were built.\n",
    "\n",
    "Here's a line plot that visualizes the median `SalePrice` of houses based on their construction year (`YearBuilt`)."
   ]
  },
  {
   "cell_type": "code",
   "execution_count": null,
   "id": "008590da-ffeb-4c98-a686-375a782be711",
   "metadata": {},
   "outputs": [],
   "source": [
    "# Plotting a line graph to visualize the trend of average 'SalePrice' across different 'YearBuilt'\n",
    "plt.figure(figsize=(14, 7))\n",
    "sns.lineplot(data=df, x='YearBuilt', y='SalePrice', ci=None)\n",
    "plt.title('Average Sale Price over Years of Construction')\n",
    "plt.grid(True, which='both', linestyle='--', linewidth=0.5)"
   ]
  },
  {
   "cell_type": "markdown",
   "id": "d9b0ca6e-b944-42b7-835e-45e2cfdf587d",
   "metadata": {},
   "source": [
    "**Insights:**\n",
    "\n",
    "  \n",
    "- **Recent Years**: There's a noticeable increase in median sale price for houses built in more recent years.\n",
    "\n",
    "- **General Trend**: There's a clear upward trend in the average sale price over the years. This is expected due to inflation and increasing property values.\n",
    "\n",
    "- **Variability**: There are certain years, especially earlier ones, where the average sale price seems to dip or spike. This could be due to a lower number of observations for those years, economic factors, or specific characteristics of the houses built during those times.\n",
    "\n",
    "\n",
    "Using the median as a measure of central tendency can be especially beneficial in datasets with outliers, as it provides a more robust representation of the typical data point."
   ]
  },
  {
   "cell_type": "markdown",
   "id": "c1543f6e-828e-4cac-9d88-7f5fdeee2755",
   "metadata": {},
   "source": [
    "### QQ Plot\n",
    "\n",
    "The Quantile-Quantile (QQ) plot is a graphical tool to help us assess if a dataset follows a particular theoretical distribution. \n",
    "- **Straight Line Alignment**: If the data points (the blue dots) closely follow the red straight line (which represents the standard normal distribution), it suggests that the data is approximately normally distributed.\n",
    "\n",
    "- **Deviations from the Line**: Deviations of the data points from the red line, especially if systematic, indicate deviations from normality."
   ]
  },
  {
   "cell_type": "markdown",
   "id": "d8b24399-8c8e-4ce8-bc28-9a0107f01e78",
   "metadata": {},
   "source": [
    "Let's generate a QQ plot that compares the quantiles of the `SalePrice` data to the quantiles of a standard normal distribution. "
   ]
  },
  {
   "cell_type": "code",
   "execution_count": null,
   "id": "8ebfc57d-11d7-40fb-82b9-12c49381d7dc",
   "metadata": {},
   "outputs": [],
   "source": [
    "import statsmodels.api as sm\n",
    "\n",
    "# Generating a Q-Q plot for 'SalePrice' to check if its distribution follows a normal distribution\n",
    "sm.qqplot(df['SalePrice'], line='s');"
   ]
  },
  {
   "cell_type": "markdown",
   "id": "6d949726-94e3-459e-a247-514c77768eb9",
   "metadata": {},
   "source": [
    "From the QQ plot of `SalePrice`:\n",
    "- **Lower Tail**: In the lower tail (left side of the plot), the data points lie below the red line. This indicates that the distribution of `SalePrice` has heavier tails on the lower side than the normal distribution.\n",
    "- **Upper Tail**: In the upper tail (right side of the plot), the data points deviate significantly from the red line, suggesting a long tail or skewness to the right. This indicates that there are more extreme high values in `SalePrice` than would be expected in a normal distribution.\n",
    "- **Central Portion**: The central portion of the data points doesn't align perfectly with the line, suggesting possible deviations from normality in the main body of the distribution as well.\n",
    "\n",
    "**Conclusion:**\n",
    "\n",
    "The `SalePrice` data is not normally distributed. It appears to be right-skewed with potential outliers on the higher end and has heavier tails than a normal distribution. This could influence decisions about data transformations or the types of statistical methods applied to the data. For instance, a log transformation could be considered to address the skewness and make the data more normally distributed."
   ]
  },
  {
   "cell_type": "markdown",
   "id": "ca244612-97fd-43e8-b2bd-1084b3552638",
   "metadata": {},
   "source": [
    "---"
   ]
  },
  {
   "cell_type": "markdown",
   "id": "a0a21d02-dc23-44b2-897d-1c84fa90ee20",
   "metadata": {
    "toc-hr-collapsed": true
   },
   "source": [
    "## 💡 Check for understanding"
   ]
  },
  {
   "cell_type": "markdown",
   "id": "f23f4a97-1aea-4483-b3d9-fabc491fd215",
   "metadata": {},
   "source": [
    "**Scenario**:\n",
    "Given the 'GrLivArea' column (above-ground living area in square feet) and 'SaleCondition' (condition of sale), let's analyze the distribution of living area sizes based on different sale conditions.\n",
    "\n",
    "**Tasks**:\n",
    "\n",
    "1. **Data Aggregation**:\n",
    "    - Create a frequency table for 'SaleCondition' to see the distribution of different sale conditions.\n",
    "    - Calculate the mean, median, and standard deviation of 'GrLivArea' for each sale condition.\n",
    "\n",
    "2. **Visualization**:\n",
    "    - Plot a box plot for 'GrLivArea', categorized by 'SaleCondition'. This will help visualize the central tendencies and spreads for each sale condition.\n",
    "    - Plot a histogram for 'GrLivArea' of houses with a 'SaleCondition' of \"Abnormal\" to understand the distribution of living areas for houses with abnormal sale conditions.\n",
    "\n",
    "3. **Interpretation**:\n",
    "    - Which sale condition has the highest median living area?\n",
    "    - Are there any noticeable outliers in the box plot? If so, in which sale conditions are they more prevalent?\n",
    "    - Based on the histogram for 'Abnormal' sale conditions, how would you describe the distribution of the living area?"
   ]
  },
  {
   "cell_type": "code",
   "execution_count": null,
   "id": "e7e4b166-a017-4920-9aa8-4bdb24b7de8e",
   "metadata": {},
   "outputs": [],
   "source": [
    "# Your code goes here"
   ]
  },
  {
   "cell_type": "markdown",
   "id": "65cc31b4-e8e2-4901-820a-3a35a77674be",
   "metadata": {
    "tags": [],
    "toc-hr-collapsed": true
   },
   "source": [
    "## 💡 Check for understanding"
   ]
  },
  {
   "cell_type": "markdown",
   "id": "d116d535-7e74-42c4-917a-06fe21629e11",
   "metadata": {},
   "source": [
    "Tukey's test for outliers involves using the interquartile range (IQR) to determine if values are outliers. While there isn't a direct \"Tukey's test\" function in Python's standard libraries, you can easily compute it using the IQR.\n",
    "\n",
    "Here's how you can perform Tukey's test for outliers:\n",
    "\n",
    "1. Calculate the first quartile (Q1) and third quartile (Q3) for the data.\n",
    "2. Compute the interquartile range: \\( \\text{IQR} = Q3 - Q1 \\).\n",
    "3. Identify outliers:\n",
    "   - Values less than \\( Q1 - 1.5 \\times \\text{IQR} \\)\n",
    "   - Values greater than \\( Q3 + 1.5 \\times \\text{IQR} \\)\n",
    "\n",
    "Here's a Python function that implements Tukey's test for outliers:"
   ]
  },
  {
   "cell_type": "code",
   "execution_count": null,
   "id": "ef44b026-ba81-4917-ae5d-787a6d4e1e5f",
   "metadata": {},
   "outputs": [],
   "source": [
    "def tukeys_test_outliers(data):\n",
    "    Q1 = data.quantile(0.25)\n",
    "    Q3 = data.quantile(0.75)\n",
    "    IQR = Q3 - Q1\n",
    "    \n",
    "    # Define bounds for the outliers\n",
    "    lower_bound = Q1 - 1.5 * IQR\n",
    "    upper_bound = Q3 + 1.5 * IQR\n",
    "    \n",
    "    # Identify the outliers\n",
    "    outliers = data[(data < lower_bound) | (data > upper_bound)]\n",
    "    \n",
    "    return outliers"
   ]
  },
  {
   "cell_type": "markdown",
   "id": "188f0463-5989-46f8-87db-a9f6f0537aab",
   "metadata": {},
   "source": [
    "\n",
    "```python\n",
    "# Example usage:\n",
    "data_series = df['ColumnName']  # replace 'ColumnName' with your specific column\n",
    "outliers = tukeys_test_outliers(data_series)\n",
    "print(outliers)\n",
    "```\n",
    "\n",
    "This function returns the values in the data that are considered outliers according to Tukey's method."
   ]
  },
  {
   "cell_type": "markdown",
   "id": "7a8f772e-2913-4459-a7bf-fb8ba4a45dd4",
   "metadata": {},
   "source": [
    "If you want to **modify the outlier values**, you can replace them with a specific value, such as the median, or the bounds defined by Tukey's method.\n",
    "\n",
    "If you wish to **delete the outliers**, you can simply filter them out.\n",
    "\n",
    "Implement these three approaches modifying the function above."
   ]
  },
  {
   "cell_type": "code",
   "execution_count": null,
   "id": "02568922-2a1e-4fbb-90d8-3256f99aafe2",
   "metadata": {},
   "outputs": [],
   "source": [
    "# Your code goes here"
   ]
  }
 ],
 "metadata": {
  "kernelspec": {
   "display_name": "Python 3 (ipykernel)",
   "language": "python",
   "name": "python3"
  },
  "language_info": {
   "codemirror_mode": {
    "name": "ipython",
    "version": 3
   },
   "file_extension": ".py",
   "mimetype": "text/x-python",
   "name": "python",
   "nbconvert_exporter": "python",
   "pygments_lexer": "ipython3",
   "version": "3.9.13"
  }
 },
 "nbformat": 4,
 "nbformat_minor": 5
}
