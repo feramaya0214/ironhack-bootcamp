{
 "cells": [
  {
   "cell_type": "markdown",
   "id": "3e097eb7-fc44-4820-82d3-1559fd57c8d6",
   "metadata": {
    "tags": []
   },
   "source": [
    "# Exploratory Data Analysis (EDA) with Housing Price Dataset (Part II - Bivariate Analysis)\n"
   ]
  },
  {
   "cell_type": "markdown",
   "id": "486766fc-e62b-45eb-b4ff-38f17736093a",
   "metadata": {},
   "source": [
    "Bivariate analysis is the simultaneous analysis of two variables (attributes). It helps to understand the relationships and patterns between these variables. Depending on the types of variables being analyzed, various techniques and visualizations can be employed."
   ]
  },
  {
   "cell_type": "markdown",
   "id": "aa6950bf-10ea-4241-890f-40455170dd87",
   "metadata": {},
   "source": [
    "- Categorical (incl. Discrete numerical) VS Categorical\n",
    "    - Crosstab\n",
    "    - Chi-square tests, Cramér's V\n",
    "    - Visualization: \n",
    "        - Stacked or grouped bar charts\n",
    "        - Frequency heat maps\n",
    "    \n",
    "- Categorical VS Continuous\n",
    "    - Visualization: \n",
    "        - Violin Plots\n",
    "        - Bar Charts\n",
    "        - Side by side Box Plots\n",
    "\n",
    "- Continuous VS Continuous\n",
    "    - Correlation coefficients\n",
    "    - Visualization: \n",
    "        - Scatter plots\n",
    "        - Line plots\n",
    "        - Correlation Heatmaps\n",
    "        - QQ Plot\n"
   ]
  },
  {
   "cell_type": "markdown",
   "id": "732a98ae-e26f-4dc9-979e-48e0bfaed814",
   "metadata": {},
   "source": [
    "## Loading and preparing the data"
   ]
  },
  {
   "cell_type": "code",
   "execution_count": null,
   "id": "a24a189e-9d1d-4d12-bc5c-33f50c4de1a0",
   "metadata": {},
   "outputs": [],
   "source": [
    "import pandas as pd\n",
    "import matplotlib.pyplot as plt\n",
    "import seaborn as sns\n",
    "import numpy as np\n",
    "\n",
    "%matplotlib inline"
   ]
  },
  {
   "cell_type": "code",
   "execution_count": null,
   "id": "198e6c16-b2a9-48e2-a436-f45846226e23",
   "metadata": {},
   "outputs": [],
   "source": [
    "# Loading the housing price dataset (assuming the file name is \"housing_price.csv\")\n",
    "df = pd.read_csv(\"https://raw.githubusercontent.com/data-bootcamp-v4/data/main/housing_price_eda.csv\")"
   ]
  },
  {
   "cell_type": "code",
   "execution_count": null,
   "id": "b29ac673-33e7-4286-a4cb-300ba9f44ddc",
   "metadata": {
    "id": "PybQfXbPkTQS"
   },
   "outputs": [],
   "source": []
  },
  {
   "cell_type": "markdown",
   "id": "a7280986-5b3e-4de4-b797-f043f5e4a82f",
   "metadata": {},
   "source": [
    "## Categorical (incl. Discrete numerical) VS Categorical"
   ]
  },
  {
   "cell_type": "markdown",
   "id": "5cef8dae-2c41-4243-b159-4e9596ff61e1",
   "metadata": {},
   "source": [
    "Let's explore the concept of **analyzing relationships between categorical variables**. We'll do so using statistical tests such as the **chi-square (χ²) test and Cramer's V**, and using visualization tools such as stacked or grouped bar charts. "
   ]
  },
  {
   "cell_type": "markdown",
   "id": "ae455d04-312f-4e7d-8ba7-daa49f08a9af",
   "metadata": {},
   "source": [
    "### Crosstab\n",
    "A table showing the frequency of occurrences for combinations of two categorical variables."
   ]
  },
  {
   "cell_type": "markdown",
   "id": "51ce03ed-f271-4f79-83c6-6cb9f00ee012",
   "metadata": {},
   "source": [
    "We'll begin by creating a crosstab between 'MSZoning' and 'SaleCondition' to observe the interaction between these two categorical variables."
   ]
  },
  {
   "cell_type": "code",
   "execution_count": null,
   "id": "d7294cee-a4dd-4bb8-8d0a-467ea77c6af2",
   "metadata": {},
   "outputs": [],
   "source": []
  },
  {
   "cell_type": "markdown",
   "id": "5c321b32-4872-4de1-8930-0a82cd24348f",
   "metadata": {},
   "source": [
    "### Chi-square tests\n",
    "Tests the independence of two categorical variables by comparing observed frequencies to expected frequencies.\n",
    "\n",
    "    - The chi-square test is a statistical test used to **determine whether there is a significant association between two categorical variables**. \n",
    "    - Interpretation: if p-value < 0.05, this suggests that there is a significant association between the categorical variables. P-value >= 0.05, indicates that there is not enough evidence to conclude a significant association between the variables. \n"
   ]
  },
  {
   "cell_type": "markdown",
   "id": "98aadb83-36a1-45e5-8497-9607691f15fc",
   "metadata": {},
   "source": [
    "Let's perform a Chi-square test for `MSZoning` and `SaleCondition` to determine if they are independent."
   ]
  },
  {
   "cell_type": "code",
   "execution_count": null,
   "id": "5be42d65-ce86-4785-866c-99f26b424cfd",
   "metadata": {},
   "outputs": [],
   "source": []
  },
  {
   "cell_type": "markdown",
   "id": "f66399b5-794d-4f13-ab16-2b825cf06742",
   "metadata": {},
   "source": [
    "### Cramér's V\n",
    "\n",
    "While the Chi-square test informs us about the independence of two categorical variables, Cramér's V measures the strength of the association between them. \n",
    "\n",
    "    - Cramer's V is a measure of association used to **quantify the strength of the relationship between categorical variables**. \n",
    "    - Interpretation: Cramer's V ranges from 0 to 1, where **0 indicates no association, and 1 represents a perfect association between the variables**. A higher value of Cramer's V indicates a stronger relationship between the categorical variables."
   ]
  },
  {
   "cell_type": "markdown",
   "id": "e9cc38e5-43c4-49ac-a4a3-6bf5b73f2b20",
   "metadata": {},
   "source": [
    "Let's compute Cramér's V for `MSZoning` and `SaleCondition` to measure the strength of their association."
   ]
  },
  {
   "cell_type": "code",
   "execution_count": null,
   "id": "07e84d78-3430-4dba-ba38-e46c0116455a",
   "metadata": {},
   "outputs": [],
   "source": []
  },
  {
   "cell_type": "markdown",
   "id": "ab5ae93c-275e-40ab-8865-c3e360ac5c12",
   "metadata": {},
   "source": [
    "### Stacked and grouped bar charts\n",
    "Visualizes the frequency or proportion of categories between two categorical variables."
   ]
  },
  {
   "cell_type": "code",
   "execution_count": null,
   "id": "5aecd178-1f89-4966-b556-2aa50b49565b",
   "metadata": {},
   "outputs": [],
   "source": []
  },
  {
   "cell_type": "markdown",
   "id": "b58d58ec-9121-49ea-8c28-f0eed54e01c5",
   "metadata": {},
   "source": [
    "Let's look now at a grouped bar chart for the same columns:"
   ]
  },
  {
   "cell_type": "code",
   "execution_count": null,
   "id": "92d2cd46-a34b-4784-aec0-0cada813df85",
   "metadata": {},
   "outputs": [],
   "source": []
  },
  {
   "cell_type": "markdown",
   "id": "d185aed1-69a0-4bd8-9f78-d6bed953ea20",
   "metadata": {},
   "source": [
    "#### Seaborn visualizations and Hue"
   ]
  },
  {
   "cell_type": "markdown",
   "id": "bd6d96d6-d3eb-423b-a65e-7d4c1df5237e",
   "metadata": {},
   "source": [
    "There are a couple of Seaborn visualizations that allow us to add a categorical variable in the parameter `hue`. By using the `hue` parameter, we can add another dimension of information to our plots. "
   ]
  },
  {
   "cell_type": "markdown",
   "id": "374814a6-60aa-4fe4-aa55-8440b7438046",
   "metadata": {},
   "source": [
    "### Frequency heat maps\n",
    "Displays frequencies using color gradients for combinations of two categorical variables."
   ]
  },
  {
   "cell_type": "code",
   "execution_count": null,
   "id": "b4b45a44-c9b8-4c09-81e8-fb45be4afda0",
   "metadata": {},
   "outputs": [],
   "source": []
  },
  {
   "cell_type": "markdown",
   "id": "b6ca9c75-138a-4d9f-8a56-37caac2dfd88",
   "metadata": {},
   "source": [
    "---"
   ]
  },
  {
   "cell_type": "markdown",
   "id": "91c8f268-eb42-4702-902a-e8893fb31022",
   "metadata": {},
   "source": [
    "## Categorical VS Continuous"
   ]
  },
  {
   "cell_type": "markdown",
   "id": "2bc2b959-3f29-4060-a64d-52a3aa9c6b9c",
   "metadata": {},
   "source": [
    "We'll use the `MSZoning` as our categorical variable and `SalePrice` as our continuous variable."
   ]
  },
  {
   "cell_type": "markdown",
   "id": "ed14f6ce-d20e-4d4a-a49b-feb68d4e48b8",
   "metadata": {},
   "source": [
    "### Violin Plots\n",
    "Combines a box plot with a kernel density plot to show the distribution of a continuous variable for each category."
   ]
  },
  {
   "cell_type": "markdown",
   "id": "f7a8e86e-c49c-4a57-81fe-7936c86fbdb9",
   "metadata": {},
   "source": [
    "The violin plot below will provide a combined view of the distribution of `SalePrice` for each zoning category:"
   ]
  },
  {
   "cell_type": "code",
   "execution_count": null,
   "id": "3efb7d4c-b5b6-4cb4-b061-f905d4252724",
   "metadata": {},
   "outputs": [],
   "source": []
  },
  {
   "cell_type": "markdown",
   "id": "ca706437-e780-471a-a685-95489dd8ea0a",
   "metadata": {},
   "source": [
    "### Bar Charts\n",
    "Shows the mean (or another measure of central tendency) of the continuous variable for each category."
   ]
  },
  {
   "cell_type": "markdown",
   "id": "6c34db32-6d53-461a-8cc7-cced5dda2647",
   "metadata": {},
   "source": [
    "This will show the mean (or another measure of central tendency) of the `SalePrice` for each zoning category."
   ]
  },
  {
   "cell_type": "code",
   "execution_count": null,
   "id": "48a38adb-754b-4b41-8988-d3780c30553c",
   "metadata": {},
   "outputs": [],
   "source": []
  },
  {
   "cell_type": "markdown",
   "id": "11ecb3d2-72fe-4aad-8a64-585fec185481",
   "metadata": {},
   "source": [
    "### Side by side Box Plots\n",
    "\n",
    "Box plots are a great way to visualize the distribution of a continuous variable across different categories. They show the median, quartiles, and potential outliers, providing a quick snapshot of the data's spread and central tendency."
   ]
  },
  {
   "cell_type": "markdown",
   "id": "d38dd005-69eb-4c8b-a183-287ab821c2a2",
   "metadata": {},
   "source": [
    "Let's visualize the distribution of `SalePrice` for each zoning category using side-by-side box plots. This will help us understand the spread, median, and potential outliers for each category."
   ]
  },
  {
   "cell_type": "code",
   "execution_count": null,
   "id": "ccd2d324-9a4d-43ee-9aec-07cfa5e3584a",
   "metadata": {},
   "outputs": [],
   "source": []
  },
  {
   "cell_type": "markdown",
   "id": "bd897592-3658-41b0-a41e-96ca9fc339d2",
   "metadata": {},
   "source": [
    "---"
   ]
  },
  {
   "cell_type": "markdown",
   "id": "b618dee8-53bc-458b-8bfe-c877c2cf6087",
   "metadata": {},
   "source": [
    "## Continuous VS Continuous"
   ]
  },
  {
   "cell_type": "markdown",
   "id": "2a6274cb-9b33-4aba-9393-2d774fd0ca1c",
   "metadata": {},
   "source": [
    "For this Continuous VS Continuous analysis, let's focus on two continuous variables: `SalePrice` and `GrLivArea` (Above grade (ground) living area square feet). These two variables are often of interest in housing datasets as they represent the sale price and the living area of a house, respectively."
   ]
  },
  {
   "cell_type": "markdown",
   "id": "e4a10068-9a37-4585-89ca-10f899b00415",
   "metadata": {},
   "source": [
    "### Correlation coefficients\n",
    "Quantifies the strength and direction of the relationship between two continuous variables."
   ]
  },
  {
   "cell_type": "markdown",
   "id": "f6a9a518-2967-49bd-9ec5-eefa399f1cae",
   "metadata": {},
   "source": [
    "We'll begin by calculating the Pearson correlation coefficient between `SalePrice` and `GrLivArea` to quantify their linear relationship."
   ]
  },
  {
   "cell_type": "code",
   "execution_count": null,
   "id": "4c5e8cc6-658d-4ffa-a501-ae940d9aefd5",
   "metadata": {},
   "outputs": [],
   "source": []
  },
  {
   "cell_type": "markdown",
   "id": "8094e516-a863-42ac-bf69-488620c5a1cc",
   "metadata": {},
   "source": [
    "Let's check the Spearman correlation coefficient between `SalePrice` and `GrLivArea`."
   ]
  },
  {
   "cell_type": "code",
   "execution_count": null,
   "id": "9283160d-0121-4a84-b707-a57db040ba63",
   "metadata": {},
   "outputs": [],
   "source": []
  },
  {
   "cell_type": "markdown",
   "id": "e33f70b5-a917-456e-a56e-a50734b2d4ce",
   "metadata": {},
   "source": [
    "Let's calculate the Spearman correlation coefficients between `SalePrice` and all other numerical variables:"
   ]
  },
  {
   "cell_type": "code",
   "execution_count": null,
   "id": "bbe49d79-8f7c-4af8-aec3-e75d848f538c",
   "metadata": {},
   "outputs": [],
   "source": []
  },
  {
   "cell_type": "markdown",
   "id": "be9356e3-cf17-470a-861d-58ae754c5893",
   "metadata": {},
   "source": [
    "**CAUTION!** The fact that correlation is zero does not mean there are no patterns. It means there is no linear or monotonic relationship."
   ]
  },
  {
   "cell_type": "markdown",
   "id": "2dc4b181-9eb6-42ae-b13a-e417b3d671f2",
   "metadata": {},
   "source": [
    "### Correlation Heatmaps\n",
    "Visualizes correlation coefficients between pairs of continuous variables using color gradients."
   ]
  },
  {
   "cell_type": "code",
   "execution_count": null,
   "id": "d5839275-d7cf-45cd-954d-b5025d329897",
   "metadata": {},
   "outputs": [],
   "source": []
  },
  {
   "cell_type": "markdown",
   "id": "e603c920-a015-4c18-bb31-cdff6bd5b9e4",
   "metadata": {},
   "source": [
    "We could also just do the Heatmap for those variables more correlated with SalePrice according to Spearman correlation coefficient."
   ]
  },
  {
   "cell_type": "markdown",
   "id": "7e951561-4ccb-412b-b316-cdaaa2729f4c",
   "metadata": {},
   "source": [
    "### Scatter plots\n",
    "Plots individual data points based on their values for two continuous variables to visualize relationships."
   ]
  },
  {
   "cell_type": "code",
   "execution_count": null,
   "id": "937bcbf1-2f96-4cb6-8cc4-436e8bfca2e0",
   "metadata": {},
   "outputs": [],
   "source": []
  },
  {
   "cell_type": "markdown",
   "id": "da4ce173-1b40-42d0-b9f9-79f4993376f2",
   "metadata": {
    "id": "YUTRUaVRkTQe"
   },
   "source": [
    "#### Seaborn Joint Plot"
   ]
  },
  {
   "cell_type": "markdown",
   "id": "8f34abe4-a2c6-4639-8af4-3ef6ea35c727",
   "metadata": {},
   "source": [
    "`sns.jointplot` is used to create a multi-panel figure that displays a bivariate (two-variable) relationship between two columns of a dataset along with the univariate (single-variable) distribution of each on separate axes."
   ]
  },
  {
   "cell_type": "code",
   "execution_count": null,
   "id": "189e8ecf-273d-459b-a6ec-8f5e68088702",
   "metadata": {
    "id": "ToCsOBvbkTQe",
    "outputId": "b2ac5ae3-4979-4f6f-e6b0-71720e4ffd54"
   },
   "outputs": [],
   "source": []
  },
  {
   "cell_type": "markdown",
   "id": "be8b9b7d-7e39-4113-a8df-b70589b5575c",
   "metadata": {
    "id": "RwpLiBMJkTQe"
   },
   "source": [
    "#### Seaborn Pairplot"
   ]
  },
  {
   "cell_type": "markdown",
   "id": "b0fce4d0-ed95-43e2-907a-edef22fc147c",
   "metadata": {},
   "source": [
    "`sns.pairplot()` is a function provided by the Seaborn library in Python to create a grid of scatter plots and histograms/KDEs for pairwise relationships in a dataset.\n",
    "\n",
    "- **Pairwise Scatter Plots**: For each pair of numeric variables in the dataset, a scatter plot is created to visualize their relationship. This helps in spotting any linear or non-linear correlations between variables.\n",
    "- **Histograms or KDE**: On the diagonal of the grid, sns.pairplot displays histograms (by default) or kernel density estimates (if specified) to show the univariate distribution of each variable.\n",
    "- **Color by Categories**: You can use the hue parameter to color the data points based on a categorical variable. This can help in understanding how categories might affect relationships between numeric variables."
   ]
  },
  {
   "cell_type": "markdown",
   "id": "91ced048-90c3-4ed2-978f-6ce0373529c5",
   "metadata": {},
   "source": [
    "Let's visualize the pairwise relationship and distributions for \"SalePrice\" and \"GrLivArea\" using Seaborn's pairplot."
   ]
  },
  {
   "cell_type": "code",
   "execution_count": null,
   "id": "a417ade4-53f3-405e-9079-7bea8e86cf2a",
   "metadata": {
    "id": "wlSyDrC1kTQe",
    "outputId": "d24a5f5d-2ab4-4668-9f08-47795e843850"
   },
   "outputs": [],
   "source": []
  },
  {
   "cell_type": "markdown",
   "id": "7dca2a02-9027-46a0-9766-09c80f2cbe9f",
   "metadata": {
    "id": "4FhVd29nkTQe"
   },
   "source": [
    "#### Seaborn lmplot"
   ]
  },
  {
   "cell_type": "markdown",
   "id": "54102df7-ada0-4d58-9b91-71a44888159b",
   "metadata": {},
   "source": [
    "**Scatter Plot with Regression Line**: By default, it displays a scatter plot of two variables along with a linear regression fit."
   ]
  },
  {
   "cell_type": "markdown",
   "id": "c5097147-093e-4162-a571-3e6b688f223d",
   "metadata": {},
   "source": [
    "- **Color by Categories**: You can use the hue parameter to color the data points based on a categorical variable. This can help in understanding how categories might affect relationships between numeric variables."
   ]
  },
  {
   "cell_type": "markdown",
   "id": "adfed955-9058-4c7f-902f-37c9dcc9ed38",
   "metadata": {},
   "source": [
    "We'll use Seaborn's lmplot to visualize the linear relationship between \"GrLivArea\" (x-axis) and \"SalePrice\" (y-axis) in the dataframe 'df'. The plot will also display a linear regression fit to the data points."
   ]
  },
  {
   "cell_type": "code",
   "execution_count": null,
   "id": "e1338c0c-5144-463f-b50d-7515f3ac3d9e",
   "metadata": {
    "id": "RSyTQZUkkTQe",
    "outputId": "8d500815-19a1-4459-f00a-4ade79d14052"
   },
   "outputs": [],
   "source": []
  },
  {
   "cell_type": "markdown",
   "id": "a7411aa5-3ea5-45c8-8c6d-3a1f604c8f53",
   "metadata": {},
   "source": [
    "### Line plots\n",
    "Connects individual data points with lines. A line plot is particularly useful for visualizing data over time. "
   ]
  },
  {
   "cell_type": "markdown",
   "id": "f92879bd-7ce0-4a54-966e-83d713c8ef06",
   "metadata": {},
   "source": [
    "In the dataset, variables such as `YearBuilt` (original construction date) and `YearRemodAdd` (remodel date) are indicative of time. \n",
    "\n",
    "Let's visualize the average `SalePrice` over the years based on the `YearBuilt` variable. This will help us understand how the average price of houses has trended over the years they were built.\n",
    "\n",
    "Here's a line plot that visualizes the median `SalePrice` of houses based on their construction year (`YearBuilt`)."
   ]
  },
  {
   "cell_type": "code",
   "execution_count": null,
   "id": "008590da-ffeb-4c98-a686-375a782be711",
   "metadata": {},
   "outputs": [],
   "source": []
  },
  {
   "cell_type": "markdown",
   "id": "c1543f6e-828e-4cac-9d88-7f5fdeee2755",
   "metadata": {},
   "source": [
    "### QQ Plot\n",
    "\n",
    "The Quantile-Quantile (QQ) plot is a graphical tool to help us assess if a dataset follows a particular theoretical distribution. \n",
    "- **Straight Line Alignment**: If the data points (the blue dots) closely follow the red straight line (which represents the standard normal distribution), it suggests that the data is approximately normally distributed.\n",
    "\n",
    "- **Deviations from the Line**: Deviations of the data points from the red line, especially if systematic, indicate deviations from normality."
   ]
  },
  {
   "cell_type": "markdown",
   "id": "d8b24399-8c8e-4ce8-bc28-9a0107f01e78",
   "metadata": {},
   "source": [
    "Let's generate a QQ plot that compares the quantiles of the `SalePrice` data to the quantiles of a standard normal distribution. "
   ]
  },
  {
   "cell_type": "code",
   "execution_count": null,
   "id": "8ebfc57d-11d7-40fb-82b9-12c49381d7dc",
   "metadata": {},
   "outputs": [],
   "source": []
  },
  {
   "cell_type": "markdown",
   "id": "ca244612-97fd-43e8-b2bd-1084b3552638",
   "metadata": {},
   "source": [
    "---"
   ]
  },
  {
   "cell_type": "markdown",
   "id": "a0a21d02-dc23-44b2-897d-1c84fa90ee20",
   "metadata": {
    "toc-hr-collapsed": true
   },
   "source": [
    "## 💡 Check for understanding"
   ]
  },
  {
   "cell_type": "markdown",
   "id": "f23f4a97-1aea-4483-b3d9-fabc491fd215",
   "metadata": {},
   "source": [
    "**Scenario**:\n",
    "Given the 'GrLivArea' column (above-ground living area in square feet) and 'SaleCondition' (condition of sale), let's analyze the distribution of living area sizes based on different sale conditions.\n",
    "\n",
    "**Tasks**:\n",
    "\n",
    "1. **Data Aggregation**:\n",
    "    - Create a frequency table for 'SaleCondition' to see the distribution of different sale conditions.\n",
    "    - Calculate the mean, median, and standard deviation of 'GrLivArea' for each sale condition.\n",
    "\n",
    "2. **Visualization**:\n",
    "    - Plot a box plot for 'GrLivArea', categorized by 'SaleCondition'. This will help visualize the central tendencies and spreads for each sale condition.\n",
    "    - Plot a histogram for 'GrLivArea' of houses with a 'SaleCondition' of \"Abnormal\" to understand the distribution of living areas for houses with abnormal sale conditions.\n",
    "\n",
    "3. **Interpretation**:\n",
    "    - Which sale condition has the highest median living area?\n",
    "    - Are there any noticeable outliers in the box plot? If so, in which sale conditions are they more prevalent?\n",
    "    - Based on the histogram for 'Abnormal' sale conditions, how would you describe the distribution of the living area?"
   ]
  },
  {
   "cell_type": "code",
   "execution_count": null,
   "id": "e7e4b166-a017-4920-9aa8-4bdb24b7de8e",
   "metadata": {},
   "outputs": [],
   "source": [
    "# Your code goes here"
   ]
  },
  {
   "cell_type": "markdown",
   "id": "65cc31b4-e8e2-4901-820a-3a35a77674be",
   "metadata": {
    "tags": [],
    "toc-hr-collapsed": true
   },
   "source": [
    "## 💡 Check for understanding"
   ]
  },
  {
   "cell_type": "markdown",
   "id": "d116d535-7e74-42c4-917a-06fe21629e11",
   "metadata": {},
   "source": [
    "Tukey's test for outliers involves using the interquartile range (IQR) to determine if values are outliers. While there isn't a direct \"Tukey's test\" function in Python's standard libraries, you can easily compute it using the IQR.\n",
    "\n",
    "Here's how you can perform Tukey's test for outliers:\n",
    "\n",
    "1. Calculate the first quartile (Q1) and third quartile (Q3) for the data.\n",
    "2. Compute the interquartile range: \\( \\text{IQR} = Q3 - Q1 \\).\n",
    "3. Identify outliers:\n",
    "   - Values less than \\( Q1 - 1.5 \\times \\text{IQR} \\)\n",
    "   - Values greater than \\( Q3 + 1.5 \\times \\text{IQR} \\)\n",
    "\n",
    "Here's a Python function that implements Tukey's test for outliers:"
   ]
  },
  {
   "cell_type": "code",
   "execution_count": null,
   "id": "ef44b026-ba81-4917-ae5d-787a6d4e1e5f",
   "metadata": {},
   "outputs": [],
   "source": [
    "def tukeys_test_outliers(data):\n",
    "    Q1 = data.quantile(0.25)\n",
    "    Q3 = data.quantile(0.75)\n",
    "    IQR = Q3 - Q1\n",
    "    \n",
    "    # Define bounds for the outliers\n",
    "    lower_bound = Q1 - 1.5 * IQR\n",
    "    upper_bound = Q3 + 1.5 * IQR\n",
    "    \n",
    "    # Identify the outliers\n",
    "    outliers = data[(data < lower_bound) | (data > upper_bound)]\n",
    "    \n",
    "    return outliers"
   ]
  },
  {
   "cell_type": "markdown",
   "id": "188f0463-5989-46f8-87db-a9f6f0537aab",
   "metadata": {},
   "source": [
    "\n",
    "```python\n",
    "# Example usage:\n",
    "data_series = df['ColumnName']  # replace 'ColumnName' with your specific column\n",
    "outliers = tukeys_test_outliers(data_series)\n",
    "print(outliers)\n",
    "```\n",
    "\n",
    "This function returns the values in the data that are considered outliers according to Tukey's method."
   ]
  },
  {
   "cell_type": "markdown",
   "id": "7a8f772e-2913-4459-a7bf-fb8ba4a45dd4",
   "metadata": {},
   "source": [
    "If you want to **modify the outlier values**, you can replace them with a specific value, such as the median, or the bounds defined by Tukey's method.\n",
    "\n",
    "If you wish to **delete the outliers**, you can simply filter them out.\n",
    "\n",
    "Implement these three approaches modifying the function above."
   ]
  },
  {
   "cell_type": "code",
   "execution_count": null,
   "id": "02568922-2a1e-4fbb-90d8-3256f99aafe2",
   "metadata": {},
   "outputs": [],
   "source": [
    "# Your code goes here"
   ]
  }
 ],
 "metadata": {
  "kernelspec": {
   "display_name": "Python 3 (ipykernel)",
   "language": "python",
   "name": "python3"
  },
  "language_info": {
   "codemirror_mode": {
    "name": "ipython",
    "version": 3
   },
   "file_extension": ".py",
   "mimetype": "text/x-python",
   "name": "python",
   "nbconvert_exporter": "python",
   "pygments_lexer": "ipython3",
   "version": "3.9.13"
  }
 },
 "nbformat": 4,
 "nbformat_minor": 5
}
