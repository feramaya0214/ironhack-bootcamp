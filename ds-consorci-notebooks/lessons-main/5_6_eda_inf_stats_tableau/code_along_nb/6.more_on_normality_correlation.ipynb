{
 "cells": [
  {
   "cell_type": "markdown",
   "id": "ce5d173b-52f1-45be-a4c9-4ffe1e482b86",
   "metadata": {
    "tags": []
   },
   "source": [
    "# Hypothesis Testing in Exploratory Data Analysis (EDA): Correlations and Normality"
   ]
  },
  {
   "cell_type": "markdown",
   "id": "aaafd0a6-a7f5-41b3-95ef-a0bb297e294b",
   "metadata": {},
   "source": [
    "Let's look at how we use hypothesis testing to investigate areas that we examined in Exploratory Data Analysis (EDA) lessons. Hypothesis testing enables us to statistically evaluate relationships between variables and scrutinize their distributions with a more analytical approach.\n",
    "\n",
    "We'll start by applying hypothesis testing to relationships between variables, and then, we'll delve into examining distributions (specifically normality).\n",
    "\n",
    "We'll use the housing price dataset. "
   ]
  },
  {
   "cell_type": "code",
   "execution_count": null,
   "id": "15753599-d05e-4fc7-b8b3-e9989a61c99d",
   "metadata": {},
   "outputs": [],
   "source": [
    "import pandas as pd\n",
    "\n",
    "# Load the housing price dataset\n",
    "df = pd.read_csv(\"https://raw.githubusercontent.com/data-bootcamp-v4/data/main/housing_price_eda.csv\")"
   ]
  },
  {
   "cell_type": "markdown",
   "id": "861bc01f-cf1f-46e8-80f4-7ebe50255b9d",
   "metadata": {},
   "source": [
    "# Correlation"
   ]
  },
  {
   "cell_type": "markdown",
   "id": "d536006b-5483-44c1-8bee-0463fa75d091",
   "metadata": {},
   "source": [
    "During EDA, we often have certain presumptions about the data. For example, we might hypothesize that houses with larger 'LotArea' have higher 'SalePrice'. Hypothesis testing allows us to test these assumptions rigorously.\n",
    "\n",
    "To statistically test the relationship, we use correlation tests like Pearson's correlation test. The **null hypothesis is that there is no relationship between the two variables.**"
   ]
  },
  {
   "cell_type": "code",
   "execution_count": null,
   "id": "9ba51b72-4f27-44ba-bc37-3c3da4a8a5e8",
   "metadata": {},
   "outputs": [],
   "source": []
  },
  {
   "cell_type": "markdown",
   "id": "df0b0789-c1c7-48f7-be3e-8e1ec04298a2",
   "metadata": {},
   "source": [
    "# Normal Distribution"
   ]
  },
  {
   "cell_type": "markdown",
   "id": "763eea92-7516-4df5-b8fc-62f88c3ae005",
   "metadata": {},
   "source": [
    "Many statistical techniques assume that data is normally distributed. Checking for normality and applying necessary transformations to make data more \"normal\" can be crucial for the success of these techniques. "
   ]
  },
  {
   "cell_type": "markdown",
   "id": "f5f754ea-19b7-48cc-9edd-cd3d4bf151ff",
   "metadata": {},
   "source": [
    "Applications of Normality Tests (or other ways of checking for normality):\n",
    "\n",
    "1. **Assumption Testing**: Normality tests are employed to **assess the assumption of normality in various statistical techniques, such as t-tests, analysis of variance (ANOVA), linear regression, and others**. Violations of normality assumptions may require alternative approaches or data transformations.\n",
    "\n",
    "2. **Data Exploration**: Normality tests help analysts understand the distributional properties of the data they are working with. This information can **guide the selection of appropriate statistical methods and provide insights into the nature of the variables**."
   ]
  },
  {
   "cell_type": "markdown",
   "id": "14362126-991e-4093-bcf9-0415cd7fa99a",
   "metadata": {},
   "source": [
    "We'll be using the housing price datasets. Let's check the normality of the 'SalePrice',  'LotArea' and '1stFlrSF' columns and try a transformation if needed."
   ]
  },
  {
   "cell_type": "code",
   "execution_count": null,
   "id": "b41af2b6-a163-43ce-b4bc-655f7241797b",
   "metadata": {},
   "outputs": [],
   "source": []
  },
  {
   "cell_type": "markdown",
   "id": "f47243c6-c6b1-4b16-91a2-4224c9ccf78c",
   "metadata": {},
   "source": [
    "## Checking if data is normally distributed"
   ]
  },
  {
   "cell_type": "markdown",
   "id": "0f8eb747-831c-490c-ac86-c50f862b4685",
   "metadata": {},
   "source": [
    "Checking for normality can be done both visually (using histograms and Q-Q plots) and statistically using tests like the Kolmogorov-Smirnov (K-S) test, Shapiro-Wilk test, among others."
   ]
  },
  {
   "cell_type": "markdown",
   "id": "0a7e58bf-d496-44fa-84ad-a8fe62c2e875",
   "metadata": {},
   "source": [
    "**Visual Inspection:**\n",
    "- **Histogram**: A bell-shaped curve in a histogram is indicative of a normal distribution.\n",
    "- **Q-Q Plot**: In this plot, the quantiles of your data are plotted against the quantiles of a normal distribution. If the data is normally distributed, the points should roughly lie on the y=x line.\n",
    "- **Box Plots**: The symmetry of a box plot can give hints about data normality.\n",
    "\n",
    "**Statistical Tests:**\n",
    "\n",
    "- **Shapiro-Wilk Test**: This is a popular test for normality. A low p-value (typically p<0.05) indicates that the data is not normally distributed.\n",
    "- **Kolmogorov-Smirnov Test**: This test compares the cumulative distribution of your data to a normal distribution. Again, a low p-value suggests non-normality.\n",
    "\n",
    "**Descriptive Statistics:**\n",
    "- **Skewness and Kurtosis**: Skewness measures the asymmetry of the data distribution, while kurtosis measures the \"tailedness\". For a normal distribution, skewness should be close to 0 (indicating symmetry), and kurtosis should be close to 3. Should be used in conjunction with other methods.\n"
   ]
  },
  {
   "cell_type": "markdown",
   "id": "c79220d0-8ac8-4231-8fe4-630a186af2c8",
   "metadata": {},
   "source": [
    "### Histogram and Q-Q plot\n",
    "\n",
    "We'll visualize the distribution using a histogram and also use a Q-Q plot, which plots the quantiles of our data against the quantiles of a normal distribution."
   ]
  },
  {
   "cell_type": "markdown",
   "id": "f4a4b83d-191f-424f-a953-598f30d6f01d",
   "metadata": {},
   "source": [
    "#### SalePrice"
   ]
  },
  {
   "cell_type": "code",
   "execution_count": null,
   "id": "d1f4afe6-bab5-4368-a954-e7a30f3185e7",
   "metadata": {},
   "outputs": [],
   "source": []
  },
  {
   "cell_type": "markdown",
   "id": "89bcae18-d5b5-411a-a786-132b9a38e79e",
   "metadata": {},
   "source": [
    "#### LotArea"
   ]
  },
  {
   "cell_type": "code",
   "execution_count": null,
   "id": "1e6d556f-9bff-4be1-be37-57168e55ade6",
   "metadata": {},
   "outputs": [],
   "source": []
  },
  {
   "cell_type": "markdown",
   "id": "59f6bd88-d01e-4c49-98d0-4c84bc3ac5f8",
   "metadata": {},
   "source": [
    "#### 1stFlrSF"
   ]
  },
  {
   "cell_type": "code",
   "execution_count": null,
   "id": "eacffb8c-ba82-4e2c-a00d-7864640f39f9",
   "metadata": {},
   "outputs": [],
   "source": []
  },
  {
   "cell_type": "markdown",
   "id": "963bc0b8-9be5-46c6-9faa-02dcd804856f",
   "metadata": {},
   "source": [
    "### Hypothesis Testing"
   ]
  },
  {
   "cell_type": "markdown",
   "id": "f563fd88-1f41-4ef3-b29e-6bd9d979bf38",
   "metadata": {},
   "source": [
    "Perform hypothesis tests on variables like 'SalePrice', 'LotArea' and '1stFlrSF' to explore their distribution."
   ]
  },
  {
   "cell_type": "markdown",
   "id": "1d758a77-9f68-49d6-acf4-fb9459c55dc0",
   "metadata": {},
   "source": [
    "#### Kolmogorov-Smirnov (K-S) Test:\n",
    "The K-S test is a non-parametric test that compares the cumulative distribution function of the sample data to that of a specified theoretical distribution (like the normal distribution). The null hypothesis of the test is that the sample data follows the specified distribution."
   ]
  },
  {
   "cell_type": "markdown",
   "id": "5a683491-0210-4a5b-a3b5-3befec68fa6a",
   "metadata": {},
   "source": [
    "By conducting the Kolmogorov-Smirnov test, we can gain insights into the distributional properties of the variable and determine if it follows a normal distribution or not."
   ]
  },
  {
   "cell_type": "markdown",
   "id": "02e687e9-2eb9-4218-8a92-d6e83e167128",
   "metadata": {},
   "source": [
    "##### SalePrice"
   ]
  },
  {
   "cell_type": "code",
   "execution_count": null,
   "id": "9f5d4bc3-2f83-4481-ae6c-e6a2745c42d8",
   "metadata": {},
   "outputs": [],
   "source": []
  },
  {
   "cell_type": "markdown",
   "id": "26f50edb-4cc2-4496-b178-bdc578fcf7c4",
   "metadata": {},
   "source": [
    "##### LotArea"
   ]
  },
  {
   "cell_type": "code",
   "execution_count": null,
   "id": "d29ca38d-7bf2-4c54-bca8-393a033dff25",
   "metadata": {},
   "outputs": [],
   "source": []
  },
  {
   "cell_type": "markdown",
   "id": "b9d6bcd7-5422-4801-8efd-73b2fa11edb5",
   "metadata": {},
   "source": [
    "##### 1stFlrSF"
   ]
  },
  {
   "cell_type": "code",
   "execution_count": null,
   "id": "d1c100a5-4a55-47c5-bf62-6820e88967a2",
   "metadata": {},
   "outputs": [],
   "source": []
  },
  {
   "cell_type": "markdown",
   "id": "d506680a-e4cc-43ff-9b5e-eea33148a370",
   "metadata": {},
   "source": [
    "#### Shapiro-Wilk Test\n",
    "\n",
    "The Shapiro-Wilk test is another popular method to check for normality. Its null hypothesis is that the data follows a normal distribution. The Shapiro-Wilk test is known to be more appropriate for smaller sample sizes compared to the K-S test.\n",
    "\n",
    "We only need to perform one test, but we will show how the Shapiro-Wilk Test works anyways with SalePrice."
   ]
  },
  {
   "cell_type": "markdown",
   "id": "b273648c-5cec-49a1-9a03-89149816912a",
   "metadata": {},
   "source": [
    "##### SalePrice"
   ]
  },
  {
   "cell_type": "code",
   "execution_count": null,
   "id": "68746701-337b-41f1-99ef-6ac762f8550b",
   "metadata": {},
   "outputs": [],
   "source": []
  },
  {
   "cell_type": "markdown",
   "id": "e182cb4b-623d-406c-80e6-494e11a964da",
   "metadata": {},
   "source": [
    "## Transforming Data to Be Normally Distributed"
   ]
  },
  {
   "cell_type": "markdown",
   "id": "ccf7f39b-57ed-425a-b150-aedd5c004299",
   "metadata": {},
   "source": [
    "Transforming data to be approximately normal can aid in statistical analysis and modeling. \n",
    "\n",
    "**Log Transformation:**\n",
    "- Useful for data that shows exponential growth, like population or financial data.\n",
    "- Use when data is right-skewed.\n",
    "\n",
    "**Square Root Transformation:**\n",
    "- Moderates the impact of extreme values.\n",
    "- Suitable for data with mild skewness.\n",
    "\n",
    "**Box-Cox Transformation:**\n",
    "- Requires positive data values.\n",
    "- Automatically determines the best power transformation.\n"
   ]
  },
  {
   "cell_type": "markdown",
   "id": "deddd6b6-aaa9-411c-bee4-c03c28fc150b",
   "metadata": {},
   "source": [
    "#### Logaritmic Transformation"
   ]
  },
  {
   "cell_type": "markdown",
   "id": "2bfa315e-a35c-4fce-b10a-7114a8bf06d5",
   "metadata": {},
   "source": [
    "If the 'SalePrice' distribution seems non-normal, a common technique is to apply a logarithmic transformation to the data to make it more normal."
   ]
  },
  {
   "cell_type": "code",
   "execution_count": null,
   "id": "f3b6854e-20f0-42fd-92aa-f5c23352c08f",
   "metadata": {},
   "outputs": [],
   "source": []
  },
  {
   "cell_type": "markdown",
   "id": "b21d5b02-d98c-4402-961e-e57d00fa9260",
   "metadata": {},
   "source": [
    "#### Square Root Transformation"
   ]
  },
  {
   "cell_type": "markdown",
   "id": "9567b1b8-12fb-4a7c-a614-62253d78ac98",
   "metadata": {},
   "source": [
    "'1stFlrSF' could be a candidate for the Square Root transformation given its mild to moderate skewness."
   ]
  },
  {
   "cell_type": "code",
   "execution_count": null,
   "id": "efa0812a-eae4-4b5f-8272-65fb6f95f513",
   "metadata": {},
   "outputs": [],
   "source": []
  },
  {
   "cell_type": "markdown",
   "id": "79cf0006-4a36-46ed-aefa-8e5f88501a9b",
   "metadata": {},
   "source": [
    "#### Box-Cox Transformation"
   ]
  },
  {
   "cell_type": "markdown",
   "id": "3c6a16c9-485f-4955-80aa-2d70ad03a061",
   "metadata": {},
   "source": [
    "'LotArea' seems like a good candidate for the Box-Cox transformation due to its high skewness and positive values."
   ]
  },
  {
   "cell_type": "code",
   "execution_count": null,
   "id": "0565f8ee-7b7e-4548-acb4-f62ca0f9c74d",
   "metadata": {},
   "outputs": [],
   "source": []
  },
  {
   "cell_type": "markdown",
   "id": "7d4f0dd3-d2f5-4130-84a2-84e20518a45c",
   "metadata": {},
   "source": [
    "## After Transformation"
   ]
  },
  {
   "cell_type": "markdown",
   "id": "02513a5a-810b-4fcd-834d-481b8b60bbcf",
   "metadata": {},
   "source": [
    "- **Re-assess Distribution:** After applying a transformation, visually assess the distribution again using histograms and Q-Q plots.\n",
    "- **Statistical Testing:** Shapiro-Wilk or Kolmogorov-Smirnov tests can be used to statistically assess normality.\n",
    "Remember to reverse transformations (when needed) for interpretation.\n",
    "\n",
    "Always consider the underlying reasons for any non-normality, as transformations might not always be the best solution.\n",
    "\n",
    "Let's do it just for SalePrice."
   ]
  },
  {
   "cell_type": "code",
   "execution_count": null,
   "id": "46441ddd-cd90-4be4-8e61-ed803a669554",
   "metadata": {},
   "outputs": [],
   "source": []
  },
  {
   "cell_type": "markdown",
   "id": "b6bb33b7-12d9-4df0-a498-bc940a34ae32",
   "metadata": {},
   "source": [
    "Let's also check with Kolmogorov-Smirnov (K-S) Test."
   ]
  },
  {
   "cell_type": "code",
   "execution_count": null,
   "id": "3cdfedd7-2204-4ec7-b499-fd0d98f5b8b9",
   "metadata": {},
   "outputs": [],
   "source": []
  },
  {
   "cell_type": "markdown",
   "id": "71ca614f-799f-46d6-9dba-631bd84b679d",
   "metadata": {},
   "source": [
    "## 💡 Check for understanding"
   ]
  },
  {
   "cell_type": "markdown",
   "id": "282b40a9-f85b-4b90-8ed5-76a6d2585f40",
   "metadata": {},
   "source": [
    "- Do the after transformation checks for `LotArea` and `1stFlrSF`\n",
    "- Choose another numerical continuous variable from the dataset and check if it's normally distributed. If it's not, try transforming it so it becomes normally distributed, and check for normality again. Explain why you chose that variable and your results."
   ]
  },
  {
   "cell_type": "markdown",
   "id": "de72b014-82d5-49c7-8509-a7ad231c0829",
   "metadata": {},
   "source": [
    "## Note: Central Limit Theorem"
   ]
  },
  {
   "cell_type": "markdown",
   "id": "d1c6a182-e049-4b45-911d-c57cc21b0291",
   "metadata": {},
   "source": [
    "The CLT states that, regardless of the shape of the underlying population, the sampling distribution of the mean will approximate a normal distribution as the sample size grows larger (n > 30), assuming all samples are identical in size and are randomly sampled. \n",
    "\n",
    "1. **Large Sample Size & Individual Data Points**: Even with a large sample, the distribution of individual data points could still be non-normal. For instance, a dataset with millions of data points could still be heavily skewed or have extreme kurtosis.\n",
    "  \n",
    "2. **Large Sample Size & Averages of Samples**: If you're taking multiple samples from a population and calculating their averages, the distribution of those averages tends to be normal due to the CLT, even if the underlying population is not normal.\n",
    "\n",
    "3. **Practical Implications**: While the CLT is powerful, remember that many statistical tests and methods assume that the individual data points (not their means) are normally distributed. So, you can't bypass these assumptions simply because you have a large dataset."
   ]
  }
 ],
 "metadata": {
  "kernelspec": {
   "display_name": "Python 3 (ipykernel)",
   "language": "python",
   "name": "python3"
  },
  "language_info": {
   "codemirror_mode": {
    "name": "ipython",
    "version": 3
   },
   "file_extension": ".py",
   "mimetype": "text/x-python",
   "name": "python",
   "nbconvert_exporter": "python",
   "pygments_lexer": "ipython3",
   "version": "3.9.13"
  }
 },
 "nbformat": 4,
 "nbformat_minor": 5
}
